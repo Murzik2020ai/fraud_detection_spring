{
  "nbformat": 4,
  "nbformat_minor": 0,
  "metadata": {
    "colab": {
      "name": "fraud_detection_baseline.ipynb",
      "provenance": []
    },
    "kernelspec": {
      "name": "python3",
      "display_name": "Python 3"
    },
    "language_info": {
      "name": "python"
    },
    "widgets": {
      "application/vnd.jupyter.widget-state+json": {
        "133e696ee4874cdb985709cfc0a47516": {
          "model_module": "catboost-widget",
          "model_name": "CatboostWidgetModel",
          "model_module_version": "^1.0.0",
          "state": {
            "_dom_classes": [],
            "_model_module": "catboost-widget",
            "_model_module_version": "^1.0.0",
            "_model_name": "CatboostWidgetModel",
            "_view_count": null,
            "_view_module": "catboost-widget",
            "_view_module_version": "^1.0.0",
            "_view_name": "CatboostWidgetView",
            "data": {
              "catboost_info": {
                "path": "catboost_info",
                "name": "catboost_info",
                "content": {
                  "passed_iterations": 999,
                  "total_iterations": 1000,
                  "data": {
                    "iterations": [
                      {
                        "learn": [
                          0.6601570472
                        ],
                        "iteration": 0,
                        "passed_time": 11.2127305,
                        "remaining_time": 11201.51777,
                        "test": [
                          0.660334953
                        ]
                      },
                      {
                        "learn": [
                          0.6308559072
                        ],
                        "iteration": 1,
                        "passed_time": 21.42349026,
                        "remaining_time": 10690.32164,
                        "test": [
                          0.6311521251
                        ]
                      },
                      {
                        "learn": [
                          0.6021643017
                        ],
                        "iteration": 2,
                        "passed_time": 40.57541665,
                        "remaining_time": 13484.56347,
                        "test": [
                          0.6025671757
                        ]
                      },
                      {
                        "learn": [
                          0.5718590163
                        ],
                        "iteration": 3,
                        "passed_time": 51.01180299,
                        "remaining_time": 12701.93895,
                        "test": [
                          0.5722754454
                        ]
                      },
                      {
                        "learn": [
                          0.5454626714
                        ],
                        "iteration": 4,
                        "passed_time": 62.73082206,
                        "remaining_time": 12483.43359,
                        "test": [
                          0.5459781555
                        ]
                      },
                      {
                        "learn": [
                          0.520009367
                        ],
                        "iteration": 5,
                        "passed_time": 73.49030537,
                        "remaining_time": 12174.89392,
                        "test": [
                          0.5205380527
                        ]
                      },
                      {
                        "learn": [
                          0.4964459702
                        ],
                        "iteration": 6,
                        "passed_time": 84.2633707,
                        "remaining_time": 11953.36102,
                        "test": [
                          0.4970291512
                        ]
                      },
                      {
                        "learn": [
                          0.4724666972
                        ],
                        "iteration": 7,
                        "passed_time": 95.03374517,
                        "remaining_time": 11784.1844,
                        "test": [
                          0.4731629112
                        ]
                      },
                      {
                        "learn": [
                          0.4507503189
                        ],
                        "iteration": 8,
                        "passed_time": 105.8705144,
                        "remaining_time": 11657.51997,
                        "test": [
                          0.4515290652
                        ]
                      },
                      {
                        "learn": [
                          0.4291886559
                        ],
                        "iteration": 9,
                        "passed_time": 116.6755584,
                        "remaining_time": 11550.88028,
                        "test": [
                          0.4300298833
                        ]
                      },
                      {
                        "learn": [
                          0.4093408402
                        ],
                        "iteration": 10,
                        "passed_time": 127.4002111,
                        "remaining_time": 11454.43716,
                        "test": [
                          0.4102372243
                        ]
                      },
                      {
                        "learn": [
                          0.3914558554
                        ],
                        "iteration": 11,
                        "passed_time": 138.2280265,
                        "remaining_time": 11380.77418,
                        "test": [
                          0.3924223981
                        ]
                      },
                      {
                        "learn": [
                          0.3737270209
                        ],
                        "iteration": 12,
                        "passed_time": 148.9691675,
                        "remaining_time": 11310.19756,
                        "test": [
                          0.3747510375
                        ]
                      },
                      {
                        "learn": [
                          0.356247429
                        ],
                        "iteration": 13,
                        "passed_time": 159.7406893,
                        "remaining_time": 11250.30855,
                        "test": [
                          0.3573271359
                        ]
                      },
                      {
                        "learn": [
                          0.3395828484
                        ],
                        "iteration": 14,
                        "passed_time": 170.9316524,
                        "remaining_time": 11224.51184,
                        "test": [
                          0.3407121025
                        ]
                      },
                      {
                        "learn": [
                          0.3240806063
                        ],
                        "iteration": 15,
                        "passed_time": 181.7472285,
                        "remaining_time": 11177.45455,
                        "test": [
                          0.3252592026
                        ]
                      },
                      {
                        "learn": [
                          0.3087976722
                        ],
                        "iteration": 16,
                        "passed_time": 192.5680363,
                        "remaining_time": 11134.96351,
                        "test": [
                          0.310012889
                        ]
                      },
                      {
                        "learn": [
                          0.2948042391
                        ],
                        "iteration": 17,
                        "passed_time": 203.3282572,
                        "remaining_time": 11092.68603,
                        "test": [
                          0.2960272663
                        ]
                      },
                      {
                        "learn": [
                          0.2826550143
                        ],
                        "iteration": 18,
                        "passed_time": 214.194848,
                        "remaining_time": 11059.2182,
                        "test": [
                          0.2838923516
                        ]
                      },
                      {
                        "learn": [
                          0.2703982681
                        ],
                        "iteration": 19,
                        "passed_time": 225.0454596,
                        "remaining_time": 11027.22752,
                        "test": [
                          0.2716613718
                        ]
                      },
                      {
                        "learn": [
                          0.2588379305
                        ],
                        "iteration": 20,
                        "passed_time": 235.6637705,
                        "remaining_time": 10986.42054,
                        "test": [
                          0.260129131
                        ]
                      },
                      {
                        "learn": [
                          0.2457395966
                        ],
                        "iteration": 21,
                        "passed_time": 246.4000821,
                        "remaining_time": 10953.60365,
                        "test": [
                          0.2470241494
                        ]
                      },
                      {
                        "learn": [
                          0.2345245536
                        ],
                        "iteration": 22,
                        "passed_time": 257.1435486,
                        "remaining_time": 10923.01074,
                        "test": [
                          0.2358194383
                        ]
                      },
                      {
                        "learn": [
                          0.2239121492
                        ],
                        "iteration": 23,
                        "passed_time": 267.9321358,
                        "remaining_time": 10895.90685,
                        "test": [
                          0.2252019154
                        ]
                      },
                      {
                        "learn": [
                          0.2111123047
                        ],
                        "iteration": 24,
                        "passed_time": 268.0602086,
                        "remaining_time": 10454.34814,
                        "test": [
                          0.2123605753
                        ]
                      },
                      {
                        "learn": [
                          0.2021863441
                        ],
                        "iteration": 25,
                        "passed_time": 279.2378331,
                        "remaining_time": 10460.67882,
                        "test": [
                          0.2034555952
                        ]
                      },
                      {
                        "learn": [
                          0.1927173151
                        ],
                        "iteration": 26,
                        "passed_time": 290.1881096,
                        "remaining_time": 10457.51965,
                        "test": [
                          0.1939873911
                        ]
                      },
                      {
                        "learn": [
                          0.1848947505
                        ],
                        "iteration": 27,
                        "passed_time": 300.9938454,
                        "remaining_time": 10448.78635,
                        "test": [
                          0.186183277
                        ]
                      },
                      {
                        "learn": [
                          0.1755415936
                        ],
                        "iteration": 28,
                        "passed_time": 311.7101733,
                        "remaining_time": 10436.91649,
                        "test": [
                          0.1768230544
                        ]
                      },
                      {
                        "learn": [
                          0.1684153679
                        ],
                        "iteration": 29,
                        "passed_time": 322.5510313,
                        "remaining_time": 10429.15001,
                        "test": [
                          0.1696972369
                        ]
                      },
                      {
                        "learn": [
                          0.1603736547
                        ],
                        "iteration": 30,
                        "passed_time": 333.1513228,
                        "remaining_time": 10413.66554,
                        "test": [
                          0.1616435964
                        ]
                      },
                      {
                        "learn": [
                          0.1535105329
                        ],
                        "iteration": 31,
                        "passed_time": 343.8743662,
                        "remaining_time": 10402.19958,
                        "test": [
                          0.1547730722
                        ]
                      },
                      {
                        "learn": [
                          0.146982955
                        ],
                        "iteration": 32,
                        "passed_time": 354.6319825,
                        "remaining_time": 10391.79173,
                        "test": [
                          0.148262539
                        ]
                      },
                      {
                        "learn": [
                          0.1401234255
                        ],
                        "iteration": 33,
                        "passed_time": 365.2878688,
                        "remaining_time": 10378.47298,
                        "test": [
                          0.1413892786
                        ]
                      },
                      {
                        "learn": [
                          0.1343217275
                        ],
                        "iteration": 34,
                        "passed_time": 375.9926048,
                        "remaining_time": 10366.65325,
                        "test": [
                          0.1355740407
                        ]
                      },
                      {
                        "learn": [
                          0.1289308384
                        ],
                        "iteration": 35,
                        "passed_time": 386.741441,
                        "remaining_time": 10356.07636,
                        "test": [
                          0.1301982649
                        ]
                      },
                      {
                        "learn": [
                          0.1228825684
                        ],
                        "iteration": 36,
                        "passed_time": 397.3446767,
                        "remaining_time": 10341.70064,
                        "test": [
                          0.124140256
                        ]
                      },
                      {
                        "learn": [
                          0.1180460629
                        ],
                        "iteration": 37,
                        "passed_time": 408.105035,
                        "remaining_time": 10331.50115,
                        "test": [
                          0.1192896156
                        ]
                      },
                      {
                        "learn": [
                          0.1137485003
                        ],
                        "iteration": 38,
                        "passed_time": 418.8101584,
                        "remaining_time": 10319.91185,
                        "test": [
                          0.1149995483
                        ]
                      },
                      {
                        "learn": [
                          0.108733802
                        ],
                        "iteration": 39,
                        "passed_time": 429.5057067,
                        "remaining_time": 10308.13696,
                        "test": [
                          0.1099717221
                        ]
                      },
                      {
                        "learn": [
                          0.1050208815
                        ],
                        "iteration": 40,
                        "passed_time": 440.285596,
                        "remaining_time": 10298.38748,
                        "test": [
                          0.1062581708
                        ]
                      },
                      {
                        "learn": [
                          0.1014099171
                        ],
                        "iteration": 41,
                        "passed_time": 451.0379053,
                        "remaining_time": 10287.95984,
                        "test": [
                          0.1026439343
                        ]
                      },
                      {
                        "learn": [
                          0.09716319555
                        ],
                        "iteration": 42,
                        "passed_time": 461.702442,
                        "remaining_time": 10275.56365,
                        "test": [
                          0.09838122141
                        ]
                      },
                      {
                        "learn": [
                          0.09334879225
                        ],
                        "iteration": 43,
                        "passed_time": 472.3317317,
                        "remaining_time": 10262.48035,
                        "test": [
                          0.09454752564
                        ]
                      },
                      {
                        "learn": [
                          0.08958207111
                        ],
                        "iteration": 44,
                        "passed_time": 483.0932809,
                        "remaining_time": 10252.31296,
                        "test": [
                          0.09076429816
                        ]
                      },
                      {
                        "learn": [
                          0.08638719707
                        ],
                        "iteration": 45,
                        "passed_time": 493.867188,
                        "remaining_time": 10242.37603,
                        "test": [
                          0.08757043063
                        ]
                      },
                      {
                        "learn": [
                          0.08305040757
                        ],
                        "iteration": 46,
                        "passed_time": 504.5540428,
                        "remaining_time": 10230.63836,
                        "test": [
                          0.08422164514
                        ]
                      },
                      {
                        "learn": [
                          0.07947857292
                        ],
                        "iteration": 47,
                        "passed_time": 515.1218268,
                        "remaining_time": 10216.5829,
                        "test": [
                          0.08063515796
                        ]
                      },
                      {
                        "learn": [
                          0.0765303133
                        ],
                        "iteration": 48,
                        "passed_time": 525.7651527,
                        "remaining_time": 10204.13592,
                        "test": [
                          0.07767918995
                        ]
                      },
                      {
                        "learn": [
                          0.07334276846
                        ],
                        "iteration": 49,
                        "passed_time": 536.3664105,
                        "remaining_time": 10190.9618,
                        "test": [
                          0.07447831533
                        ]
                      },
                      {
                        "learn": [
                          0.07067787388
                        ],
                        "iteration": 50,
                        "passed_time": 547.0016923,
                        "remaining_time": 10178.52169,
                        "test": [
                          0.07180440761
                        ]
                      },
                      {
                        "learn": [
                          0.06810207818
                        ],
                        "iteration": 51,
                        "passed_time": 557.8222737,
                        "remaining_time": 10169.52914,
                        "test": [
                          0.06921843836
                        ]
                      },
                      {
                        "learn": [
                          0.06547956194
                        ],
                        "iteration": 52,
                        "passed_time": 568.4956145,
                        "remaining_time": 10157.83673,
                        "test": [
                          0.06658161154
                        ]
                      },
                      {
                        "learn": [
                          0.06280780403
                        ],
                        "iteration": 53,
                        "passed_time": 579.1717347,
                        "remaining_time": 10146.23076,
                        "test": [
                          0.06389303611
                        ]
                      },
                      {
                        "learn": [
                          0.06071735242
                        ],
                        "iteration": 54,
                        "passed_time": 589.7740329,
                        "remaining_time": 10133.3902,
                        "test": [
                          0.06179643381
                        ]
                      },
                      {
                        "learn": [
                          0.05871445512
                        ],
                        "iteration": 55,
                        "passed_time": 600.4480714,
                        "remaining_time": 10121.83892,
                        "test": [
                          0.05978663315
                        ]
                      },
                      {
                        "learn": [
                          0.05651288215
                        ],
                        "iteration": 56,
                        "passed_time": 611.1664483,
                        "remaining_time": 10111.05194,
                        "test": [
                          0.05756769553
                        ]
                      },
                      {
                        "learn": [
                          0.05454657854
                        ],
                        "iteration": 57,
                        "passed_time": 621.9308247,
                        "remaining_time": 10101.01443,
                        "test": [
                          0.05559233536
                        ]
                      },
                      {
                        "learn": [
                          0.05277882603
                        ],
                        "iteration": 58,
                        "passed_time": 632.566346,
                        "remaining_time": 10088.89715,
                        "test": [
                          0.05382535228
                        ]
                      },
                      {
                        "learn": [
                          0.05124821877
                        ],
                        "iteration": 59,
                        "passed_time": 654.0752196,
                        "remaining_time": 10247.17844,
                        "test": [
                          0.05230099086
                        ]
                      },
                      {
                        "learn": [
                          0.04972571797
                        ],
                        "iteration": 60,
                        "passed_time": 664.8615417,
                        "remaining_time": 10234.50799,
                        "test": [
                          0.05077380414
                        ]
                      },
                      {
                        "learn": [
                          0.04801718949
                        ],
                        "iteration": 61,
                        "passed_time": 675.5294451,
                        "remaining_time": 10220.10677,
                        "test": [
                          0.04905162757
                        ]
                      },
                      {
                        "learn": [
                          0.04653728625
                        ],
                        "iteration": 62,
                        "passed_time": 686.1960289,
                        "remaining_time": 10205.80443,
                        "test": [
                          0.04756841808
                        ]
                      },
                      {
                        "learn": [
                          0.04523185886
                        ],
                        "iteration": 63,
                        "passed_time": 696.9818899,
                        "remaining_time": 10193.36014,
                        "test": [
                          0.04626543345
                        ]
                      },
                      {
                        "learn": [
                          0.04391638433
                        ],
                        "iteration": 64,
                        "passed_time": 707.6371389,
                        "remaining_time": 10179.08807,
                        "test": [
                          0.04494977503
                        ]
                      },
                      {
                        "learn": [
                          0.04251168886
                        ],
                        "iteration": 65,
                        "passed_time": 718.2660029,
                        "remaining_time": 10164.55222,
                        "test": [
                          0.04353992429
                        ]
                      },
                      {
                        "learn": [
                          0.04104294384
                        ],
                        "iteration": 66,
                        "passed_time": 728.9243931,
                        "remaining_time": 10150.54416,
                        "test": [
                          0.04206252681
                        ]
                      },
                      {
                        "learn": [
                          0.03977951859
                        ],
                        "iteration": 67,
                        "passed_time": 739.6337714,
                        "remaining_time": 10137.33346,
                        "test": [
                          0.04079135533
                        ]
                      },
                      {
                        "learn": [
                          0.03870570093
                        ],
                        "iteration": 68,
                        "passed_time": 750.3887619,
                        "remaining_time": 10124.81069,
                        "test": [
                          0.03972061623
                        ]
                      },
                      {
                        "learn": [
                          0.03753181551
                        ],
                        "iteration": 69,
                        "passed_time": 761.0601179,
                        "remaining_time": 10111.22728,
                        "test": [
                          0.03853951541
                        ]
                      },
                      {
                        "learn": [
                          0.03644392364
                        ],
                        "iteration": 70,
                        "passed_time": 771.7560464,
                        "remaining_time": 10098.04742,
                        "test": [
                          0.03744468673
                        ]
                      },
                      {
                        "learn": [
                          0.03546472168
                        ],
                        "iteration": 71,
                        "passed_time": 782.4872283,
                        "remaining_time": 10085.39094,
                        "test": [
                          0.0364613039
                        ]
                      },
                      {
                        "learn": [
                          0.0344030251
                        ],
                        "iteration": 72,
                        "passed_time": 793.2024077,
                        "remaining_time": 10072.584,
                        "test": [
                          0.03539473594
                        ]
                      },
                      {
                        "learn": [
                          0.03347452218
                        ],
                        "iteration": 73,
                        "passed_time": 803.9113208,
                        "remaining_time": 10059.75518,
                        "test": [
                          0.03446464302
                        ]
                      },
                      {
                        "learn": [
                          0.03263051932
                        ],
                        "iteration": 74,
                        "passed_time": 814.590719,
                        "remaining_time": 10046.61887,
                        "test": [
                          0.0336228871
                        ]
                      },
                      {
                        "learn": [
                          0.03170223937
                        ],
                        "iteration": 75,
                        "passed_time": 825.2541458,
                        "remaining_time": 10033.35304,
                        "test": [
                          0.03269098544
                        ]
                      },
                      {
                        "learn": [
                          0.03072795012
                        ],
                        "iteration": 76,
                        "passed_time": 835.8393903,
                        "remaining_time": 10019.21763,
                        "test": [
                          0.03170844036
                        ]
                      },
                      {
                        "learn": [
                          0.02992670923
                        ],
                        "iteration": 77,
                        "passed_time": 846.5466893,
                        "remaining_time": 10006.61599,
                        "test": [
                          0.03090393152
                        ]
                      },
                      {
                        "learn": [
                          0.02912884272
                        ],
                        "iteration": 78,
                        "passed_time": 857.21556,
                        "remaining_time": 9993.614314,
                        "test": [
                          0.03010039827
                        ]
                      },
                      {
                        "learn": [
                          0.02841288166
                        ],
                        "iteration": 79,
                        "passed_time": 867.88549,
                        "remaining_time": 9980.683135,
                        "test": [
                          0.02938183179
                        ]
                      },
                      {
                        "learn": [
                          0.02754592086
                        ],
                        "iteration": 80,
                        "passed_time": 878.5739622,
                        "remaining_time": 9968.018164,
                        "test": [
                          0.02851028654
                        ]
                      },
                      {
                        "learn": [
                          0.02683971296
                        ],
                        "iteration": 81,
                        "passed_time": 889.233357,
                        "remaining_time": 9955.075875,
                        "test": [
                          0.02780444053
                        ]
                      },
                      {
                        "learn": [
                          0.02620237514
                        ],
                        "iteration": 82,
                        "passed_time": 899.9023036,
                        "remaining_time": 9942.294126,
                        "test": [
                          0.02716713962
                        ]
                      },
                      {
                        "learn": [
                          0.02561420301
                        ],
                        "iteration": 83,
                        "passed_time": 910.5987953,
                        "remaining_time": 9929.863053,
                        "test": [
                          0.02657987695
                        ]
                      },
                      {
                        "learn": [
                          0.02498949946
                        ],
                        "iteration": 84,
                        "passed_time": 921.3459067,
                        "remaining_time": 9918.017701,
                        "test": [
                          0.02595299184
                        ]
                      },
                      {
                        "learn": [
                          0.0244019601
                        ],
                        "iteration": 85,
                        "passed_time": 932.0478613,
                        "remaining_time": 9905.717968,
                        "test": [
                          0.02536193704
                        ]
                      },
                      {
                        "learn": [
                          0.02373521454
                        ],
                        "iteration": 86,
                        "passed_time": 942.7178763,
                        "remaining_time": 9893.119782,
                        "test": [
                          0.0246876111
                        ]
                      },
                      {
                        "learn": [
                          0.02316309217
                        ],
                        "iteration": 87,
                        "passed_time": 953.4001992,
                        "remaining_time": 9880.692973,
                        "test": [
                          0.02411089045
                        ]
                      },
                      {
                        "learn": [
                          0.02263698407
                        ],
                        "iteration": 88,
                        "passed_time": 964.0581589,
                        "remaining_time": 9868.055986,
                        "test": [
                          0.02358338373
                        ]
                      },
                      {
                        "learn": [
                          0.02206081095
                        ],
                        "iteration": 89,
                        "passed_time": 974.7283834,
                        "remaining_time": 9855.586988,
                        "test": [
                          0.02300534289
                        ]
                      },
                      {
                        "learn": [
                          0.02152416992
                        ],
                        "iteration": 90,
                        "passed_time": 985.4432636,
                        "remaining_time": 9843.603589,
                        "test": [
                          0.02246586673
                        ]
                      },
                      {
                        "learn": [
                          0.02107101876
                        ],
                        "iteration": 91,
                        "passed_time": 996.1652331,
                        "remaining_time": 9831.717735,
                        "test": [
                          0.02201298889
                        ]
                      },
                      {
                        "learn": [
                          0.02053214062
                        ],
                        "iteration": 92,
                        "passed_time": 1006.760687,
                        "remaining_time": 9818.623044,
                        "test": [
                          0.02146924297
                        ]
                      },
                      {
                        "learn": [
                          0.02005779406
                        ],
                        "iteration": 93,
                        "passed_time": 1017.380015,
                        "remaining_time": 9805.811638,
                        "test": [
                          0.02099260477
                        ]
                      },
                      {
                        "learn": [
                          0.0196205899
                        ],
                        "iteration": 94,
                        "passed_time": 1028.182615,
                        "remaining_time": 9794.792277,
                        "test": [
                          0.02055387197
                        ]
                      },
                      {
                        "learn": [
                          0.01919791397
                        ],
                        "iteration": 95,
                        "passed_time": 1038.806239,
                        "remaining_time": 9782.092083,
                        "test": [
                          0.02012992476
                        ]
                      },
                      {
                        "learn": [
                          0.0187392983
                        ],
                        "iteration": 96,
                        "passed_time": 1049.288706,
                        "remaining_time": 9768.120632,
                        "test": [
                          0.01966763993
                        ]
                      },
                      {
                        "learn": [
                          0.01839736316
                        ],
                        "iteration": 97,
                        "passed_time": 1059.701693,
                        "remaining_time": 9753.580893,
                        "test": [
                          0.01932939245
                        ]
                      },
                      {
                        "learn": [
                          0.01808495471
                        ],
                        "iteration": 98,
                        "passed_time": 1070.201053,
                        "remaining_time": 9739.910589,
                        "test": [
                          0.01902025058
                        ]
                      },
                      {
                        "learn": [
                          0.01777130252
                        ],
                        "iteration": 99,
                        "passed_time": 1080.747861,
                        "remaining_time": 9726.73075,
                        "test": [
                          0.01871061471
                        ]
                      },
                      {
                        "learn": [
                          0.01743465439
                        ],
                        "iteration": 100,
                        "passed_time": 1091.188895,
                        "remaining_time": 9712.661548,
                        "test": [
                          0.01837540605
                        ]
                      },
                      {
                        "learn": [
                          0.0170961092
                        ],
                        "iteration": 101,
                        "passed_time": 1101.6487,
                        "remaining_time": 9698.828748,
                        "test": [
                          0.01803713191
                        ]
                      },
                      {
                        "learn": [
                          0.01673226244
                        ],
                        "iteration": 102,
                        "passed_time": 1112.12959,
                        "remaining_time": 9685.245068,
                        "test": [
                          0.01767231617
                        ]
                      },
                      {
                        "learn": [
                          0.0163488072
                        ],
                        "iteration": 103,
                        "passed_time": 1122.503792,
                        "remaining_time": 9670.801902,
                        "test": [
                          0.01728425294
                        ]
                      },
                      {
                        "learn": [
                          0.01603687582
                        ],
                        "iteration": 104,
                        "passed_time": 1132.947364,
                        "remaining_time": 9657.027532,
                        "test": [
                          0.01697202962
                        ]
                      },
                      {
                        "learn": [
                          0.01569161863
                        ],
                        "iteration": 105,
                        "passed_time": 1143.393691,
                        "remaining_time": 9643.339244,
                        "test": [
                          0.01662510736
                        ]
                      },
                      {
                        "learn": [
                          0.01545234774
                        ],
                        "iteration": 106,
                        "passed_time": 1153.922501,
                        "remaining_time": 9630.399941,
                        "test": [
                          0.01639020469
                        ]
                      },
                      {
                        "learn": [
                          0.01511922408
                        ],
                        "iteration": 107,
                        "passed_time": 1164.383284,
                        "remaining_time": 9616.943419,
                        "test": [
                          0.01605321123
                        ]
                      },
                      {
                        "learn": [
                          0.01484241159
                        ],
                        "iteration": 108,
                        "passed_time": 1174.968245,
                        "remaining_time": 9604.556941,
                        "test": [
                          0.01577628354
                        ]
                      },
                      {
                        "learn": [
                          0.01456773906
                        ],
                        "iteration": 109,
                        "passed_time": 1185.469876,
                        "remaining_time": 9591.528995,
                        "test": [
                          0.01550247761
                        ]
                      },
                      {
                        "learn": [
                          0.0142776564
                        ],
                        "iteration": 110,
                        "passed_time": 1195.948158,
                        "remaining_time": 9578.35957,
                        "test": [
                          0.01521097763
                        ]
                      },
                      {
                        "learn": [
                          0.01407811628
                        ],
                        "iteration": 111,
                        "passed_time": 1206.484995,
                        "remaining_time": 9565.702463,
                        "test": [
                          0.01501416493
                        ]
                      },
                      {
                        "learn": [
                          0.01385820973
                        ],
                        "iteration": 112,
                        "passed_time": 1217.004825,
                        "remaining_time": 9552.94938,
                        "test": [
                          0.01479733732
                        ]
                      },
                      {
                        "learn": [
                          0.01367207928
                        ],
                        "iteration": 113,
                        "passed_time": 1227.482277,
                        "remaining_time": 9539.906121,
                        "test": [
                          0.01461717178
                        ]
                      },
                      {
                        "learn": [
                          0.01342697953
                        ],
                        "iteration": 114,
                        "passed_time": 1238.003121,
                        "remaining_time": 9527.241407,
                        "test": [
                          0.01437295019
                        ]
                      },
                      {
                        "learn": [
                          0.01319751786
                        ],
                        "iteration": 115,
                        "passed_time": 1248.454311,
                        "remaining_time": 9514.082851,
                        "test": [
                          0.01414311422
                        ]
                      },
                      {
                        "learn": [
                          0.01297069129
                        ],
                        "iteration": 116,
                        "passed_time": 1269.359935,
                        "remaining_time": 9579.870279,
                        "test": [
                          0.01391597992
                        ]
                      },
                      {
                        "learn": [
                          0.01274143017
                        ],
                        "iteration": 117,
                        "passed_time": 1279.920432,
                        "remaining_time": 9566.862887,
                        "test": [
                          0.01368432488
                        ]
                      },
                      {
                        "learn": [
                          0.01256874988
                        ],
                        "iteration": 118,
                        "passed_time": 1290.339539,
                        "remaining_time": 9552.849862,
                        "test": [
                          0.01351348809
                        ]
                      },
                      {
                        "learn": [
                          0.01239860254
                        ],
                        "iteration": 119,
                        "passed_time": 1300.809128,
                        "remaining_time": 9539.266935,
                        "test": [
                          0.01334724793
                        ]
                      },
                      {
                        "learn": [
                          0.01221819321
                        ],
                        "iteration": 120,
                        "passed_time": 1311.293586,
                        "remaining_time": 9525.843485,
                        "test": [
                          0.0131685072
                        ]
                      },
                      {
                        "learn": [
                          0.01203386392
                        ],
                        "iteration": 121,
                        "passed_time": 1321.845554,
                        "remaining_time": 9512.95407,
                        "test": [
                          0.01298670001
                        ]
                      },
                      {
                        "learn": [
                          0.01183993468
                        ],
                        "iteration": 122,
                        "passed_time": 1332.368663,
                        "remaining_time": 9499.896892,
                        "test": [
                          0.01279321874
                        ]
                      },
                      {
                        "learn": [
                          0.01165331907
                        ],
                        "iteration": 123,
                        "passed_time": 1342.785718,
                        "remaining_time": 9486.131365,
                        "test": [
                          0.01260739423
                        ]
                      },
                      {
                        "learn": [
                          0.01144840163
                        ],
                        "iteration": 124,
                        "passed_time": 1353.25859,
                        "remaining_time": 9472.810129,
                        "test": [
                          0.01240096023
                        ]
                      },
                      {
                        "learn": [
                          0.01131369019
                        ],
                        "iteration": 125,
                        "passed_time": 1363.660404,
                        "remaining_time": 9459.041212,
                        "test": [
                          0.01227138697
                        ]
                      },
                      {
                        "learn": [
                          0.01114848234
                        ],
                        "iteration": 126,
                        "passed_time": 1374.131928,
                        "remaining_time": 9445.804511,
                        "test": [
                          0.01210682379
                        ]
                      },
                      {
                        "learn": [
                          0.0109799076
                        ],
                        "iteration": 127,
                        "passed_time": 1384.603373,
                        "remaining_time": 9432.610481,
                        "test": [
                          0.01193829959
                        ]
                      },
                      {
                        "learn": [
                          0.01082027264
                        ],
                        "iteration": 128,
                        "passed_time": 1395.033626,
                        "remaining_time": 9419.180529,
                        "test": [
                          0.01178093728
                        ]
                      },
                      {
                        "learn": [
                          0.01066097026
                        ],
                        "iteration": 129,
                        "passed_time": 1405.488425,
                        "remaining_time": 9405.961,
                        "test": [
                          0.0116231073
                        ]
                      },
                      {
                        "learn": [
                          0.01048333927
                        ],
                        "iteration": 130,
                        "passed_time": 1415.943792,
                        "remaining_time": 9392.787447,
                        "test": [
                          0.011444221
                        ]
                      },
                      {
                        "learn": [
                          0.01032467496
                        ],
                        "iteration": 131,
                        "passed_time": 1426.496468,
                        "remaining_time": 9380.294958,
                        "test": [
                          0.01128471503
                        ]
                      },
                      {
                        "learn": [
                          0.01017534528
                        ],
                        "iteration": 132,
                        "passed_time": 1436.981694,
                        "remaining_time": 9367.391942,
                        "test": [
                          0.01113676085
                        ]
                      },
                      {
                        "learn": [
                          0.01002379157
                        ],
                        "iteration": 133,
                        "passed_time": 1447.431896,
                        "remaining_time": 9354.298672,
                        "test": [
                          0.01098592816
                        ]
                      },
                      {
                        "learn": [
                          0.009888024778
                        ],
                        "iteration": 134,
                        "passed_time": 1457.904738,
                        "remaining_time": 9341.389619,
                        "test": [
                          0.01085096273
                        ]
                      },
                      {
                        "learn": [
                          0.009745739995
                        ],
                        "iteration": 135,
                        "passed_time": 1468.354953,
                        "remaining_time": 9328.372643,
                        "test": [
                          0.01070953266
                        ]
                      },
                      {
                        "learn": [
                          0.009623456994
                        ],
                        "iteration": 136,
                        "passed_time": 1478.962612,
                        "remaining_time": 9316.384918,
                        "test": [
                          0.01059002296
                        ]
                      },
                      {
                        "learn": [
                          0.009477074137
                        ],
                        "iteration": 137,
                        "passed_time": 1489.420025,
                        "remaining_time": 9303.478704,
                        "test": [
                          0.01044433206
                        ]
                      },
                      {
                        "learn": [
                          0.00932191187
                        ],
                        "iteration": 138,
                        "passed_time": 1500.22993,
                        "remaining_time": 9292.791148,
                        "test": [
                          0.01028739772
                        ]
                      },
                      {
                        "learn": [
                          0.009192155799
                        ],
                        "iteration": 139,
                        "passed_time": 1510.656479,
                        "remaining_time": 9279.746942,
                        "test": [
                          0.01015841956
                        ]
                      },
                      {
                        "learn": [
                          0.009084035757
                        ],
                        "iteration": 140,
                        "passed_time": 1521.091767,
                        "remaining_time": 9266.793105,
                        "test": [
                          0.01005335748
                        ]
                      },
                      {
                        "learn": [
                          0.00897658243
                        ],
                        "iteration": 141,
                        "passed_time": 1531.470633,
                        "remaining_time": 9253.533828,
                        "test": [
                          0.009948330763
                        ]
                      },
                      {
                        "learn": [
                          0.008878664601
                        ],
                        "iteration": 142,
                        "passed_time": 1541.99818,
                        "remaining_time": 9241.205878,
                        "test": [
                          0.009853401843
                        ]
                      },
                      {
                        "learn": [
                          0.008744767481
                        ],
                        "iteration": 143,
                        "passed_time": 1552.419997,
                        "remaining_time": 9228.274425,
                        "test": [
                          0.009718075726
                        ]
                      },
                      {
                        "learn": [
                          0.008630239681
                        ],
                        "iteration": 144,
                        "passed_time": 1562.895088,
                        "remaining_time": 9215.691726,
                        "test": [
                          0.009604770168
                        ]
                      },
                      {
                        "learn": [
                          0.008546118289
                        ],
                        "iteration": 145,
                        "passed_time": 1573.428872,
                        "remaining_time": 9203.481212,
                        "test": [
                          0.009524240285
                        ]
                      },
                      {
                        "learn": [
                          0.008459222288
                        ],
                        "iteration": 146,
                        "passed_time": 1583.908757,
                        "remaining_time": 9190.980744,
                        "test": [
                          0.009440607493
                        ]
                      },
                      {
                        "learn": [
                          0.008358578429
                        ],
                        "iteration": 147,
                        "passed_time": 1594.352373,
                        "remaining_time": 9178.298794,
                        "test": [
                          0.009342469968
                        ]
                      },
                      {
                        "learn": [
                          0.008254838282
                        ],
                        "iteration": 148,
                        "passed_time": 1604.861835,
                        "remaining_time": 9166.022961,
                        "test": [
                          0.009239989526
                        ]
                      },
                      {
                        "learn": [
                          0.008178087196
                        ],
                        "iteration": 149,
                        "passed_time": 1615.337458,
                        "remaining_time": 9153.57893,
                        "test": [
                          0.009166880448
                        ]
                      },
                      {
                        "learn": [
                          0.008067550348
                        ],
                        "iteration": 150,
                        "passed_time": 1625.747805,
                        "remaining_time": 9140.79395,
                        "test": [
                          0.009055220289
                        ]
                      },
                      {
                        "learn": [
                          0.007976340469
                        ],
                        "iteration": 151,
                        "passed_time": 1636.202738,
                        "remaining_time": 9128.288957,
                        "test": [
                          0.008965974236
                        ]
                      },
                      {
                        "learn": [
                          0.007878849886
                        ],
                        "iteration": 152,
                        "passed_time": 1646.610204,
                        "remaining_time": 9115.547993,
                        "test": [
                          0.008869062653
                        ]
                      },
                      {
                        "learn": [
                          0.007784454034
                        ],
                        "iteration": 153,
                        "passed_time": 1657.069954,
                        "remaining_time": 9103.12455,
                        "test": [
                          0.008775750004
                        ]
                      },
                      {
                        "learn": [
                          0.007698709916
                        ],
                        "iteration": 154,
                        "passed_time": 1667.539911,
                        "remaining_time": 9090.782093,
                        "test": [
                          0.008691196439
                        ]
                      },
                      {
                        "learn": [
                          0.007594584874
                        ],
                        "iteration": 155,
                        "passed_time": 1677.935262,
                        "remaining_time": 9078.060009,
                        "test": [
                          0.00858579972
                        ]
                      },
                      {
                        "learn": [
                          0.007511310188
                        ],
                        "iteration": 156,
                        "passed_time": 1688.356259,
                        "remaining_time": 9065.505263,
                        "test": [
                          0.008504490895
                        ]
                      },
                      {
                        "learn": [
                          0.007426938115
                        ],
                        "iteration": 157,
                        "passed_time": 1698.816935,
                        "remaining_time": 9053.188984,
                        "test": [
                          0.008421367665
                        ]
                      },
                      {
                        "learn": [
                          0.007352189667
                        ],
                        "iteration": 158,
                        "passed_time": 1709.170643,
                        "remaining_time": 9040.330255,
                        "test": [
                          0.00835012392
                        ]
                      },
                      {
                        "learn": [
                          0.007271624818
                        ],
                        "iteration": 159,
                        "passed_time": 1719.668954,
                        "remaining_time": 9028.262007,
                        "test": [
                          0.008270885619
                        ]
                      },
                      {
                        "learn": [
                          0.007174862297
                        ],
                        "iteration": 160,
                        "passed_time": 1730.150394,
                        "remaining_time": 9016.125344,
                        "test": [
                          0.008174401701
                        ]
                      },
                      {
                        "learn": [
                          0.007090951102
                        ],
                        "iteration": 161,
                        "passed_time": 1740.555894,
                        "remaining_time": 9003.61629,
                        "test": [
                          0.008091309954
                        ]
                      },
                      {
                        "learn": [
                          0.007008722422
                        ],
                        "iteration": 162,
                        "passed_time": 1751.092686,
                        "remaining_time": 8991.807227,
                        "test": [
                          0.00800976386
                        ]
                      },
                      {
                        "learn": [
                          0.006925382964
                        ],
                        "iteration": 163,
                        "passed_time": 1761.477237,
                        "remaining_time": 8979.237623,
                        "test": [
                          0.007926564077
                        ]
                      },
                      {
                        "learn": [
                          0.006848770453
                        ],
                        "iteration": 164,
                        "passed_time": 1771.971479,
                        "remaining_time": 8967.249607,
                        "test": [
                          0.007851507204
                        ]
                      },
                      {
                        "learn": [
                          0.006765233565
                        ],
                        "iteration": 165,
                        "passed_time": 1782.292473,
                        "remaining_time": 8954.40917,
                        "test": [
                          0.00776861379
                        ]
                      },
                      {
                        "learn": [
                          0.006694977118
                        ],
                        "iteration": 166,
                        "passed_time": 1792.722561,
                        "remaining_time": 8942.143072,
                        "test": [
                          0.007700337369
                        ]
                      },
                      {
                        "learn": [
                          0.006615154656
                        ],
                        "iteration": 167,
                        "passed_time": 1803.178979,
                        "remaining_time": 8930.029228,
                        "test": [
                          0.007621206078
                        ]
                      },
                      {
                        "learn": [
                          0.006524869024
                        ],
                        "iteration": 168,
                        "passed_time": 1813.626214,
                        "remaining_time": 8917.889843,
                        "test": [
                          0.007529336499
                        ]
                      },
                      {
                        "learn": [
                          0.006451008388
                        ],
                        "iteration": 169,
                        "passed_time": 1824.049335,
                        "remaining_time": 8905.652634,
                        "test": [
                          0.007456995881
                        ]
                      },
                      {
                        "learn": [
                          0.006380994524
                        ],
                        "iteration": 170,
                        "passed_time": 1834.512247,
                        "remaining_time": 8893.629549,
                        "test": [
                          0.007388297399
                        ]
                      },
                      {
                        "learn": [
                          0.006321810664
                        ],
                        "iteration": 171,
                        "passed_time": 1844.975348,
                        "remaining_time": 8881.625514,
                        "test": [
                          0.007331943602
                        ]
                      },
                      {
                        "learn": [
                          0.006253057674
                        ],
                        "iteration": 172,
                        "passed_time": 1855.324285,
                        "remaining_time": 8869.093546,
                        "test": [
                          0.007264173424
                        ]
                      },
                      {
                        "learn": [
                          0.006186487937
                        ],
                        "iteration": 173,
                        "passed_time": 1865.734537,
                        "remaining_time": 8856.877747,
                        "test": [
                          0.007198698475
                        ]
                      },
                      {
                        "learn": [
                          0.006111076822
                        ],
                        "iteration": 174,
                        "passed_time": 1886.011062,
                        "remaining_time": 8891.195008,
                        "test": [
                          0.007123289065
                        ]
                      },
                      {
                        "learn": [
                          0.006047707383
                        ],
                        "iteration": 175,
                        "passed_time": 1896.45556,
                        "remaining_time": 8878.860123,
                        "test": [
                          0.00706157625
                        ]
                      },
                      {
                        "learn": [
                          0.006000414479
                        ],
                        "iteration": 176,
                        "passed_time": 1906.904914,
                        "remaining_time": 8866.569178,
                        "test": [
                          0.007016598647
                        ]
                      },
                      {
                        "learn": [
                          0.005936933245
                        ],
                        "iteration": 177,
                        "passed_time": 1917.361999,
                        "remaining_time": 8854.334626,
                        "test": [
                          0.006955225466
                        ]
                      },
                      {
                        "learn": [
                          0.005873339906
                        ],
                        "iteration": 178,
                        "passed_time": 1927.7524,
                        "remaining_time": 8841.814079,
                        "test": [
                          0.006892602167
                        ]
                      },
                      {
                        "learn": [
                          0.00580677266
                        ],
                        "iteration": 179,
                        "passed_time": 1938.161968,
                        "remaining_time": 8829.40452,
                        "test": [
                          0.006827054157
                        ]
                      },
                      {
                        "learn": [
                          0.005748975481
                        ],
                        "iteration": 180,
                        "passed_time": 1948.572617,
                        "remaining_time": 8817.021952,
                        "test": [
                          0.006770454172
                        ]
                      },
                      {
                        "learn": [
                          0.005702887087
                        ],
                        "iteration": 181,
                        "passed_time": 1959.010548,
                        "remaining_time": 8804.783672,
                        "test": [
                          0.006726081087
                        ]
                      },
                      {
                        "learn": [
                          0.005643035889
                        ],
                        "iteration": 182,
                        "passed_time": 1969.425572,
                        "remaining_time": 8792.462802,
                        "test": [
                          0.006668327799
                        ]
                      },
                      {
                        "learn": [
                          0.005602421663
                        ],
                        "iteration": 183,
                        "passed_time": 1979.858805,
                        "remaining_time": 8780.243397,
                        "test": [
                          0.006630214734
                        ]
                      },
                      {
                        "learn": [
                          0.005551066496
                        ],
                        "iteration": 184,
                        "passed_time": 1990.318351,
                        "remaining_time": 8768.159222,
                        "test": [
                          0.006579574544
                        ]
                      },
                      {
                        "learn": [
                          0.005504672615
                        ],
                        "iteration": 185,
                        "passed_time": 2000.854038,
                        "remaining_time": 8756.425737,
                        "test": [
                          0.006534736726
                        ]
                      },
                      {
                        "learn": [
                          0.005462585761
                        ],
                        "iteration": 186,
                        "passed_time": 2011.343321,
                        "remaining_time": 8744.503314,
                        "test": [
                          0.006496678573
                        ]
                      },
                      {
                        "learn": [
                          0.005415093247
                        ],
                        "iteration": 187,
                        "passed_time": 2021.826416,
                        "remaining_time": 8732.569413,
                        "test": [
                          0.006451472954
                        ]
                      },
                      {
                        "learn": [
                          0.005364888717
                        ],
                        "iteration": 188,
                        "passed_time": 2032.310363,
                        "remaining_time": 8720.654521,
                        "test": [
                          0.00640247418
                        ]
                      },
                      {
                        "learn": [
                          0.005316029763
                        ],
                        "iteration": 189,
                        "passed_time": 2042.778127,
                        "remaining_time": 8708.6857,
                        "test": [
                          0.006355268577
                        ]
                      },
                      {
                        "learn": [
                          0.005273637733
                        ],
                        "iteration": 190,
                        "passed_time": 2053.252538,
                        "remaining_time": 8696.76075,
                        "test": [
                          0.00631436647
                        ]
                      },
                      {
                        "learn": [
                          0.005224332226
                        ],
                        "iteration": 191,
                        "passed_time": 2063.692453,
                        "remaining_time": 8684.705739,
                        "test": [
                          0.006266998426
                        ]
                      },
                      {
                        "learn": [
                          0.005182555841
                        ],
                        "iteration": 192,
                        "passed_time": 2074.18164,
                        "remaining_time": 8672.87349,
                        "test": [
                          0.006226656092
                        ]
                      },
                      {
                        "learn": [
                          0.005133361661
                        ],
                        "iteration": 193,
                        "passed_time": 2084.5767,
                        "remaining_time": 8660.664024,
                        "test": [
                          0.00617789021
                        ]
                      },
                      {
                        "learn": [
                          0.005093551791
                        ],
                        "iteration": 194,
                        "passed_time": 2095.031522,
                        "remaining_time": 8648.719873,
                        "test": [
                          0.006140703741
                        ]
                      },
                      {
                        "learn": [
                          0.005051294132
                        ],
                        "iteration": 195,
                        "passed_time": 2105.374125,
                        "remaining_time": 8636.330594,
                        "test": [
                          0.006100002202
                        ]
                      },
                      {
                        "learn": [
                          0.005018438378
                        ],
                        "iteration": 196,
                        "passed_time": 2115.820774,
                        "remaining_time": 8624.3862,
                        "test": [
                          0.006069940905
                        ]
                      },
                      {
                        "learn": [
                          0.004990344145
                        ],
                        "iteration": 197,
                        "passed_time": 2126.285289,
                        "remaining_time": 8612.529301,
                        "test": [
                          0.006045203886
                        ]
                      },
                      {
                        "learn": [
                          0.004947352662
                        ],
                        "iteration": 198,
                        "passed_time": 2136.776788,
                        "remaining_time": 8600.795013,
                        "test": [
                          0.006003399591
                        ]
                      },
                      {
                        "learn": [
                          0.004906697176
                        ],
                        "iteration": 199,
                        "passed_time": 2147.287948,
                        "remaining_time": 8589.151794,
                        "test": [
                          0.005965105895
                        ]
                      },
                      {
                        "learn": [
                          0.004862131858
                        ],
                        "iteration": 200,
                        "passed_time": 2157.788668,
                        "remaining_time": 8577.478336,
                        "test": [
                          0.005921238677
                        ]
                      },
                      {
                        "learn": [
                          0.004820805764
                        ],
                        "iteration": 201,
                        "passed_time": 2168.281139,
                        "remaining_time": 8565.783904,
                        "test": [
                          0.005880799587
                        ]
                      },
                      {
                        "learn": [
                          0.004789247941
                        ],
                        "iteration": 202,
                        "passed_time": 2178.779633,
                        "remaining_time": 8554.124961,
                        "test": [
                          0.005852031894
                        ]
                      },
                      {
                        "learn": [
                          0.004748325737
                        ],
                        "iteration": 203,
                        "passed_time": 2189.111003,
                        "remaining_time": 8541.825286,
                        "test": [
                          0.005812425311
                        ]
                      },
                      {
                        "learn": [
                          0.004716415717
                        ],
                        "iteration": 204,
                        "passed_time": 2199.547881,
                        "remaining_time": 8529.953977,
                        "test": [
                          0.005783166607
                        ]
                      },
                      {
                        "learn": [
                          0.004677577739
                        ],
                        "iteration": 205,
                        "passed_time": 2209.978585,
                        "remaining_time": 8518.072797,
                        "test": [
                          0.005746450353
                        ]
                      },
                      {
                        "learn": [
                          0.004635298281
                        ],
                        "iteration": 206,
                        "passed_time": 2220.396127,
                        "remaining_time": 8506.155211,
                        "test": [
                          0.005703843329
                        ]
                      },
                      {
                        "learn": [
                          0.0046058524
                        ],
                        "iteration": 207,
                        "passed_time": 2230.823295,
                        "remaining_time": 8494.288699,
                        "test": [
                          0.005676792783
                        ]
                      },
                      {
                        "learn": [
                          0.004571764888
                        ],
                        "iteration": 208,
                        "passed_time": 2241.201653,
                        "remaining_time": 8482.251232,
                        "test": [
                          0.005645032199
                        ]
                      },
                      {
                        "learn": [
                          0.004535862825
                        ],
                        "iteration": 209,
                        "passed_time": 2251.567839,
                        "remaining_time": 8470.183775,
                        "test": [
                          0.00561033375
                        ]
                      },
                      {
                        "learn": [
                          0.004500323237
                        ],
                        "iteration": 210,
                        "passed_time": 2262.065267,
                        "remaining_time": 8458.6232,
                        "test": [
                          0.005576078623
                        ]
                      },
                      {
                        "learn": [
                          0.004469313797
                        ],
                        "iteration": 211,
                        "passed_time": 2272.602099,
                        "remaining_time": 8447.219123,
                        "test": [
                          0.005546472051
                        ]
                      },
                      {
                        "learn": [
                          0.004439256629
                        ],
                        "iteration": 212,
                        "passed_time": 2283.083451,
                        "remaining_time": 8435.618198,
                        "test": [
                          0.005518928761
                        ]
                      },
                      {
                        "learn": [
                          0.004410813779
                        ],
                        "iteration": 213,
                        "passed_time": 2293.577781,
                        "remaining_time": 8424.075403,
                        "test": [
                          0.005492131677
                        ]
                      },
                      {
                        "learn": [
                          0.004382086462
                        ],
                        "iteration": 214,
                        "passed_time": 2304.130344,
                        "remaining_time": 8412.754976,
                        "test": [
                          0.005465062312
                        ]
                      },
                      {
                        "learn": [
                          0.004343063822
                        ],
                        "iteration": 215,
                        "passed_time": 2314.551562,
                        "remaining_time": 8400.964927,
                        "test": [
                          0.005425166625
                        ]
                      },
                      {
                        "learn": [
                          0.004312128184
                        ],
                        "iteration": 216,
                        "passed_time": 2325.020429,
                        "remaining_time": 8389.359427,
                        "test": [
                          0.00539621278
                        ]
                      },
                      {
                        "learn": [
                          0.004284118497
                        ],
                        "iteration": 217,
                        "passed_time": 2335.483922,
                        "remaining_time": 8377.745079,
                        "test": [
                          0.005370800763
                        ]
                      },
                      {
                        "learn": [
                          0.004245646263
                        ],
                        "iteration": 218,
                        "passed_time": 2345.87825,
                        "remaining_time": 8365.894581,
                        "test": [
                          0.005332479341
                        ]
                      },
                      {
                        "learn": [
                          0.004214105879
                        ],
                        "iteration": 219,
                        "passed_time": 2356.244313,
                        "remaining_time": 8353.957111,
                        "test": [
                          0.00530255349
                        ]
                      },
                      {
                        "learn": [
                          0.004186930909
                        ],
                        "iteration": 220,
                        "passed_time": 2366.691207,
                        "remaining_time": 8342.31878,
                        "test": [
                          0.005277633619
                        ]
                      },
                      {
                        "learn": [
                          0.004164716604
                        ],
                        "iteration": 221,
                        "passed_time": 2377.271814,
                        "remaining_time": 8331.159782,
                        "test": [
                          0.00525749859
                        ]
                      },
                      {
                        "learn": [
                          0.004135737984
                        ],
                        "iteration": 222,
                        "passed_time": 2387.78509,
                        "remaining_time": 8319.771367,
                        "test": [
                          0.005229974779
                        ]
                      },
                      {
                        "learn": [
                          0.004106349867
                        ],
                        "iteration": 223,
                        "passed_time": 2398.21979,
                        "remaining_time": 8308.118559,
                        "test": [
                          0.00520237478
                        ]
                      },
                      {
                        "learn": [
                          0.004082252035
                        ],
                        "iteration": 224,
                        "passed_time": 2408.707973,
                        "remaining_time": 8296.660795,
                        "test": [
                          0.005180354796
                        ]
                      },
                      {
                        "learn": [
                          0.004052696384
                        ],
                        "iteration": 225,
                        "passed_time": 2419.169952,
                        "remaining_time": 8285.121871,
                        "test": [
                          0.005151842394
                        ]
                      },
                      {
                        "learn": [
                          0.004021001076
                        ],
                        "iteration": 226,
                        "passed_time": 2429.64953,
                        "remaining_time": 8273.652364,
                        "test": [
                          0.005121347839
                        ]
                      },
                      {
                        "learn": [
                          0.003994863238
                        ],
                        "iteration": 227,
                        "passed_time": 2440.215459,
                        "remaining_time": 8262.483923,
                        "test": [
                          0.00509636232
                        ]
                      },
                      {
                        "learn": [
                          0.003967453626
                        ],
                        "iteration": 228,
                        "passed_time": 2450.695366,
                        "remaining_time": 8251.031123,
                        "test": [
                          0.00507028811
                        ]
                      },
                      {
                        "learn": [
                          0.003944168714
                        ],
                        "iteration": 229,
                        "passed_time": 2461.20376,
                        "remaining_time": 8239.682153,
                        "test": [
                          0.005048730318
                        ]
                      },
                      {
                        "learn": [
                          0.003924223919
                        ],
                        "iteration": 230,
                        "passed_time": 2471.73959,
                        "remaining_time": 8228.431794,
                        "test": [
                          0.005031091409
                        ]
                      },
                      {
                        "learn": [
                          0.003903386642
                        ],
                        "iteration": 231,
                        "passed_time": 2483.718393,
                        "remaining_time": 8221.964337,
                        "test": [
                          0.00501278116
                        ]
                      },
                      {
                        "learn": [
                          0.003874247648
                        ],
                        "iteration": 232,
                        "passed_time": 2501.453294,
                        "remaining_time": 8234.397755,
                        "test": [
                          0.004984354934
                        ]
                      },
                      {
                        "learn": [
                          0.003848107318
                        ],
                        "iteration": 233,
                        "passed_time": 2511.785357,
                        "remaining_time": 8222.340101,
                        "test": [
                          0.004959650779
                        ]
                      },
                      {
                        "learn": [
                          0.003815809289
                        ],
                        "iteration": 234,
                        "passed_time": 2522.083913,
                        "remaining_time": 8210.188056,
                        "test": [
                          0.004928166958
                        ]
                      },
                      {
                        "learn": [
                          0.00378672121
                        ],
                        "iteration": 235,
                        "passed_time": 2532.465934,
                        "remaining_time": 8198.321923,
                        "test": [
                          0.004900116438
                        ]
                      },
                      {
                        "learn": [
                          0.003764967159
                        ],
                        "iteration": 236,
                        "passed_time": 2543.40958,
                        "remaining_time": 8188.276413,
                        "test": [
                          0.004881146597
                        ]
                      },
                      {
                        "learn": [
                          0.003742249158
                        ],
                        "iteration": 237,
                        "passed_time": 2553.872731,
                        "remaining_time": 8176.684964,
                        "test": [
                          0.004860256639
                        ]
                      },
                      {
                        "learn": [
                          0.003725040981
                        ],
                        "iteration": 238,
                        "passed_time": 2564.367342,
                        "remaining_time": 8165.203127,
                        "test": [
                          0.004845938512
                        ]
                      },
                      {
                        "learn": [
                          0.00370450919
                        ],
                        "iteration": 239,
                        "passed_time": 2574.786312,
                        "remaining_time": 8153.489987,
                        "test": [
                          0.004826607555
                        ]
                      },
                      {
                        "learn": [
                          0.003685512776
                        ],
                        "iteration": 240,
                        "passed_time": 2585.225673,
                        "remaining_time": 8141.851809,
                        "test": [
                          0.004809483546
                        ]
                      },
                      {
                        "learn": [
                          0.003662043357
                        ],
                        "iteration": 241,
                        "passed_time": 2595.707924,
                        "remaining_time": 8130.357879,
                        "test": [
                          0.004788138896
                        ]
                      },
                      {
                        "learn": [
                          0.003642423357
                        ],
                        "iteration": 242,
                        "passed_time": 2606.157409,
                        "remaining_time": 8118.7702,
                        "test": [
                          0.004770655156
                        ]
                      },
                      {
                        "learn": [
                          0.003623733365
                        ],
                        "iteration": 243,
                        "passed_time": 2616.687625,
                        "remaining_time": 8107.441985,
                        "test": [
                          0.004754464217
                        ]
                      },
                      {
                        "learn": [
                          0.003602203369
                        ],
                        "iteration": 244,
                        "passed_time": 2627.23127,
                        "remaining_time": 8096.161668,
                        "test": [
                          0.004734977528
                        ]
                      },
                      {
                        "learn": [
                          0.003578292847
                        ],
                        "iteration": 245,
                        "passed_time": 2637.685695,
                        "remaining_time": 8084.613877,
                        "test": [
                          0.00471199802
                        ]
                      },
                      {
                        "learn": [
                          0.003556157638
                        ],
                        "iteration": 246,
                        "passed_time": 2648.101947,
                        "remaining_time": 8072.958567,
                        "test": [
                          0.004692046084
                        ]
                      },
                      {
                        "learn": [
                          0.003538936381
                        ],
                        "iteration": 247,
                        "passed_time": 2658.558909,
                        "remaining_time": 8061.436692,
                        "test": [
                          0.004677670048
                        ]
                      },
                      {
                        "learn": [
                          0.003519984965
                        ],
                        "iteration": 248,
                        "passed_time": 2669.05764,
                        "remaining_time": 8050.049347,
                        "test": [
                          0.004660780837
                        ]
                      },
                      {
                        "learn": [
                          0.00349397527
                        ],
                        "iteration": 249,
                        "passed_time": 2679.560888,
                        "remaining_time": 8038.682665,
                        "test": [
                          0.004634760624
                        ]
                      },
                      {
                        "learn": [
                          0.003475733854
                        ],
                        "iteration": 250,
                        "passed_time": 2690.027328,
                        "remaining_time": 8027.213022,
                        "test": [
                          0.004618704316
                        ]
                      },
                      {
                        "learn": [
                          0.003458082082
                        ],
                        "iteration": 251,
                        "passed_time": 2700.456342,
                        "remaining_time": 8015.640252,
                        "test": [
                          0.004603199699
                        ]
                      },
                      {
                        "learn": [
                          0.003434712935
                        ],
                        "iteration": 252,
                        "passed_time": 2710.891275,
                        "remaining_time": 8004.094002,
                        "test": [
                          0.004581435757
                        ]
                      },
                      {
                        "learn": [
                          0.003410408331
                        ],
                        "iteration": 253,
                        "passed_time": 2721.268402,
                        "remaining_time": 7992.386725,
                        "test": [
                          0.004558037463
                        ]
                      },
                      {
                        "learn": [
                          0.003383586027
                        ],
                        "iteration": 254,
                        "passed_time": 2731.704096,
                        "remaining_time": 7980.860987,
                        "test": [
                          0.004531489369
                        ]
                      },
                      {
                        "learn": [
                          0.003362092621
                        ],
                        "iteration": 255,
                        "passed_time": 2742.130991,
                        "remaining_time": 7969.318194,
                        "test": [
                          0.004510931385
                        ]
                      },
                      {
                        "learn": [
                          0.003346342281
                        ],
                        "iteration": 256,
                        "passed_time": 2752.572998,
                        "remaining_time": 7957.827771,
                        "test": [
                          0.004497682496
                        ]
                      },
                      {
                        "learn": [
                          0.003329204481
                        ],
                        "iteration": 257,
                        "passed_time": 2763.040156,
                        "remaining_time": 7946.417812,
                        "test": [
                          0.004482876608
                        ]
                      },
                      {
                        "learn": [
                          0.003311993657
                        ],
                        "iteration": 258,
                        "passed_time": 2773.566059,
                        "remaining_time": 7935.183204,
                        "test": [
                          0.004467212794
                        ]
                      },
                      {
                        "learn": [
                          0.0032943218
                        ],
                        "iteration": 259,
                        "passed_time": 2784.158572,
                        "remaining_time": 7924.143629,
                        "test": [
                          0.004451426309
                        ]
                      },
                      {
                        "learn": [
                          0.003280869464
                        ],
                        "iteration": 260,
                        "passed_time": 2794.689866,
                        "remaining_time": 7912.934141,
                        "test": [
                          0.004440838779
                        ]
                      },
                      {
                        "learn": [
                          0.003263159149
                        ],
                        "iteration": 261,
                        "passed_time": 2805.172619,
                        "remaining_time": 7901.593102,
                        "test": [
                          0.004424369911
                        ]
                      },
                      {
                        "learn": [
                          0.003244852183
                        ],
                        "iteration": 262,
                        "passed_time": 2815.674389,
                        "remaining_time": 7890.31188,
                        "test": [
                          0.004407753431
                        ]
                      },
                      {
                        "learn": [
                          0.003233641021
                        ],
                        "iteration": 263,
                        "passed_time": 2826.292862,
                        "remaining_time": 7879.361918,
                        "test": [
                          0.004399763179
                        ]
                      },
                      {
                        "learn": [
                          0.003214532658
                        ],
                        "iteration": 264,
                        "passed_time": 2836.740927,
                        "remaining_time": 7867.941815,
                        "test": [
                          0.004382398673
                        ]
                      },
                      {
                        "learn": [
                          0.003200940813
                        ],
                        "iteration": 265,
                        "passed_time": 2847.17089,
                        "remaining_time": 7856.479071,
                        "test": [
                          0.004371082536
                        ]
                      },
                      {
                        "learn": [
                          0.00318322894
                        ],
                        "iteration": 266,
                        "passed_time": 2857.599725,
                        "remaining_time": 7845.020967,
                        "test": [
                          0.004354950775
                        ]
                      },
                      {
                        "learn": [
                          0.00316998073
                        ],
                        "iteration": 267,
                        "passed_time": 2868.128616,
                        "remaining_time": 7833.843833,
                        "test": [
                          0.004344168543
                        ]
                      },
                      {
                        "learn": [
                          0.003151764383
                        ],
                        "iteration": 268,
                        "passed_time": 2878.613732,
                        "remaining_time": 7822.552558,
                        "test": [
                          0.004327644526
                        ]
                      },
                      {
                        "learn": [
                          0.00313499404
                        ],
                        "iteration": 269,
                        "passed_time": 2889.006029,
                        "remaining_time": 7811.016302,
                        "test": [
                          0.004312547609
                        ]
                      },
                      {
                        "learn": [
                          0.003121010761
                        ],
                        "iteration": 270,
                        "passed_time": 2899.495753,
                        "remaining_time": 7799.750568,
                        "test": [
                          0.004301082603
                        ]
                      },
                      {
                        "learn": [
                          0.003108678078
                        ],
                        "iteration": 271,
                        "passed_time": 2909.967606,
                        "remaining_time": 7788.442709,
                        "test": [
                          0.004290842955
                        ]
                      },
                      {
                        "learn": [
                          0.003094241551
                        ],
                        "iteration": 272,
                        "passed_time": 2920.41673,
                        "remaining_time": 7777.080449,
                        "test": [
                          0.004279141175
                        ]
                      },
                      {
                        "learn": [
                          0.003076906944
                        ],
                        "iteration": 273,
                        "passed_time": 2930.853373,
                        "remaining_time": 7765.691784,
                        "test": [
                          0.004262528025
                        ]
                      },
                      {
                        "learn": [
                          0.003060633601
                        ],
                        "iteration": 274,
                        "passed_time": 2941.344857,
                        "remaining_time": 7754.454624,
                        "test": [
                          0.004248156726
                        ]
                      },
                      {
                        "learn": [
                          0.003044740638
                        ],
                        "iteration": 275,
                        "passed_time": 2951.813959,
                        "remaining_time": 7743.164154,
                        "test": [
                          0.004233914859
                        ]
                      },
                      {
                        "learn": [
                          0.003029490257
                        ],
                        "iteration": 276,
                        "passed_time": 2962.37649,
                        "remaining_time": 7732.123474,
                        "test": [
                          0.004220322746
                        ]
                      },
                      {
                        "learn": [
                          0.003012829372
                        ],
                        "iteration": 277,
                        "passed_time": 2972.889426,
                        "remaining_time": 7720.957431,
                        "test": [
                          0.004204494986
                        ]
                      },
                      {
                        "learn": [
                          0.002997986774
                        ],
                        "iteration": 278,
                        "passed_time": 2983.391472,
                        "remaining_time": 7709.767926,
                        "test": [
                          0.004192060152
                        ]
                      },
                      {
                        "learn": [
                          0.002984212291
                        ],
                        "iteration": 279,
                        "passed_time": 2993.86452,
                        "remaining_time": 7698.508767,
                        "test": [
                          0.004179909727
                        ]
                      },
                      {
                        "learn": [
                          0.002965754606
                        ],
                        "iteration": 280,
                        "passed_time": 3004.172408,
                        "remaining_time": 7686.832602,
                        "test": [
                          0.004162155593
                        ]
                      },
                      {
                        "learn": [
                          0.002948615872
                        ],
                        "iteration": 281,
                        "passed_time": 3014.560637,
                        "remaining_time": 7675.370701,
                        "test": [
                          0.004145903825
                        ]
                      },
                      {
                        "learn": [
                          0.002934435475
                        ],
                        "iteration": 282,
                        "passed_time": 3024.99663,
                        "remaining_time": 7664.037397,
                        "test": [
                          0.004133433654
                        ]
                      },
                      {
                        "learn": [
                          0.00292077481
                        ],
                        "iteration": 283,
                        "passed_time": 3035.498268,
                        "remaining_time": 7652.875916,
                        "test": [
                          0.00412240853
                        ]
                      },
                      {
                        "learn": [
                          0.002905508703
                        ],
                        "iteration": 284,
                        "passed_time": 3045.959457,
                        "remaining_time": 7641.617584,
                        "test": [
                          0.004108689375
                        ]
                      },
                      {
                        "learn": [
                          0.002889653887
                        ],
                        "iteration": 285,
                        "passed_time": 3056.38429,
                        "remaining_time": 7630.274065,
                        "test": [
                          0.004094067748
                        ]
                      },
                      {
                        "learn": [
                          0.002879226217
                        ],
                        "iteration": 286,
                        "passed_time": 3066.930722,
                        "remaining_time": 7619.23904,
                        "test": [
                          0.004086559212
                        ]
                      },
                      {
                        "learn": [
                          0.002867177691
                        ],
                        "iteration": 287,
                        "passed_time": 3077.42004,
                        "remaining_time": 7608.06621,
                        "test": [
                          0.00407697078
                        ]
                      },
                      {
                        "learn": [
                          0.002854618929
                        ],
                        "iteration": 288,
                        "passed_time": 3087.984356,
                        "remaining_time": 7597.082621,
                        "test": [
                          0.00406683378
                        ]
                      },
                      {
                        "learn": [
                          0.002839638535
                        ],
                        "iteration": 289,
                        "passed_time": 3104.860119,
                        "remaining_time": 7601.554085,
                        "test": [
                          0.004052480542
                        ]
                      },
                      {
                        "learn": [
                          0.002825258527
                        ],
                        "iteration": 290,
                        "passed_time": 3117.888524,
                        "remaining_time": 7596.50503,
                        "test": [
                          0.00403906623
                        ]
                      },
                      {
                        "learn": [
                          0.002815230856
                        ],
                        "iteration": 291,
                        "passed_time": 3128.398968,
                        "remaining_time": 7585.296129,
                        "test": [
                          0.004031661578
                        ]
                      },
                      {
                        "learn": [
                          0.002804927437
                        ],
                        "iteration": 292,
                        "passed_time": 3138.934587,
                        "remaining_time": 7574.152741,
                        "test": [
                          0.004023799808
                        ]
                      },
                      {
                        "learn": [
                          0.002791951082
                        ],
                        "iteration": 293,
                        "passed_time": 3149.471375,
                        "remaining_time": 7563.016296,
                        "test": [
                          0.004012605896
                        ]
                      },
                      {
                        "learn": [
                          0.002777706691
                        ],
                        "iteration": 294,
                        "passed_time": 3160.000798,
                        "remaining_time": 7551.866315,
                        "test": [
                          0.004000237867
                        ]
                      },
                      {
                        "learn": [
                          0.002762255922
                        ],
                        "iteration": 295,
                        "passed_time": 3170.470595,
                        "remaining_time": 7540.578714,
                        "test": [
                          0.003985966399
                        ]
                      },
                      {
                        "learn": [
                          0.002749833555
                        ],
                        "iteration": 296,
                        "passed_time": 3181.008525,
                        "remaining_time": 7529.457889,
                        "test": [
                          0.003975701587
                        ]
                      },
                      {
                        "learn": [
                          0.002735372582
                        ],
                        "iteration": 297,
                        "passed_time": 3191.526541,
                        "remaining_time": 7518.294065,
                        "test": [
                          0.003962523593
                        ]
                      },
                      {
                        "learn": [
                          0.002720011808
                        ],
                        "iteration": 298,
                        "passed_time": 3201.959778,
                        "remaining_time": 7506.935801,
                        "test": [
                          0.003948587907
                        ]
                      },
                      {
                        "learn": [
                          0.002705094474
                        ],
                        "iteration": 299,
                        "passed_time": 3212.432227,
                        "remaining_time": 7495.675196,
                        "test": [
                          0.003935932478
                        ]
                      },
                      {
                        "learn": [
                          0.002693653185
                        ],
                        "iteration": 300,
                        "passed_time": 3222.873373,
                        "remaining_time": 7484.347134,
                        "test": [
                          0.003925544449
                        ]
                      },
                      {
                        "learn": [
                          0.002675881678
                        ],
                        "iteration": 301,
                        "passed_time": 3233.316605,
                        "remaining_time": 7473.029769,
                        "test": [
                          0.003908428121
                        ]
                      },
                      {
                        "learn": [
                          0.002661627166
                        ],
                        "iteration": 302,
                        "passed_time": 3243.891367,
                        "remaining_time": 7462.020735,
                        "test": [
                          0.003895605282
                        ]
                      },
                      {
                        "learn": [
                          0.002646529217
                        ],
                        "iteration": 303,
                        "passed_time": 3254.44996,
                        "remaining_time": 7450.97754,
                        "test": [
                          0.003881419055
                        ]
                      },
                      {
                        "learn": [
                          0.002627489362
                        ],
                        "iteration": 304,
                        "passed_time": 3264.900222,
                        "remaining_time": 7439.69067,
                        "test": [
                          0.003861966982
                        ]
                      },
                      {
                        "learn": [
                          0.002618486521
                        ],
                        "iteration": 305,
                        "passed_time": 3275.467073,
                        "remaining_time": 7428.673689,
                        "test": [
                          0.003856062903
                        ]
                      },
                      {
                        "learn": [
                          0.002607140366
                        ],
                        "iteration": 306,
                        "passed_time": 3285.991712,
                        "remaining_time": 7417.564353,
                        "test": [
                          0.003846905048
                        ]
                      },
                      {
                        "learn": [
                          0.002596393897
                        ],
                        "iteration": 307,
                        "passed_time": 3296.578264,
                        "remaining_time": 7406.597918,
                        "test": [
                          0.003838506235
                        ]
                      },
                      {
                        "learn": [
                          0.002582971534
                        ],
                        "iteration": 308,
                        "passed_time": 3307.072653,
                        "remaining_time": 7395.427841,
                        "test": [
                          0.003827045351
                        ]
                      },
                      {
                        "learn": [
                          0.002573420311
                        ],
                        "iteration": 309,
                        "passed_time": 3317.538955,
                        "remaining_time": 7384.199611,
                        "test": [
                          0.003819652482
                        ]
                      },
                      {
                        "learn": [
                          0.002563479521
                        ],
                        "iteration": 310,
                        "passed_time": 3328.016929,
                        "remaining_time": 7373.002134,
                        "test": [
                          0.003811692654
                        ]
                      },
                      {
                        "learn": [
                          0.00255226182
                        ],
                        "iteration": 311,
                        "passed_time": 3338.430072,
                        "remaining_time": 7361.666313,
                        "test": [
                          0.003802318177
                        ]
                      },
                      {
                        "learn": [
                          0.002540276897
                        ],
                        "iteration": 312,
                        "passed_time": 3348.883469,
                        "remaining_time": 7350.424739,
                        "test": [
                          0.003792051582
                        ]
                      },
                      {
                        "learn": [
                          0.002528631483
                        ],
                        "iteration": 313,
                        "passed_time": 3359.376934,
                        "remaining_time": 7339.275722,
                        "test": [
                          0.003782392305
                        ]
                      },
                      {
                        "learn": [
                          0.002516776416
                        ],
                        "iteration": 314,
                        "passed_time": 3369.858863,
                        "remaining_time": 7328.105781,
                        "test": [
                          0.003771962969
                        ]
                      },
                      {
                        "learn": [
                          0.002503519642
                        ],
                        "iteration": 315,
                        "passed_time": 3380.325923,
                        "remaining_time": 7316.908012,
                        "test": [
                          0.003760098316
                        ]
                      },
                      {
                        "learn": [
                          0.002493279749
                        ],
                        "iteration": 316,
                        "passed_time": 3390.875083,
                        "remaining_time": 7305.89174,
                        "test": [
                          0.003751767133
                        ]
                      },
                      {
                        "learn": [
                          0.002484619763
                        ],
                        "iteration": 317,
                        "passed_time": 3401.396338,
                        "remaining_time": 7294.818561,
                        "test": [
                          0.003745864959
                        ]
                      },
                      {
                        "learn": [
                          0.002472834062
                        ],
                        "iteration": 318,
                        "passed_time": 3412.000512,
                        "remaining_time": 7283.925858,
                        "test": [
                          0.003735033202
                        ]
                      },
                      {
                        "learn": [
                          0.002454627913
                        ],
                        "iteration": 319,
                        "passed_time": 3423.02026,
                        "remaining_time": 7273.918053,
                        "test": [
                          0.003716242113
                        ]
                      },
                      {
                        "learn": [
                          0.002444561627
                        ],
                        "iteration": 320,
                        "passed_time": 3433.376886,
                        "remaining_time": 7262.501263,
                        "test": [
                          0.003708087897
                        ]
                      },
                      {
                        "learn": [
                          0.002433605194
                        ],
                        "iteration": 321,
                        "passed_time": 3443.666668,
                        "remaining_time": 7250.950312,
                        "test": [
                          0.003699031683
                        ]
                      },
                      {
                        "learn": [
                          0.002420898593
                        ],
                        "iteration": 322,
                        "passed_time": 3453.844652,
                        "remaining_time": 7239.172847,
                        "test": [
                          0.003687232919
                        ]
                      },
                      {
                        "learn": [
                          0.002410366759
                        ],
                        "iteration": 323,
                        "passed_time": 3464.233124,
                        "remaining_time": 7227.844418,
                        "test": [
                          0.003678656065
                        ]
                      },
                      {
                        "learn": [
                          0.00240098128
                        ],
                        "iteration": 324,
                        "passed_time": 3474.586911,
                        "remaining_time": 7216.449739,
                        "test": [
                          0.003670766144
                        ]
                      },
                      {
                        "learn": [
                          0.002388757589
                        ],
                        "iteration": 325,
                        "passed_time": 3484.911883,
                        "remaining_time": 7205.001869,
                        "test": [
                          0.003660488451
                        ]
                      },
                      {
                        "learn": [
                          0.002378503761
                        ],
                        "iteration": 326,
                        "passed_time": 3495.273259,
                        "remaining_time": 7193.63579,
                        "test": [
                          0.003651783268
                        ]
                      },
                      {
                        "learn": [
                          0.002368640978
                        ],
                        "iteration": 327,
                        "passed_time": 3505.623847,
                        "remaining_time": 7182.253735,
                        "test": [
                          0.003643435742
                        ]
                      },
                      {
                        "learn": [
                          0.002357543945
                        ],
                        "iteration": 328,
                        "passed_time": 3516.00212,
                        "remaining_time": 7170.934415,
                        "test": [
                          0.003633480844
                        ]
                      },
                      {
                        "learn": [
                          0.002346793817
                        ],
                        "iteration": 329,
                        "passed_time": 3526.364068,
                        "remaining_time": 7159.587654,
                        "test": [
                          0.003623689738
                        ]
                      },
                      {
                        "learn": [
                          0.002337529319
                        ],
                        "iteration": 330,
                        "passed_time": 3536.697971,
                        "remaining_time": 7148.190158,
                        "test": [
                          0.003615580274
                        ]
                      },
                      {
                        "learn": [
                          0.00232391482
                        ],
                        "iteration": 331,
                        "passed_time": 3546.978416,
                        "remaining_time": 7136.691512,
                        "test": [
                          0.00360251122
                        ]
                      },
                      {
                        "learn": [
                          0.002313047137
                        ],
                        "iteration": 332,
                        "passed_time": 3557.34812,
                        "remaining_time": 7125.378967,
                        "test": [
                          0.003592994904
                        ]
                      },
                      {
                        "learn": [
                          0.002302561935
                        ],
                        "iteration": 333,
                        "passed_time": 3567.662412,
                        "remaining_time": 7113.961575,
                        "test": [
                          0.003584456445
                        ]
                      },
                      {
                        "learn": [
                          0.002292413283
                        ],
                        "iteration": 334,
                        "passed_time": 3577.993265,
                        "remaining_time": 7102.583646,
                        "test": [
                          0.003575934112
                        ]
                      },
                      {
                        "learn": [
                          0.002282195578
                        ],
                        "iteration": 335,
                        "passed_time": 3588.351905,
                        "remaining_time": 7091.26686,
                        "test": [
                          0.003567335671
                        ]
                      },
                      {
                        "learn": [
                          0.002272771874
                        ],
                        "iteration": 336,
                        "passed_time": 3598.747306,
                        "remaining_time": 7080.028082,
                        "test": [
                          0.003560077279
                        ]
                      },
                      {
                        "learn": [
                          0.002263023065
                        ],
                        "iteration": 337,
                        "passed_time": 3609.098388,
                        "remaining_time": 7068.707495,
                        "test": [
                          0.003551789599
                        ]
                      },
                      {
                        "learn": [
                          0.002253228402
                        ],
                        "iteration": 338,
                        "passed_time": 3619.436896,
                        "remaining_time": 7057.368107,
                        "test": [
                          0.003543066307
                        ]
                      },
                      {
                        "learn": [
                          0.002244545139
                        ],
                        "iteration": 339,
                        "passed_time": 3629.833548,
                        "remaining_time": 7046.147475,
                        "test": [
                          0.003536324281
                        ]
                      },
                      {
                        "learn": [
                          0.002234920424
                        ],
                        "iteration": 340,
                        "passed_time": 3640.141241,
                        "remaining_time": 7034.759759,
                        "test": [
                          0.00352811982
                        ]
                      },
                      {
                        "learn": [
                          0.002225160716
                        ],
                        "iteration": 341,
                        "passed_time": 3650.509508,
                        "remaining_time": 7023.494902,
                        "test": [
                          0.003519511663
                        ]
                      },
                      {
                        "learn": [
                          0.00221396528
                        ],
                        "iteration": 342,
                        "passed_time": 3660.796833,
                        "remaining_time": 7012.080231,
                        "test": [
                          0.003509377274
                        ]
                      },
                      {
                        "learn": [
                          0.002205332075
                        ],
                        "iteration": 343,
                        "passed_time": 3671.14789,
                        "remaining_time": 7000.793651,
                        "test": [
                          0.003502466709
                        ]
                      },
                      {
                        "learn": [
                          0.002197451689
                        ],
                        "iteration": 344,
                        "passed_time": 3681.561043,
                        "remaining_time": 6989.630385,
                        "test": [
                          0.00349629962
                        ]
                      },
                      {
                        "learn": [
                          0.002188714086
                        ],
                        "iteration": 345,
                        "passed_time": 3691.851802,
                        "remaining_time": 6978.240112,
                        "test": [
                          0.003489303645
                        ]
                      },
                      {
                        "learn": [
                          0.002180454877
                        ],
                        "iteration": 346,
                        "passed_time": 3702.151184,
                        "remaining_time": 6966.8724,
                        "test": [
                          0.00348367652
                        ]
                      },
                      {
                        "learn": [
                          0.002171960947
                        ],
                        "iteration": 347,
                        "passed_time": 3718.588951,
                        "remaining_time": 6967.011483,
                        "test": [
                          0.003477380492
                        ]
                      },
                      {
                        "learn": [
                          0.00216222148
                        ],
                        "iteration": 348,
                        "passed_time": 3731.897964,
                        "remaining_time": 6961.219412,
                        "test": [
                          0.003468860029
                        ]
                      },
                      {
                        "learn": [
                          0.002151776995
                        ],
                        "iteration": 349,
                        "passed_time": 3742.226756,
                        "remaining_time": 6949.849689,
                        "test": [
                          0.003460076868
                        ]
                      },
                      {
                        "learn": [
                          0.002140162955
                        ],
                        "iteration": 350,
                        "passed_time": 3752.532014,
                        "remaining_time": 6938.442386,
                        "test": [
                          0.003448653129
                        ]
                      },
                      {
                        "learn": [
                          0.002130888881
                        ],
                        "iteration": 351,
                        "passed_time": 3762.90447,
                        "remaining_time": 6927.165047,
                        "test": [
                          0.003441267366
                        ]
                      },
                      {
                        "learn": [
                          0.002121190674
                        ],
                        "iteration": 352,
                        "passed_time": 3773.27866,
                        "remaining_time": 6915.896014,
                        "test": [
                          0.003433130216
                        ]
                      },
                      {
                        "learn": [
                          0.002109774298
                        ],
                        "iteration": 353,
                        "passed_time": 3783.616505,
                        "remaining_time": 6904.565712,
                        "test": [
                          0.003423253095
                        ]
                      },
                      {
                        "learn": [
                          0.002102649455
                        ],
                        "iteration": 354,
                        "passed_time": 3793.98115,
                        "remaining_time": 6893.289695,
                        "test": [
                          0.003418134584
                        ]
                      },
                      {
                        "learn": [
                          0.002092790253
                        ],
                        "iteration": 355,
                        "passed_time": 3804.344155,
                        "remaining_time": 6882.015831,
                        "test": [
                          0.00341012759
                        ]
                      },
                      {
                        "learn": [
                          0.002083891655
                        ],
                        "iteration": 356,
                        "passed_time": 3814.731294,
                        "remaining_time": 6870.790538,
                        "test": [
                          0.003402942088
                        ]
                      },
                      {
                        "learn": [
                          0.002075996088
                        ],
                        "iteration": 357,
                        "passed_time": 3825.081622,
                        "remaining_time": 6859.503915,
                        "test": [
                          0.00339733948
                        ]
                      },
                      {
                        "learn": [
                          0.002067610137
                        ],
                        "iteration": 358,
                        "passed_time": 3835.405371,
                        "remaining_time": 6848.175049,
                        "test": [
                          0.003390556743
                        ]
                      },
                      {
                        "learn": [
                          0.002059633761
                        ],
                        "iteration": 359,
                        "passed_time": 3845.718826,
                        "remaining_time": 6836.833468,
                        "test": [
                          0.0033840707
                        ]
                      },
                      {
                        "learn": [
                          0.002052297553
                        ],
                        "iteration": 360,
                        "passed_time": 3856.023989,
                        "remaining_time": 6825.482905,
                        "test": [
                          0.003378321038
                        ]
                      },
                      {
                        "learn": [
                          0.002045785242
                        ],
                        "iteration": 361,
                        "passed_time": 3866.475476,
                        "remaining_time": 6814.396005,
                        "test": [
                          0.003373988233
                        ]
                      },
                      {
                        "learn": [
                          0.002035666174
                        ],
                        "iteration": 362,
                        "passed_time": 3876.885418,
                        "remaining_time": 6803.2397,
                        "test": [
                          0.003364846142
                        ]
                      },
                      {
                        "learn": [
                          0.00202909384
                        ],
                        "iteration": 363,
                        "passed_time": 3887.290382,
                        "remaining_time": 6792.078799,
                        "test": [
                          0.003359758537
                        ]
                      },
                      {
                        "learn": [
                          0.002022945093
                        ],
                        "iteration": 364,
                        "passed_time": 3897.766454,
                        "remaining_time": 6781.045748,
                        "test": [
                          0.003355798191
                        ]
                      },
                      {
                        "learn": [
                          0.002015917875
                        ],
                        "iteration": 365,
                        "passed_time": 3908.172484,
                        "remaining_time": 6769.894412,
                        "test": [
                          0.003351146924
                        ]
                      },
                      {
                        "learn": [
                          0.002008728962
                        ],
                        "iteration": 366,
                        "passed_time": 3918.507035,
                        "remaining_time": 6758.623851,
                        "test": [
                          0.003346025066
                        ]
                      },
                      {
                        "learn": [
                          0.00200005543
                        ],
                        "iteration": 367,
                        "passed_time": 3928.815928,
                        "remaining_time": 6747.314312,
                        "test": [
                          0.003337948584
                        ]
                      },
                      {
                        "learn": [
                          0.001990846673
                        ],
                        "iteration": 368,
                        "passed_time": 3939.102793,
                        "remaining_time": 6735.972526,
                        "test": [
                          0.00332836923
                        ]
                      },
                      {
                        "learn": [
                          0.001979870777
                        ],
                        "iteration": 369,
                        "passed_time": 3949.312299,
                        "remaining_time": 6724.504725,
                        "test": [
                          0.003318477613
                        ]
                      },
                      {
                        "learn": [
                          0.001972835541
                        ],
                        "iteration": 370,
                        "passed_time": 3959.716915,
                        "remaining_time": 6713.3745,
                        "test": [
                          0.003313105947
                        ]
                      },
                      {
                        "learn": [
                          0.00196494846
                        ],
                        "iteration": 371,
                        "passed_time": 3970.108714,
                        "remaining_time": 6702.226538,
                        "test": [
                          0.003306399336
                        ]
                      },
                      {
                        "learn": [
                          0.001956424869
                        ],
                        "iteration": 372,
                        "passed_time": 3980.433461,
                        "remaining_time": 6690.96992,
                        "test": [
                          0.003298844044
                        ]
                      },
                      {
                        "learn": [
                          0.001948351724
                        ],
                        "iteration": 373,
                        "passed_time": 3990.759138,
                        "remaining_time": 6679.71984,
                        "test": [
                          0.003291791471
                        ]
                      },
                      {
                        "learn": [
                          0.001941555957
                        ],
                        "iteration": 374,
                        "passed_time": 4001.155124,
                        "remaining_time": 6668.591873,
                        "test": [
                          0.00328673598
                        ]
                      },
                      {
                        "learn": [
                          0.00193365969
                        ],
                        "iteration": 375,
                        "passed_time": 4011.444498,
                        "remaining_time": 6657.290869,
                        "test": [
                          0.003279680479
                        ]
                      },
                      {
                        "learn": [
                          0.001927786379
                        ],
                        "iteration": 376,
                        "passed_time": 4021.906754,
                        "remaining_time": 6646.280922,
                        "test": [
                          0.003276399296
                        ]
                      },
                      {
                        "learn": [
                          0.001920975432
                        ],
                        "iteration": 377,
                        "passed_time": 4032.255624,
                        "remaining_time": 6635.087297,
                        "test": [
                          0.003271141849
                        ]
                      },
                      {
                        "learn": [
                          0.001914100881
                        ],
                        "iteration": 378,
                        "passed_time": 4042.665411,
                        "remaining_time": 6623.997943,
                        "test": [
                          0.003265578911
                        ]
                      },
                      {
                        "learn": [
                          0.001905625635
                        ],
                        "iteration": 379,
                        "passed_time": 4052.914175,
                        "remaining_time": 6612.649444,
                        "test": [
                          0.003257614078
                        ]
                      },
                      {
                        "learn": [
                          0.001896760279
                        ],
                        "iteration": 380,
                        "passed_time": 4063.177667,
                        "remaining_time": 6601.330645,
                        "test": [
                          0.003249743099
                        ]
                      },
                      {
                        "learn": [
                          0.001890528543
                        ],
                        "iteration": 381,
                        "passed_time": 4073.552777,
                        "remaining_time": 6590.197949,
                        "test": [
                          0.003245318128
                        ]
                      },
                      {
                        "learn": [
                          0.001880950538
                        ],
                        "iteration": 382,
                        "passed_time": 4083.807836,
                        "remaining_time": 6578.875809,
                        "test": [
                          0.00323721673
                        ]
                      },
                      {
                        "learn": [
                          0.001874014407
                        ],
                        "iteration": 383,
                        "passed_time": 4094.15476,
                        "remaining_time": 6567.706594,
                        "test": [
                          0.003231910487
                        ]
                      },
                      {
                        "learn": [
                          0.001867325374
                        ],
                        "iteration": 384,
                        "passed_time": 4104.64707,
                        "remaining_time": 6556.773891,
                        "test": [
                          0.003227069119
                        ]
                      },
                      {
                        "learn": [
                          0.001861876819
                        ],
                        "iteration": 385,
                        "passed_time": 4115.10566,
                        "remaining_time": 6545.789832,
                        "test": [
                          0.003223517444
                        ]
                      },
                      {
                        "learn": [
                          0.00185264603
                        ],
                        "iteration": 386,
                        "passed_time": 4125.44771,
                        "remaining_time": 6534.623892,
                        "test": [
                          0.003214916885
                        ]
                      },
                      {
                        "learn": [
                          0.00184423182
                        ],
                        "iteration": 387,
                        "passed_time": 4135.750352,
                        "remaining_time": 6523.40004,
                        "test": [
                          0.003206690668
                        ]
                      },
                      {
                        "learn": [
                          0.001836709937
                        ],
                        "iteration": 388,
                        "passed_time": 4146.145812,
                        "remaining_time": 6512.326713,
                        "test": [
                          0.003200641426
                        ]
                      },
                      {
                        "learn": [
                          0.00182881437
                        ],
                        "iteration": 389,
                        "passed_time": 4156.541087,
                        "remaining_time": 6501.256572,
                        "test": [
                          0.003193256544
                        ]
                      },
                      {
                        "learn": [
                          0.001820855978
                        ],
                        "iteration": 390,
                        "passed_time": 4166.871785,
                        "remaining_time": 6490.089302,
                        "test": [
                          0.003186389123
                        ]
                      },
                      {
                        "learn": [
                          0.00181422798
                        ],
                        "iteration": 391,
                        "passed_time": 4177.255657,
                        "remaining_time": 6479.008773,
                        "test": [
                          0.003180790996
                        ]
                      },
                      {
                        "learn": [
                          0.001808710526
                        ],
                        "iteration": 392,
                        "passed_time": 4187.603069,
                        "remaining_time": 6467.875478,
                        "test": [
                          0.003177160032
                        ]
                      },
                      {
                        "learn": [
                          0.00180197346
                        ],
                        "iteration": 393,
                        "passed_time": 4197.945154,
                        "remaining_time": 6456.737978,
                        "test": [
                          0.003171969775
                        ]
                      },
                      {
                        "learn": [
                          0.001795426972
                        ],
                        "iteration": 394,
                        "passed_time": 4208.326555,
                        "remaining_time": 6445.664723,
                        "test": [
                          0.003166300442
                        ]
                      },
                      {
                        "learn": [
                          0.001788551798
                        ],
                        "iteration": 395,
                        "passed_time": 4218.731377,
                        "remaining_time": 6434.630686,
                        "test": [
                          0.00316048086
                        ]
                      },
                      {
                        "learn": [
                          0.001778701782
                        ],
                        "iteration": 396,
                        "passed_time": 4229.077756,
                        "remaining_time": 6423.511049,
                        "test": [
                          0.003150589857
                        ]
                      },
                      {
                        "learn": [
                          0.001772719091
                        ],
                        "iteration": 397,
                        "passed_time": 4239.441336,
                        "remaining_time": 6412.421318,
                        "test": [
                          0.003145465193
                        ]
                      },
                      {
                        "learn": [
                          0.001766326593
                        ],
                        "iteration": 398,
                        "passed_time": 4249.779396,
                        "remaining_time": 6401.296785,
                        "test": [
                          0.003139847244
                        ]
                      },
                      {
                        "learn": [
                          0.001758254538
                        ],
                        "iteration": 399,
                        "passed_time": 4260.135496,
                        "remaining_time": 6390.203243,
                        "test": [
                          0.003133004985
                        ]
                      },
                      {
                        "learn": [
                          0.001751639152
                        ],
                        "iteration": 400,
                        "passed_time": 4270.44251,
                        "remaining_time": 6379.040059,
                        "test": [
                          0.003127175493
                        ]
                      },
                      {
                        "learn": [
                          0.001745045409
                        ],
                        "iteration": 401,
                        "passed_time": 4280.787768,
                        "remaining_time": 6367.938023,
                        "test": [
                          0.003122445098
                        ]
                      },
                      {
                        "learn": [
                          0.001737818348
                        ],
                        "iteration": 402,
                        "passed_time": 4291.122241,
                        "remaining_time": 6356.823767,
                        "test": [
                          0.003116514656
                        ]
                      },
                      {
                        "learn": [
                          0.001729752677
                        ],
                        "iteration": 403,
                        "passed_time": 4301.42635,
                        "remaining_time": 6345.668576,
                        "test": [
                          0.003109743694
                        ]
                      },
                      {
                        "learn": [
                          0.001722706075
                        ],
                        "iteration": 404,
                        "passed_time": 4311.727087,
                        "remaining_time": 6334.512634,
                        "test": [
                          0.003104129138
                        ]
                      },
                      {
                        "learn": [
                          0.001716387846
                        ],
                        "iteration": 405,
                        "passed_time": 4322.051043,
                        "remaining_time": 6323.394875,
                        "test": [
                          0.003098742319
                        ]
                      },
                      {
                        "learn": [
                          0.001710269227
                        ],
                        "iteration": 406,
                        "passed_time": 4342.400901,
                        "remaining_time": 6326.888782,
                        "test": [
                          0.003094416957
                        ]
                      },
                      {
                        "learn": [
                          0.001704740719
                        ],
                        "iteration": 407,
                        "passed_time": 4352.916527,
                        "remaining_time": 6315.99653,
                        "test": [
                          0.003090229892
                        ]
                      },
                      {
                        "learn": [
                          0.001698942924
                        ],
                        "iteration": 408,
                        "passed_time": 4363.308194,
                        "remaining_time": 6304.927,
                        "test": [
                          0.003085813398
                        ]
                      },
                      {
                        "learn": [
                          0.001693079267
                        ],
                        "iteration": 409,
                        "passed_time": 4373.734611,
                        "remaining_time": 6293.910782,
                        "test": [
                          0.003081114269
                        ]
                      },
                      {
                        "learn": [
                          0.001687663253
                        ],
                        "iteration": 410,
                        "passed_time": 4384.141557,
                        "remaining_time": 6282.869531,
                        "test": [
                          0.003077446691
                        ]
                      },
                      {
                        "learn": [
                          0.001682007147
                        ],
                        "iteration": 411,
                        "passed_time": 4394.525313,
                        "remaining_time": 6271.798262,
                        "test": [
                          0.003073275861
                        ]
                      },
                      {
                        "learn": [
                          0.001675975099
                        ],
                        "iteration": 412,
                        "passed_time": 4404.992271,
                        "remaining_time": 6260.848578,
                        "test": [
                          0.003069104312
                        ]
                      },
                      {
                        "learn": [
                          0.001668592803
                        ],
                        "iteration": 413,
                        "passed_time": 4415.37722,
                        "remaining_time": 6249.785147,
                        "test": [
                          0.003062754041
                        ]
                      },
                      {
                        "learn": [
                          0.001662571732
                        ],
                        "iteration": 414,
                        "passed_time": 4425.681127,
                        "remaining_time": 6238.610745,
                        "test": [
                          0.003057818504
                        ]
                      },
                      {
                        "learn": [
                          0.001656610528
                        ],
                        "iteration": 415,
                        "passed_time": 4436.037746,
                        "remaining_time": 6227.514527,
                        "test": [
                          0.003053567314
                        ]
                      },
                      {
                        "learn": [
                          0.001651156601
                        ],
                        "iteration": 416,
                        "passed_time": 4446.413305,
                        "remaining_time": 6216.448338,
                        "test": [
                          0.003049320736
                        ]
                      },
                      {
                        "learn": [
                          0.001644554372
                        ],
                        "iteration": 417,
                        "passed_time": 4456.778018,
                        "remaining_time": 6205.370351,
                        "test": [
                          0.003044145302
                        ]
                      },
                      {
                        "learn": [
                          0.001638363819
                        ],
                        "iteration": 418,
                        "passed_time": 4467.207977,
                        "remaining_time": 6194.38624,
                        "test": [
                          0.003039034253
                        ]
                      },
                      {
                        "learn": [
                          0.001634105449
                        ],
                        "iteration": 419,
                        "passed_time": 4477.64468,
                        "remaining_time": 6183.414082,
                        "test": [
                          0.00303633274
                        ]
                      },
                      {
                        "learn": [
                          0.00162840559
                        ],
                        "iteration": 420,
                        "passed_time": 4488.018613,
                        "remaining_time": 6172.35814,
                        "test": [
                          0.00303195589
                        ]
                      },
                      {
                        "learn": [
                          0.001621478957
                        ],
                        "iteration": 421,
                        "passed_time": 4498.400065,
                        "remaining_time": 6161.315728,
                        "test": [
                          0.00302582565
                        ]
                      },
                      {
                        "learn": [
                          0.001613206824
                        ],
                        "iteration": 422,
                        "passed_time": 4508.714845,
                        "remaining_time": 6150.185498,
                        "test": [
                          0.0030183982
                        ]
                      },
                      {
                        "learn": [
                          0.001608351182
                        ],
                        "iteration": 423,
                        "passed_time": 4519.121231,
                        "remaining_time": 6139.183558,
                        "test": [
                          0.003015814856
                        ]
                      },
                      {
                        "learn": [
                          0.001602940618
                        ],
                        "iteration": 424,
                        "passed_time": 4529.533991,
                        "remaining_time": 6128.193047,
                        "test": [
                          0.003011704986
                        ]
                      },
                      {
                        "learn": [
                          0.001597691594
                        ],
                        "iteration": 425,
                        "passed_time": 4539.95928,
                        "remaining_time": 6117.222129,
                        "test": [
                          0.003008468191
                        ]
                      },
                      {
                        "learn": [
                          0.001592473789
                        ],
                        "iteration": 426,
                        "passed_time": 4550.282256,
                        "remaining_time": 6106.11647,
                        "test": [
                          0.003004870453
                        ]
                      },
                      {
                        "learn": [
                          0.001586832163
                        ],
                        "iteration": 427,
                        "passed_time": 4560.671961,
                        "remaining_time": 6095.103648,
                        "test": [
                          0.003000261823
                        ]
                      },
                      {
                        "learn": [
                          0.001580979172
                        ],
                        "iteration": 428,
                        "passed_time": 4571.015561,
                        "remaining_time": 6084.032366,
                        "test": [
                          0.002996017999
                        ]
                      },
                      {
                        "learn": [
                          0.001574660243
                        ],
                        "iteration": 429,
                        "passed_time": 4581.492529,
                        "remaining_time": 6073.141259,
                        "test": [
                          0.002990894207
                        ]
                      },
                      {
                        "learn": [
                          0.001569015659
                        ],
                        "iteration": 430,
                        "passed_time": 4591.977074,
                        "remaining_time": 6062.262077,
                        "test": [
                          0.002986572153
                        ]
                      },
                      {
                        "learn": [
                          0.001563266209
                        ],
                        "iteration": 431,
                        "passed_time": 4602.402138,
                        "remaining_time": 6051.306514,
                        "test": [
                          0.002982246432
                        ]
                      },
                      {
                        "learn": [
                          0.001557757475
                        ],
                        "iteration": 432,
                        "passed_time": 4612.776905,
                        "remaining_time": 6040.28754,
                        "test": [
                          0.002977441566
                        ]
                      },
                      {
                        "learn": [
                          0.001552250531
                        ],
                        "iteration": 433,
                        "passed_time": 4623.156145,
                        "remaining_time": 6029.277369,
                        "test": [
                          0.002973541669
                        ]
                      },
                      {
                        "learn": [
                          0.001547367252
                        ],
                        "iteration": 434,
                        "passed_time": 4633.558658,
                        "remaining_time": 6018.300326,
                        "test": [
                          0.002969738016
                        ]
                      },
                      {
                        "learn": [
                          0.001542591017
                        ],
                        "iteration": 435,
                        "passed_time": 4644.008087,
                        "remaining_time": 6007.386608,
                        "test": [
                          0.002966539227
                        ]
                      },
                      {
                        "learn": [
                          0.001538345026
                        ],
                        "iteration": 436,
                        "passed_time": 4654.392802,
                        "remaining_time": 5996.391641,
                        "test": [
                          0.002963786195
                        ]
                      },
                      {
                        "learn": [
                          0.001533750573
                        ],
                        "iteration": 437,
                        "passed_time": 4664.837601,
                        "remaining_time": 5985.476556,
                        "test": [
                          0.002961286137
                        ]
                      },
                      {
                        "learn": [
                          0.001528250636
                        ],
                        "iteration": 438,
                        "passed_time": 4675.197503,
                        "remaining_time": 5974.455124,
                        "test": [
                          0.002956403926
                        ]
                      },
                      {
                        "learn": [
                          0.001523996081
                        ],
                        "iteration": 439,
                        "passed_time": 4685.645926,
                        "remaining_time": 5963.54936,
                        "test": [
                          0.0029539054
                        ]
                      },
                      {
                        "learn": [
                          0.001519411437
                        ],
                        "iteration": 440,
                        "passed_time": 4696.124652,
                        "remaining_time": 5952.684082,
                        "test": [
                          0.002951077994
                        ]
                      },
                      {
                        "learn": [
                          0.001513175731
                        ],
                        "iteration": 441,
                        "passed_time": 4706.583137,
                        "remaining_time": 5941.795001,
                        "test": [
                          0.002945408616
                        ]
                      },
                      {
                        "learn": [
                          0.001508364308
                        ],
                        "iteration": 442,
                        "passed_time": 4717.07799,
                        "remaining_time": 5930.95359,
                        "test": [
                          0.002941814532
                        ]
                      },
                      {
                        "learn": [
                          0.001503058842
                        ],
                        "iteration": 443,
                        "passed_time": 4727.5025,
                        "remaining_time": 5920.025653,
                        "test": [
                          0.002937805717
                        ]
                      },
                      {
                        "learn": [
                          0.001498830289
                        ],
                        "iteration": 444,
                        "passed_time": 4737.939276,
                        "remaining_time": 5909.115276,
                        "test": [
                          0.002934978489
                        ]
                      },
                      {
                        "learn": [
                          0.001492507623
                        ],
                        "iteration": 445,
                        "passed_time": 4748.31753,
                        "remaining_time": 5898.134331,
                        "test": [
                          0.002929825181
                        ]
                      },
                      {
                        "learn": [
                          0.001487506166
                        ],
                        "iteration": 446,
                        "passed_time": 4758.845068,
                        "remaining_time": 5887.340766,
                        "test": [
                          0.002926672446
                        ]
                      },
                      {
                        "learn": [
                          0.001482239704
                        ],
                        "iteration": 447,
                        "passed_time": 4769.312553,
                        "remaining_time": 5876.474396,
                        "test": [
                          0.002923340358
                        ]
                      },
                      {
                        "learn": [
                          0.001477771214
                        ],
                        "iteration": 448,
                        "passed_time": 4779.906986,
                        "remaining_time": 5865.765588,
                        "test": [
                          0.002920561626
                        ]
                      },
                      {
                        "learn": [
                          0.001472018495
                        ],
                        "iteration": 449,
                        "passed_time": 4790.260244,
                        "remaining_time": 5854.76252,
                        "test": [
                          0.002916279719
                        ]
                      },
                      {
                        "learn": [
                          0.001468376471
                        ],
                        "iteration": 450,
                        "passed_time": 4800.704844,
                        "remaining_time": 5843.873524,
                        "test": [
                          0.002914150454
                        ]
                      },
                      {
                        "learn": [
                          0.00146361425
                        ],
                        "iteration": 451,
                        "passed_time": 4811.0773,
                        "remaining_time": 5832.899028,
                        "test": [
                          0.002911152584
                        ]
                      },
                      {
                        "learn": [
                          0.001458827739
                        ],
                        "iteration": 452,
                        "passed_time": 4821.458217,
                        "remaining_time": 5821.937405,
                        "test": [
                          0.002907104489
                        ]
                      },
                      {
                        "learn": [
                          0.00145454181
                        ],
                        "iteration": 453,
                        "passed_time": 4831.96631,
                        "remaining_time": 5811.131289,
                        "test": [
                          0.002904794863
                        ]
                      },
                      {
                        "learn": [
                          0.001450117539
                        ],
                        "iteration": 454,
                        "passed_time": 4842.43417,
                        "remaining_time": 5800.278292,
                        "test": [
                          0.002901484739
                        ]
                      },
                      {
                        "learn": [
                          0.001445343173
                        ],
                        "iteration": 455,
                        "passed_time": 4852.830939,
                        "remaining_time": 5789.342173,
                        "test": [
                          0.002898213758
                        ]
                      },
                      {
                        "learn": [
                          0.001440397924
                        ],
                        "iteration": 456,
                        "passed_time": 4863.239919,
                        "remaining_time": 5778.422923,
                        "test": [
                          0.002894936657
                        ]
                      },
                      {
                        "learn": [
                          0.001435370465
                        ],
                        "iteration": 457,
                        "passed_time": 4873.617429,
                        "remaining_time": 5767.468661,
                        "test": [
                          0.002891276611
                        ]
                      },
                      {
                        "learn": [
                          0.001431275193
                        ],
                        "iteration": 458,
                        "passed_time": 4884.053648,
                        "remaining_time": 5756.586108,
                        "test": [
                          0.002889055805
                        ]
                      },
                      {
                        "learn": [
                          0.001426780856
                        ],
                        "iteration": 459,
                        "passed_time": 4894.467065,
                        "remaining_time": 5745.678729,
                        "test": [
                          0.002885506987
                        ]
                      },
                      {
                        "learn": [
                          0.001422627352
                        ],
                        "iteration": 460,
                        "passed_time": 4904.994074,
                        "remaining_time": 5734.906304,
                        "test": [
                          0.002882776219
                        ]
                      },
                      {
                        "learn": [
                          0.001418386498
                        ],
                        "iteration": 461,
                        "passed_time": 4915.348515,
                        "remaining_time": 5723.933985,
                        "test": [
                          0.002880502728
                        ]
                      },
                      {
                        "learn": [
                          0.001414037588
                        ],
                        "iteration": 462,
                        "passed_time": 4925.683582,
                        "remaining_time": 5712.941865,
                        "test": [
                          0.002877664551
                        ]
                      },
                      {
                        "learn": [
                          0.001409591986
                        ],
                        "iteration": 463,
                        "passed_time": 4936.068942,
                        "remaining_time": 5702.010674,
                        "test": [
                          0.002874735889
                        ]
                      },
                      {
                        "learn": [
                          0.001404475154
                        ],
                        "iteration": 464,
                        "passed_time": 4957.393875,
                        "remaining_time": 5703.668222,
                        "test": [
                          0.002871008364
                        ]
                      },
                      {
                        "learn": [
                          0.001400359952
                        ],
                        "iteration": 465,
                        "passed_time": 4967.855464,
                        "remaining_time": 5692.778579,
                        "test": [
                          0.002868384892
                        ]
                      },
                      {
                        "learn": [
                          0.001395543001
                        ],
                        "iteration": 466,
                        "passed_time": 4978.260186,
                        "remaining_time": 5681.825865,
                        "test": [
                          0.002865334742
                        ]
                      },
                      {
                        "learn": [
                          0.001390899035
                        ],
                        "iteration": 467,
                        "passed_time": 4988.680422,
                        "remaining_time": 5670.893129,
                        "test": [
                          0.002862070086
                        ]
                      },
                      {
                        "learn": [
                          0.001386519919
                        ],
                        "iteration": 468,
                        "passed_time": 4999.119305,
                        "remaining_time": 5659.983691,
                        "test": [
                          0.002858480189
                        ]
                      },
                      {
                        "learn": [
                          0.001381274165
                        ],
                        "iteration": 469,
                        "passed_time": 5009.526398,
                        "remaining_time": 5649.040406,
                        "test": [
                          0.002853728772
                        ]
                      },
                      {
                        "learn": [
                          0.001376845379
                        ],
                        "iteration": 470,
                        "passed_time": 5019.943887,
                        "remaining_time": 5638.111075,
                        "test": [
                          0.002850761382
                        ]
                      },
                      {
                        "learn": [
                          0.001371917647
                        ],
                        "iteration": 471,
                        "passed_time": 5030.316961,
                        "remaining_time": 5627.134227,
                        "test": [
                          0.002846835033
                        ]
                      },
                      {
                        "learn": [
                          0.001367880841
                        ],
                        "iteration": 472,
                        "passed_time": 5040.714033,
                        "remaining_time": 5616.186671,
                        "test": [
                          0.002843412235
                        ]
                      },
                      {
                        "learn": [
                          0.001363941893
                        ],
                        "iteration": 473,
                        "passed_time": 5051.199158,
                        "remaining_time": 5605.33915,
                        "test": [
                          0.002841573149
                        ]
                      },
                      {
                        "learn": [
                          0.001359607152
                        ],
                        "iteration": 474,
                        "passed_time": 5061.533098,
                        "remaining_time": 5594.326056,
                        "test": [
                          0.002838437358
                        ]
                      },
                      {
                        "learn": [
                          0.001355510634
                        ],
                        "iteration": 475,
                        "passed_time": 5072.02311,
                        "remaining_time": 5583.487625,
                        "test": [
                          0.002835760893
                        ]
                      },
                      {
                        "learn": [
                          0.001350713457
                        ],
                        "iteration": 476,
                        "passed_time": 5082.483859,
                        "remaining_time": 5572.618571,
                        "test": [
                          0.002831922472
                        ]
                      },
                      {
                        "learn": [
                          0.001346519704
                        ],
                        "iteration": 477,
                        "passed_time": 5092.860557,
                        "remaining_time": 5561.659436,
                        "test": [
                          0.002828821806
                        ]
                      },
                      {
                        "learn": [
                          0.001342270131
                        ],
                        "iteration": 478,
                        "passed_time": 5103.141229,
                        "remaining_time": 5550.598288,
                        "test": [
                          0.002825766757
                        ]
                      },
                      {
                        "learn": [
                          0.00133773142
                        ],
                        "iteration": 479,
                        "passed_time": 5113.500991,
                        "remaining_time": 5539.626074,
                        "test": [
                          0.002821343982
                        ]
                      },
                      {
                        "learn": [
                          0.001333212327
                        ],
                        "iteration": 480,
                        "passed_time": 5123.895814,
                        "remaining_time": 5528.694236,
                        "test": [
                          0.002818313994
                        ]
                      },
                      {
                        "learn": [
                          0.001329626434
                        ],
                        "iteration": 481,
                        "passed_time": 5134.331386,
                        "remaining_time": 5517.808419,
                        "test": [
                          0.002816647305
                        ]
                      },
                      {
                        "learn": [
                          0.001325647782
                        ],
                        "iteration": 482,
                        "passed_time": 5144.705387,
                        "remaining_time": 5506.858561,
                        "test": [
                          0.002813981891
                        ]
                      },
                      {
                        "learn": [
                          0.00132201728
                        ],
                        "iteration": 483,
                        "passed_time": 5155.072109,
                        "remaining_time": 5495.903322,
                        "test": [
                          0.002811771209
                        ]
                      },
                      {
                        "learn": [
                          0.001318379772
                        ],
                        "iteration": 484,
                        "passed_time": 5165.520415,
                        "remaining_time": 5485.037141,
                        "test": [
                          0.002809379898
                        ]
                      },
                      {
                        "learn": [
                          0.00131460906
                        ],
                        "iteration": 485,
                        "passed_time": 5175.866804,
                        "remaining_time": 5474.064892,
                        "test": [
                          0.002806389141
                        ]
                      },
                      {
                        "learn": [
                          0.00130952185
                        ],
                        "iteration": 486,
                        "passed_time": 5186.363113,
                        "remaining_time": 5463.253135,
                        "test": [
                          0.002802174957
                        ]
                      },
                      {
                        "learn": [
                          0.001305101434
                        ],
                        "iteration": 487,
                        "passed_time": 5196.736832,
                        "remaining_time": 5452.314053,
                        "test": [
                          0.002798061772
                        ]
                      },
                      {
                        "learn": [
                          0.001299459068
                        ],
                        "iteration": 488,
                        "passed_time": 5207.157144,
                        "remaining_time": 5441.425973,
                        "test": [
                          0.002793848902
                        ]
                      },
                      {
                        "learn": [
                          0.00129485395
                        ],
                        "iteration": 489,
                        "passed_time": 5217.546747,
                        "remaining_time": 5430.507838,
                        "test": [
                          0.002790141798
                        ]
                      },
                      {
                        "learn": [
                          0.001291056575
                        ],
                        "iteration": 490,
                        "passed_time": 5227.989581,
                        "remaining_time": 5419.64704,
                        "test": [
                          0.002787766011
                        ]
                      },
                      {
                        "learn": [
                          0.001286803693
                        ],
                        "iteration": 491,
                        "passed_time": 5238.408024,
                        "remaining_time": 5408.762757,
                        "test": [
                          0.002784517435
                        ]
                      },
                      {
                        "learn": [
                          0.001283705264
                        ],
                        "iteration": 492,
                        "passed_time": 5248.925549,
                        "remaining_time": 5397.982258,
                        "test": [
                          0.002783236931
                        ]
                      },
                      {
                        "learn": [
                          0.001278362469
                        ],
                        "iteration": 493,
                        "passed_time": 5259.36697,
                        "remaining_time": 5387.124872,
                        "test": [
                          0.002778533157
                        ]
                      },
                      {
                        "learn": [
                          0.001274919004
                        ],
                        "iteration": 494,
                        "passed_time": 5269.720805,
                        "remaining_time": 5376.179812,
                        "test": [
                          0.002776489648
                        ]
                      },
                      {
                        "learn": [
                          0.001270829181
                        ],
                        "iteration": 495,
                        "passed_time": 5280.126041,
                        "remaining_time": 5365.289364,
                        "test": [
                          0.002772843523
                        ]
                      },
                      {
                        "learn": [
                          0.001267584548
                        ],
                        "iteration": 496,
                        "passed_time": 5290.628277,
                        "remaining_time": 5354.499041,
                        "test": [
                          0.002771323977
                        ]
                      },
                      {
                        "learn": [
                          0.001262816877
                        ],
                        "iteration": 497,
                        "passed_time": 5301.00375,
                        "remaining_time": 5343.582093,
                        "test": [
                          0.002767630301
                        ]
                      },
                      {
                        "learn": [
                          0.001258309812
                        ],
                        "iteration": 498,
                        "passed_time": 5311.495335,
                        "remaining_time": 5332.783894,
                        "test": [
                          0.002764056889
                        ]
                      },
                      {
                        "learn": [
                          0.001254928511
                        ],
                        "iteration": 499,
                        "passed_time": 5321.964506,
                        "remaining_time": 5321.964506,
                        "test": [
                          0.0027620386
                        ]
                      },
                      {
                        "learn": [
                          0.001250847563
                        ],
                        "iteration": 500,
                        "passed_time": 5332.336053,
                        "remaining_time": 5311.049282,
                        "test": [
                          0.002759169376
                        ]
                      },
                      {
                        "learn": [
                          0.001247004918
                        ],
                        "iteration": 501,
                        "passed_time": 5342.745371,
                        "remaining_time": 5300.173695,
                        "test": [
                          0.002756294212
                        ]
                      },
                      {
                        "learn": [
                          0.001243539693
                        ],
                        "iteration": 502,
                        "passed_time": 5353.199894,
                        "remaining_time": 5289.344627,
                        "test": [
                          0.00275433278
                        ]
                      },
                      {
                        "learn": [
                          0.001240418687
                        ],
                        "iteration": 503,
                        "passed_time": 5363.668265,
                        "remaining_time": 5278.530673,
                        "test": [
                          0.002752904182
                        ]
                      },
                      {
                        "learn": [
                          0.001236758096
                        ],
                        "iteration": 504,
                        "passed_time": 5374.270159,
                        "remaining_time": 5267.848967,
                        "test": [
                          0.002750385577
                        ]
                      },
                      {
                        "learn": [
                          0.001233792908
                        ],
                        "iteration": 505,
                        "passed_time": 5384.764445,
                        "remaining_time": 5257.062522,
                        "test": [
                          0.002748881633
                        ]
                      },
                      {
                        "learn": [
                          0.001228875374
                        ],
                        "iteration": 506,
                        "passed_time": 5395.102392,
                        "remaining_time": 5246.125205,
                        "test": [
                          0.00274453641
                        ]
                      },
                      {
                        "learn": [
                          0.001225750982
                        ],
                        "iteration": 507,
                        "passed_time": 5405.583243,
                        "remaining_time": 5235.328653,
                        "test": [
                          0.002742854911
                        ]
                      },
                      {
                        "learn": [
                          0.001222195372
                        ],
                        "iteration": 508,
                        "passed_time": 5416.048646,
                        "remaining_time": 5224.518438,
                        "test": [
                          0.00274052469
                        ]
                      },
                      {
                        "learn": [
                          0.001219090364
                        ],
                        "iteration": 509,
                        "passed_time": 5426.503788,
                        "remaining_time": 5213.699718,
                        "test": [
                          0.002738904304
                        ]
                      },
                      {
                        "learn": [
                          0.00121560704
                        ],
                        "iteration": 510,
                        "passed_time": 5436.982142,
                        "remaining_time": 5202.904633,
                        "test": [
                          0.002736539061
                        ]
                      },
                      {
                        "learn": [
                          0.00121164536
                        ],
                        "iteration": 511,
                        "passed_time": 5447.483256,
                        "remaining_time": 5192.132478,
                        "test": [
                          0.002733652814
                        ]
                      },
                      {
                        "learn": [
                          0.00120776593
                        ],
                        "iteration": 512,
                        "passed_time": 5457.858103,
                        "remaining_time": 5181.241513,
                        "test": [
                          0.002730405842
                        ]
                      },
                      {
                        "learn": [
                          0.001204686418
                        ],
                        "iteration": 513,
                        "passed_time": 5468.449609,
                        "remaining_time": 5170.557412,
                        "test": [
                          0.00272912953
                        ]
                      },
                      {
                        "learn": [
                          0.001201007532
                        ],
                        "iteration": 514,
                        "passed_time": 5478.987085,
                        "remaining_time": 5159.822789,
                        "test": [
                          0.002726890015
                        ]
                      },
                      {
                        "learn": [
                          0.001197148965
                        ],
                        "iteration": 515,
                        "passed_time": 5489.401774,
                        "remaining_time": 5148.973757,
                        "test": [
                          0.002724303595
                        ]
                      },
                      {
                        "learn": [
                          0.001192359107
                        ],
                        "iteration": 516,
                        "passed_time": 5499.765133,
                        "remaining_time": 5138.078451,
                        "test": [
                          0.002720041794
                        ]
                      },
                      {
                        "learn": [
                          0.001188583452
                        ],
                        "iteration": 517,
                        "passed_time": 5510.14026,
                        "remaining_time": 5127.196149,
                        "test": [
                          0.002716940493
                        ]
                      },
                      {
                        "learn": [
                          0.001185681752
                        ],
                        "iteration": 518,
                        "passed_time": 5520.554477,
                        "remaining_time": 5116.352029,
                        "test": [
                          0.002715208516
                        ]
                      },
                      {
                        "learn": [
                          0.001182117501
                        ],
                        "iteration": 519,
                        "passed_time": 5531.056608,
                        "remaining_time": 5105.590715,
                        "test": [
                          0.002712963548
                        ]
                      },
                      {
                        "learn": [
                          0.00117822398
                        ],
                        "iteration": 520,
                        "passed_time": 5541.624394,
                        "remaining_time": 5094.890758,
                        "test": [
                          0.002709698904
                        ]
                      },
                      {
                        "learn": [
                          0.001175107606
                        ],
                        "iteration": 521,
                        "passed_time": 5552.182147,
                        "remaining_time": 5084.182119,
                        "test": [
                          0.002707770268
                        ]
                      },
                      {
                        "learn": [
                          0.001172151721
                        ],
                        "iteration": 522,
                        "passed_time": 5574.257602,
                        "remaining_time": 5083.978731,
                        "test": [
                          0.002706309282
                        ]
                      },
                      {
                        "learn": [
                          0.001168415615
                        ],
                        "iteration": 523,
                        "passed_time": 5584.938208,
                        "remaining_time": 5073.340815,
                        "test": [
                          0.002703560954
                        ]
                      },
                      {
                        "learn": [
                          0.001165119093
                        ],
                        "iteration": 524,
                        "passed_time": 5595.511241,
                        "remaining_time": 5062.605409,
                        "test": [
                          0.002701307618
                        ]
                      },
                      {
                        "learn": [
                          0.001161649626
                        ],
                        "iteration": 525,
                        "passed_time": 5606.096935,
                        "remaining_time": 5051.882029,
                        "test": [
                          0.002698337073
                        ]
                      },
                      {
                        "learn": [
                          0.001158700904
                        ],
                        "iteration": 526,
                        "passed_time": 5616.681344,
                        "remaining_time": 5041.158019,
                        "test": [
                          0.00269625838
                        ]
                      },
                      {
                        "learn": [
                          0.001154864409
                        ],
                        "iteration": 527,
                        "passed_time": 5627.250213,
                        "remaining_time": 5030.420645,
                        "test": [
                          0.002693504074
                        ]
                      },
                      {
                        "learn": [
                          0.001152155312
                        ],
                        "iteration": 528,
                        "passed_time": 5637.854697,
                        "remaining_time": 5019.715619,
                        "test": [
                          0.002692417482
                        ]
                      },
                      {
                        "learn": [
                          0.001149433019
                        ],
                        "iteration": 529,
                        "passed_time": 5648.382249,
                        "remaining_time": 5008.942749,
                        "test": [
                          0.002690839297
                        ]
                      },
                      {
                        "learn": [
                          0.001145984961
                        ],
                        "iteration": 530,
                        "passed_time": 5658.840268,
                        "remaining_time": 4998.10939,
                        "test": [
                          0.002688480632
                        ]
                      },
                      {
                        "learn": [
                          0.00114249572
                        ],
                        "iteration": 531,
                        "passed_time": 5669.292917,
                        "remaining_time": 4987.272716,
                        "test": [
                          0.002685956471
                        ]
                      },
                      {
                        "learn": [
                          0.001138141165
                        ],
                        "iteration": 532,
                        "passed_time": 5679.747341,
                        "remaining_time": 4976.43904,
                        "test": [
                          0.002681903309
                        ]
                      },
                      {
                        "learn": [
                          0.00113491903
                        ],
                        "iteration": 533,
                        "passed_time": 5690.251887,
                        "remaining_time": 4965.650523,
                        "test": [
                          0.002680184966
                        ]
                      },
                      {
                        "learn": [
                          0.001131974357
                        ],
                        "iteration": 534,
                        "passed_time": 5700.707427,
                        "remaining_time": 4954.820474,
                        "test": [
                          0.002677537994
                        ]
                      },
                      {
                        "learn": [
                          0.001128657555
                        ],
                        "iteration": 535,
                        "passed_time": 5711.260269,
                        "remaining_time": 4944.076053,
                        "test": [
                          0.002675332983
                        ]
                      },
                      {
                        "learn": [
                          0.0011255021
                        ],
                        "iteration": 536,
                        "passed_time": 5721.753126,
                        "remaining_time": 4933.280629,
                        "test": [
                          0.002673569343
                        ]
                      },
                      {
                        "learn": [
                          0.001122716359
                        ],
                        "iteration": 537,
                        "passed_time": 5732.338428,
                        "remaining_time": 4922.565714,
                        "test": [
                          0.002672251667
                        ]
                      },
                      {
                        "learn": [
                          0.001119312753
                        ],
                        "iteration": 538,
                        "passed_time": 5742.89473,
                        "remaining_time": 4911.826476,
                        "test": [
                          0.002669490056
                        ]
                      },
                      {
                        "learn": [
                          0.001116258504
                        ],
                        "iteration": 539,
                        "passed_time": 5753.300532,
                        "remaining_time": 4900.959712,
                        "test": [
                          0.002667234244
                        ]
                      },
                      {
                        "learn": [
                          0.001113282768
                        ],
                        "iteration": 540,
                        "passed_time": 5763.668154,
                        "remaining_time": 4890.06226,
                        "test": [
                          0.002665675049
                        ]
                      },
                      {
                        "learn": [
                          0.001108953281
                        ],
                        "iteration": 541,
                        "passed_time": 5774.018576,
                        "remaining_time": 4879.152228,
                        "test": [
                          0.002661833461
                        ]
                      },
                      {
                        "learn": [
                          0.001105969877
                        ],
                        "iteration": 542,
                        "passed_time": 5784.246139,
                        "remaining_time": 4868.140857,
                        "test": [
                          0.002660452288
                        ]
                      },
                      {
                        "learn": [
                          0.001102186514
                        ],
                        "iteration": 543,
                        "passed_time": 5794.510909,
                        "remaining_time": 4857.163556,
                        "test": [
                          0.00265780476
                        ]
                      },
                      {
                        "learn": [
                          0.001099218407
                        ],
                        "iteration": 544,
                        "passed_time": 5804.818372,
                        "remaining_time": 4846.224512,
                        "test": [
                          0.002656351062
                        ]
                      },
                      {
                        "learn": [
                          0.001096513515
                        ],
                        "iteration": 545,
                        "passed_time": 5815.1214,
                        "remaining_time": 4835.284094,
                        "test": [
                          0.002655065398
                        ]
                      },
                      {
                        "learn": [
                          0.001092989163
                        ],
                        "iteration": 546,
                        "passed_time": 5826.474348,
                        "remaining_time": 4825.215502,
                        "test": [
                          0.002652513752
                        ]
                      },
                      {
                        "learn": [
                          0.001090197583
                        ],
                        "iteration": 547,
                        "passed_time": 5836.866529,
                        "remaining_time": 4814.349765,
                        "test": [
                          0.002651096111
                        ]
                      },
                      {
                        "learn": [
                          0.001086907173
                        ],
                        "iteration": 548,
                        "passed_time": 5847.082046,
                        "remaining_time": 4803.340625,
                        "test": [
                          0.002649410112
                        ]
                      },
                      {
                        "learn": [
                          0.001083617386
                        ],
                        "iteration": 549,
                        "passed_time": 5857.327929,
                        "remaining_time": 4792.359214,
                        "test": [
                          0.002646951336
                        ]
                      },
                      {
                        "learn": [
                          0.001080496379
                        ],
                        "iteration": 550,
                        "passed_time": 5867.571152,
                        "remaining_time": 4781.378307,
                        "test": [
                          0.00264507498
                        ]
                      },
                      {
                        "learn": [
                          0.001077753417
                        ],
                        "iteration": 551,
                        "passed_time": 5877.943638,
                        "remaining_time": 4770.504982,
                        "test": [
                          0.002643772599
                        ]
                      },
                      {
                        "learn": [
                          0.001074242495
                        ],
                        "iteration": 552,
                        "passed_time": 5888.306977,
                        "remaining_time": 4759.626073,
                        "test": [
                          0.002641337942
                        ]
                      },
                      {
                        "learn": [
                          0.001071811793
                        ],
                        "iteration": 553,
                        "passed_time": 5898.731884,
                        "remaining_time": 4748.798592,
                        "test": [
                          0.002639727407
                        ]
                      },
                      {
                        "learn": [
                          0.001068983039
                        ],
                        "iteration": 554,
                        "passed_time": 5909.056999,
                        "remaining_time": 4737.892549,
                        "test": [
                          0.00263737458
                        ]
                      },
                      {
                        "learn": [
                          0.001066396596
                        ],
                        "iteration": 555,
                        "passed_time": 5919.492335,
                        "remaining_time": 4727.076613,
                        "test": [
                          0.002635950672
                        ]
                      },
                      {
                        "learn": [
                          0.001062639353
                        ],
                        "iteration": 556,
                        "passed_time": 5929.832455,
                        "remaining_time": 4716.186315,
                        "test": [
                          0.002632699569
                        ]
                      },
                      {
                        "learn": [
                          0.001060259761
                        ],
                        "iteration": 557,
                        "passed_time": 5940.192675,
                        "remaining_time": 4705.313911,
                        "test": [
                          0.002631055008
                        ]
                      },
                      {
                        "learn": [
                          0.001056616764
                        ],
                        "iteration": 558,
                        "passed_time": 5950.61058,
                        "remaining_time": 4694.488847,
                        "test": [
                          0.002628361113
                        ]
                      },
                      {
                        "learn": [
                          0.001053376217
                        ],
                        "iteration": 559,
                        "passed_time": 5960.991883,
                        "remaining_time": 4683.63648,
                        "test": [
                          0.002626436522
                        ]
                      },
                      {
                        "learn": [
                          0.001050813947
                        ],
                        "iteration": 560,
                        "passed_time": 5971.371787,
                        "remaining_time": 4672.784696,
                        "test": [
                          0.002625428913
                        ]
                      },
                      {
                        "learn": [
                          0.001047999324
                        ],
                        "iteration": 561,
                        "passed_time": 5981.793812,
                        "remaining_time": 4661.967419,
                        "test": [
                          0.002623699149
                        ]
                      },
                      {
                        "learn": [
                          0.001045166677
                        ],
                        "iteration": 562,
                        "passed_time": 5992.105248,
                        "remaining_time": 4651.065708,
                        "test": [
                          0.002621554234
                        ]
                      },
                      {
                        "learn": [
                          0.001042752947
                        ],
                        "iteration": 563,
                        "passed_time": 6002.489095,
                        "remaining_time": 4640.222066,
                        "test": [
                          0.002619973347
                        ]
                      },
                      {
                        "learn": [
                          0.001040289314
                        ],
                        "iteration": 564,
                        "passed_time": 6012.92973,
                        "remaining_time": 4629.423775,
                        "test": [
                          0.002618830745
                        ]
                      },
                      {
                        "learn": [
                          0.001037935607
                        ],
                        "iteration": 565,
                        "passed_time": 6023.367228,
                        "remaining_time": 4618.624341,
                        "test": [
                          0.002618122758
                        ]
                      },
                      {
                        "learn": [
                          0.001035416584
                        ],
                        "iteration": 566,
                        "passed_time": 6033.737328,
                        "remaining_time": 4607.774714,
                        "test": [
                          0.002616259648
                        ]
                      },
                      {
                        "learn": [
                          0.00103199624
                        ],
                        "iteration": 567,
                        "passed_time": 6044.073817,
                        "remaining_time": 4596.901213,
                        "test": [
                          0.002613921872
                        ]
                      },
                      {
                        "learn": [
                          0.001029390569
                        ],
                        "iteration": 568,
                        "passed_time": 6054.486502,
                        "remaining_time": 4586.087315,
                        "test": [
                          0.002612412946
                        ]
                      },
                      {
                        "learn": [
                          0.001027098481
                        ],
                        "iteration": 569,
                        "passed_time": 6065.388461,
                        "remaining_time": 4575.643927,
                        "test": [
                          0.002611375536
                        ]
                      },
                      {
                        "learn": [
                          0.001023861204
                        ],
                        "iteration": 570,
                        "passed_time": 6075.749222,
                        "remaining_time": 4564.792322,
                        "test": [
                          0.002609236187
                        ]
                      },
                      {
                        "learn": [
                          0.001021490331
                        ],
                        "iteration": 571,
                        "passed_time": 6086.05891,
                        "remaining_time": 4553.904219,
                        "test": [
                          0.0026076244
                        ]
                      },
                      {
                        "learn": [
                          0.001018749548
                        ],
                        "iteration": 572,
                        "passed_time": 6096.426874,
                        "remaining_time": 4543.061563,
                        "test": [
                          0.002605661865
                        ]
                      },
                      {
                        "learn": [
                          0.001015874201
                        ],
                        "iteration": 573,
                        "passed_time": 6106.756672,
                        "remaining_time": 4532.192234,
                        "test": [
                          0.002603481439
                        ]
                      },
                      {
                        "learn": [
                          0.001012952532
                        ],
                        "iteration": 574,
                        "passed_time": 6117.042962,
                        "remaining_time": 4521.292624,
                        "test": [
                          0.002601299531
                        ]
                      },
                      {
                        "learn": [
                          0.001010461418
                        ],
                        "iteration": 575,
                        "passed_time": 6127.343916,
                        "remaining_time": 4510.405938,
                        "test": [
                          0.002599734302
                        ]
                      },
                      {
                        "learn": [
                          0.001007799771
                        ],
                        "iteration": 576,
                        "passed_time": 6137.625858,
                        "remaining_time": 4499.507345,
                        "test": [
                          0.002597706855
                        ]
                      },
                      {
                        "learn": [
                          0.001004751283
                        ],
                        "iteration": 577,
                        "passed_time": 6147.998417,
                        "remaining_time": 4488.677045,
                        "test": [
                          0.002595749851
                        ]
                      },
                      {
                        "learn": [
                          0.00100175332
                        ],
                        "iteration": 578,
                        "passed_time": 6158.397793,
                        "remaining_time": 4477.867825,
                        "test": [
                          0.002593900915
                        ]
                      },
                      {
                        "learn": [
                          0.0009992502952
                        ],
                        "iteration": 579,
                        "passed_time": 6168.692484,
                        "remaining_time": 4466.984213,
                        "test": [
                          0.002592491663
                        ]
                      },
                      {
                        "learn": [
                          0.0009962056997
                        ],
                        "iteration": 580,
                        "passed_time": 6190.012803,
                        "remaining_time": 4464.053983,
                        "test": [
                          0.002590976596
                        ]
                      },
                      {
                        "learn": [
                          0.0009935297674
                        ],
                        "iteration": 581,
                        "passed_time": 6200.45648,
                        "remaining_time": 4453.248812,
                        "test": [
                          0.002589379851
                        ]
                      },
                      {
                        "learn": [
                          0.0009910319971
                        ],
                        "iteration": 582,
                        "passed_time": 6210.894041,
                        "remaining_time": 4442.440506,
                        "test": [
                          0.002587714315
                        ]
                      },
                      {
                        "learn": [
                          0.0009883150762
                        ],
                        "iteration": 583,
                        "passed_time": 6221.268026,
                        "remaining_time": 4431.588183,
                        "test": [
                          0.002585760355
                        ]
                      },
                      {
                        "learn": [
                          0.0009863679458
                        ],
                        "iteration": 584,
                        "passed_time": 6231.705485,
                        "remaining_time": 4420.782523,
                        "test": [
                          0.002585250991
                        ]
                      },
                      {
                        "learn": [
                          0.0009835031081
                        ],
                        "iteration": 585,
                        "passed_time": 6242.122822,
                        "remaining_time": 4409.963905,
                        "test": [
                          0.002583427675
                        ]
                      },
                      {
                        "learn": [
                          0.0009810084129
                        ],
                        "iteration": 586,
                        "passed_time": 6252.549455,
                        "remaining_time": 4399.153194,
                        "test": [
                          0.002581934558
                        ]
                      },
                      {
                        "learn": [
                          0.0009784884939
                        ],
                        "iteration": 587,
                        "passed_time": 6263.019421,
                        "remaining_time": 4388.374152,
                        "test": [
                          0.002580902217
                        ]
                      },
                      {
                        "learn": [
                          0.000976314895
                        ],
                        "iteration": 588,
                        "passed_time": 6273.473458,
                        "remaining_time": 4377.585045,
                        "test": [
                          0.002579987364
                        ]
                      },
                      {
                        "learn": [
                          0.0009743277102
                        ],
                        "iteration": 589,
                        "passed_time": 6283.866882,
                        "remaining_time": 4366.754952,
                        "test": [
                          0.002578943687
                        ]
                      },
                      {
                        "learn": [
                          0.0009718495194
                        ],
                        "iteration": 590,
                        "passed_time": 6294.28693,
                        "remaining_time": 4355.944762,
                        "test": [
                          0.00257703497
                        ]
                      },
                      {
                        "learn": [
                          0.0009693184677
                        ],
                        "iteration": 591,
                        "passed_time": 6304.70477,
                        "remaining_time": 4345.134369,
                        "test": [
                          0.002575263942
                        ]
                      },
                      {
                        "learn": [
                          0.0009668646443
                        ],
                        "iteration": 592,
                        "passed_time": 6315.258342,
                        "remaining_time": 4334.418458,
                        "test": [
                          0.002574565113
                        ]
                      },
                      {
                        "learn": [
                          0.0009646582312
                        ],
                        "iteration": 593,
                        "passed_time": 6325.685257,
                        "remaining_time": 4323.616523,
                        "test": [
                          0.002573122517
                        ]
                      },
                      {
                        "learn": [
                          0.0009626074421
                        ],
                        "iteration": 594,
                        "passed_time": 6336.109411,
                        "remaining_time": 4312.813969,
                        "test": [
                          0.002571734326
                        ]
                      },
                      {
                        "learn": [
                          0.0009600955418
                        ],
                        "iteration": 595,
                        "passed_time": 6346.489671,
                        "remaining_time": 4301.982931,
                        "test": [
                          0.002570135739
                        ]
                      },
                      {
                        "learn": [
                          0.0009573964489
                        ],
                        "iteration": 596,
                        "passed_time": 6356.905528,
                        "remaining_time": 4291.177434,
                        "test": [
                          0.002568572452
                        ]
                      },
                      {
                        "learn": [
                          0.0009553593227
                        ],
                        "iteration": 597,
                        "passed_time": 6367.387592,
                        "remaining_time": 4280.417746,
                        "test": [
                          0.002567393544
                        ]
                      },
                      {
                        "learn": [
                          0.0009530974018
                        ],
                        "iteration": 598,
                        "passed_time": 6377.920864,
                        "remaining_time": 4269.693266,
                        "test": [
                          0.002566398416
                        ]
                      },
                      {
                        "learn": [
                          0.0009506470427
                        ],
                        "iteration": 599,
                        "passed_time": 6388.340211,
                        "remaining_time": 4258.893474,
                        "test": [
                          0.00256511194
                        ]
                      },
                      {
                        "learn": [
                          0.0009482882363
                        ],
                        "iteration": 600,
                        "passed_time": 6398.762124,
                        "remaining_time": 4248.096651,
                        "test": [
                          0.002563591044
                        ]
                      },
                      {
                        "learn": [
                          0.0009459994958
                        ],
                        "iteration": 601,
                        "passed_time": 6409.155792,
                        "remaining_time": 4237.2824,
                        "test": [
                          0.00256231709
                        ]
                      },
                      {
                        "learn": [
                          0.0009439744755
                        ],
                        "iteration": 602,
                        "passed_time": 6419.515914,
                        "remaining_time": 4226.447459,
                        "test": [
                          0.002561275232
                        ]
                      },
                      {
                        "learn": [
                          0.0009416281252
                        ],
                        "iteration": 603,
                        "passed_time": 6429.953268,
                        "remaining_time": 4215.664725,
                        "test": [
                          0.002559553644
                        ]
                      },
                      {
                        "learn": [
                          0.0009389519205
                        ],
                        "iteration": 604,
                        "passed_time": 6440.419592,
                        "remaining_time": 4204.902048,
                        "test": [
                          0.002557764975
                        ]
                      },
                      {
                        "learn": [
                          0.0009368511122
                        ],
                        "iteration": 605,
                        "passed_time": 6450.855903,
                        "remaining_time": 4194.120834,
                        "test": [
                          0.00255689253
                        ]
                      },
                      {
                        "learn": [
                          0.0009348533397
                        ],
                        "iteration": 606,
                        "passed_time": 6461.307401,
                        "remaining_time": 4183.35059,
                        "test": [
                          0.002555725751
                        ]
                      },
                      {
                        "learn": [
                          0.000932730811
                        ],
                        "iteration": 607,
                        "passed_time": 6471.740944,
                        "remaining_time": 4172.569819,
                        "test": [
                          0.00255486118
                        ]
                      },
                      {
                        "learn": [
                          0.0009304035732
                        ],
                        "iteration": 608,
                        "passed_time": 6482.167761,
                        "remaining_time": 4161.78587,
                        "test": [
                          0.002553725469
                        ]
                      },
                      {
                        "learn": [
                          0.000927818454
                        ],
                        "iteration": 609,
                        "passed_time": 6492.655311,
                        "remaining_time": 4151.04192,
                        "test": [
                          0.002552448467
                        ]
                      },
                      {
                        "learn": [
                          0.0009255304142
                        ],
                        "iteration": 610,
                        "passed_time": 6503.079076,
                        "remaining_time": 4140.2582,
                        "test": [
                          0.002551244648
                        ]
                      },
                      {
                        "learn": [
                          0.0009229070702
                        ],
                        "iteration": 611,
                        "passed_time": 6513.481782,
                        "remaining_time": 4129.462306,
                        "test": [
                          0.002549227832
                        ]
                      },
                      {
                        "learn": [
                          0.000920771229
                        ],
                        "iteration": 612,
                        "passed_time": 6523.892762,
                        "remaining_time": 4118.672918,
                        "test": [
                          0.002547666168
                        ]
                      },
                      {
                        "learn": [
                          0.0009186939707
                        ],
                        "iteration": 613,
                        "passed_time": 6534.356446,
                        "remaining_time": 4107.917896,
                        "test": [
                          0.002546920403
                        ]
                      },
                      {
                        "learn": [
                          0.000916480512
                        ],
                        "iteration": 614,
                        "passed_time": 6545.937832,
                        "remaining_time": 4097.863521,
                        "test": [
                          0.002545771448
                        ]
                      },
                      {
                        "learn": [
                          0.0009144178507
                        ],
                        "iteration": 615,
                        "passed_time": 6556.548191,
                        "remaining_time": 4087.198873,
                        "test": [
                          0.002544377995
                        ]
                      },
                      {
                        "learn": [
                          0.0009124796731
                        ],
                        "iteration": 616,
                        "passed_time": 6567.041913,
                        "remaining_time": 4076.461998,
                        "test": [
                          0.002543548395
                        ]
                      },
                      {
                        "learn": [
                          0.0009104721303
                        ],
                        "iteration": 617,
                        "passed_time": 6577.468931,
                        "remaining_time": 4065.684679,
                        "test": [
                          0.002542619996
                        ]
                      },
                      {
                        "learn": [
                          0.0009084921467
                        ],
                        "iteration": 618,
                        "passed_time": 6587.840986,
                        "remaining_time": 4054.874662,
                        "test": [
                          0.00254174456
                        ]
                      },
                      {
                        "learn": [
                          0.0009061454072
                        ],
                        "iteration": 619,
                        "passed_time": 6598.283692,
                        "remaining_time": 4044.109359,
                        "test": [
                          0.002540371284
                        ]
                      },
                      {
                        "learn": [
                          0.0009037198047
                        ],
                        "iteration": 620,
                        "passed_time": 6608.671312,
                        "remaining_time": 4033.311477,
                        "test": [
                          0.002538551201
                        ]
                      },
                      {
                        "learn": [
                          0.0009016370968
                        ],
                        "iteration": 621,
                        "passed_time": 6619.142233,
                        "remaining_time": 4022.565537,
                        "test": [
                          0.00253772575
                        ]
                      },
                      {
                        "learn": [
                          0.0008995578922
                        ],
                        "iteration": 622,
                        "passed_time": 6629.608527,
                        "remaining_time": 4011.81768,
                        "test": [
                          0.002536780188
                        ]
                      },
                      {
                        "learn": [
                          0.0008974349353
                        ],
                        "iteration": 623,
                        "passed_time": 6640.019171,
                        "remaining_time": 4001.037193,
                        "test": [
                          0.002535774006
                        ]
                      },
                      {
                        "learn": [
                          0.0008948544094
                        ],
                        "iteration": 624,
                        "passed_time": 6650.462607,
                        "remaining_time": 3990.277564,
                        "test": [
                          0.002533454433
                        ]
                      },
                      {
                        "learn": [
                          0.0008925831464
                        ],
                        "iteration": 625,
                        "passed_time": 6660.890706,
                        "remaining_time": 3979.509783,
                        "test": [
                          0.002531925406
                        ]
                      },
                      {
                        "learn": [
                          0.0008892494124
                        ],
                        "iteration": 626,
                        "passed_time": 6671.188031,
                        "remaining_time": 3968.665288,
                        "test": [
                          0.002529381483
                        ]
                      },
                      {
                        "learn": [
                          0.0008872476305
                        ],
                        "iteration": 627,
                        "passed_time": 6681.635873,
                        "remaining_time": 3957.911695,
                        "test": [
                          0.00252856629
                        ]
                      },
                      {
                        "learn": [
                          0.000884914476
                        ],
                        "iteration": 628,
                        "passed_time": 6692.056986,
                        "remaining_time": 3947.14331,
                        "test": [
                          0.002527104589
                        ]
                      },
                      {
                        "learn": [
                          0.0008828627917
                        ],
                        "iteration": 629,
                        "passed_time": 6702.505262,
                        "remaining_time": 3936.391979,
                        "test": [
                          0.002525987819
                        ]
                      },
                      {
                        "learn": [
                          0.0008808329446
                        ],
                        "iteration": 630,
                        "passed_time": 6712.965071,
                        "remaining_time": 3925.648354,
                        "test": [
                          0.002524657124
                        ]
                      },
                      {
                        "learn": [
                          0.0008788907187
                        ],
                        "iteration": 631,
                        "passed_time": 6723.416923,
                        "remaining_time": 3914.900993,
                        "test": [
                          0.002523222297
                        ]
                      },
                      {
                        "learn": [
                          0.0008768051303
                        ],
                        "iteration": 632,
                        "passed_time": 6733.913964,
                        "remaining_time": 3904.180766,
                        "test": [
                          0.00252180816
                        ]
                      },
                      {
                        "learn": [
                          0.0008749833399
                        ],
                        "iteration": 633,
                        "passed_time": 6744.443549,
                        "remaining_time": 3893.48003,
                        "test": [
                          0.002521267115
                        ]
                      },
                      {
                        "learn": [
                          0.0008728301768
                        ],
                        "iteration": 634,
                        "passed_time": 6754.910132,
                        "remaining_time": 3882.743619,
                        "test": [
                          0.00252000785
                        ]
                      },
                      {
                        "learn": [
                          0.0008709167169
                        ],
                        "iteration": 635,
                        "passed_time": 6765.386329,
                        "remaining_time": 3872.013559,
                        "test": [
                          0.002519237029
                        ]
                      },
                      {
                        "learn": [
                          0.0008687167654
                        ],
                        "iteration": 636,
                        "passed_time": 6775.822618,
                        "remaining_time": 3861.261555,
                        "test": [
                          0.002517719983
                        ]
                      },
                      {
                        "learn": [
                          0.000866316737
                        ],
                        "iteration": 637,
                        "passed_time": 6786.450269,
                        "remaining_time": 3850.619118,
                        "test": [
                          0.002516181709
                        ]
                      },
                      {
                        "learn": [
                          0.0008640063539
                        ],
                        "iteration": 638,
                        "passed_time": 6808.579339,
                        "remaining_time": 3846.4744,
                        "test": [
                          0.002514969965
                        ]
                      },
                      {
                        "learn": [
                          0.0008620622596
                        ],
                        "iteration": 639,
                        "passed_time": 6819.215664,
                        "remaining_time": 3835.808811,
                        "test": [
                          0.002513849675
                        ]
                      },
                      {
                        "learn": [
                          0.0008594411344
                        ],
                        "iteration": 640,
                        "passed_time": 6829.657599,
                        "remaining_time": 3825.034443,
                        "test": [
                          0.002511808296
                        ]
                      },
                      {
                        "learn": [
                          0.0008576111307
                        ],
                        "iteration": 641,
                        "passed_time": 6840.16185,
                        "remaining_time": 3814.29586,
                        "test": [
                          0.002511289751
                        ]
                      },
                      {
                        "learn": [
                          0.0008557107108
                        ],
                        "iteration": 642,
                        "passed_time": 6850.619378,
                        "remaining_time": 3803.532065,
                        "test": [
                          0.002510302781
                        ]
                      },
                      {
                        "learn": [
                          0.0008537679789
                        ],
                        "iteration": 643,
                        "passed_time": 6861.100121,
                        "remaining_time": 3792.782054,
                        "test": [
                          0.002509279809
                        ]
                      },
                      {
                        "learn": [
                          0.000852026881
                        ],
                        "iteration": 644,
                        "passed_time": 6871.596137,
                        "remaining_time": 3782.041285,
                        "test": [
                          0.002508546953
                        ]
                      },
                      {
                        "learn": [
                          0.0008499558118
                        ],
                        "iteration": 645,
                        "passed_time": 6882.16745,
                        "remaining_time": 3771.342534,
                        "test": [
                          0.002507410675
                        ]
                      },
                      {
                        "learn": [
                          0.0008470984089
                        ],
                        "iteration": 646,
                        "passed_time": 6892.613908,
                        "remaining_time": 3760.576058,
                        "test": [
                          0.002505435225
                        ]
                      },
                      {
                        "learn": [
                          0.0008445752592
                        ],
                        "iteration": 647,
                        "passed_time": 6903.020848,
                        "remaining_time": 3749.789103,
                        "test": [
                          0.002503840378
                        ]
                      },
                      {
                        "learn": [
                          0.0008426312038
                        ],
                        "iteration": 648,
                        "passed_time": 6913.521933,
                        "remaining_time": 3739.054235,
                        "test": [
                          0.002503150166
                        ]
                      },
                      {
                        "learn": [
                          0.0008402736041
                        ],
                        "iteration": 649,
                        "passed_time": 6923.930411,
                        "remaining_time": 3728.270221,
                        "test": [
                          0.002501944125
                        ]
                      },
                      {
                        "learn": [
                          0.0008382720169
                        ],
                        "iteration": 650,
                        "passed_time": 6934.279977,
                        "remaining_time": 3717.455779,
                        "test": [
                          0.002500310032
                        ]
                      },
                      {
                        "learn": [
                          0.0008363127416
                        ],
                        "iteration": 651,
                        "passed_time": 6944.713427,
                        "remaining_time": 3706.687535,
                        "test": [
                          0.002498824614
                        ]
                      },
                      {
                        "learn": [
                          0.0008344282423
                        ],
                        "iteration": 652,
                        "passed_time": 6955.244848,
                        "remaining_time": 3695.972377,
                        "test": [
                          0.002498001995
                        ]
                      },
                      {
                        "learn": [
                          0.0008327958632
                        ],
                        "iteration": 653,
                        "passed_time": 6965.71915,
                        "remaining_time": 3685.227563,
                        "test": [
                          0.002497134614
                        ]
                      },
                      {
                        "learn": [
                          0.0008305723229
                        ],
                        "iteration": 654,
                        "passed_time": 6976.156381,
                        "remaining_time": 3674.464048,
                        "test": [
                          0.002495978559
                        ]
                      },
                      {
                        "learn": [
                          0.0008284803507
                        ],
                        "iteration": 655,
                        "passed_time": 6986.524931,
                        "remaining_time": 3663.665513,
                        "test": [
                          0.002494429899
                        ]
                      },
                      {
                        "learn": [
                          0.0008265882998
                        ],
                        "iteration": 656,
                        "passed_time": 6997.044097,
                        "remaining_time": 3652.946918,
                        "test": [
                          0.002493670753
                        ]
                      },
                      {
                        "learn": [
                          0.0008246809512
                        ],
                        "iteration": 657,
                        "passed_time": 7007.606333,
                        "remaining_time": 3642.251316,
                        "test": [
                          0.002493046931
                        ]
                      },
                      {
                        "learn": [
                          0.0008228493905
                        ],
                        "iteration": 658,
                        "passed_time": 7018.098294,
                        "remaining_time": 3631.519754,
                        "test": [
                          0.00249219417
                        ]
                      },
                      {
                        "learn": [
                          0.0008208892199
                        ],
                        "iteration": 659,
                        "passed_time": 7028.506807,
                        "remaining_time": 3620.745931,
                        "test": [
                          0.002491036281
                        ]
                      },
                      {
                        "learn": [
                          0.0008191135173
                        ],
                        "iteration": 660,
                        "passed_time": 7038.969521,
                        "remaining_time": 3610.00101,
                        "test": [
                          0.002489799085
                        ]
                      },
                      {
                        "learn": [
                          0.0008168703196
                        ],
                        "iteration": 661,
                        "passed_time": 7049.468174,
                        "remaining_time": 3599.275291,
                        "test": [
                          0.002488554074
                        ]
                      },
                      {
                        "learn": [
                          0.0008151927481
                        ],
                        "iteration": 662,
                        "passed_time": 7060.004583,
                        "remaining_time": 3588.569449,
                        "test": [
                          0.002487870573
                        ]
                      },
                      {
                        "learn": [
                          0.0008133725536
                        ],
                        "iteration": 663,
                        "passed_time": 7070.543309,
                        "remaining_time": 3577.865289,
                        "test": [
                          0.002486737771
                        ]
                      },
                      {
                        "learn": [
                          0.0008113864587
                        ],
                        "iteration": 664,
                        "passed_time": 7080.925867,
                        "remaining_time": 3567.082955,
                        "test": [
                          0.002485325334
                        ]
                      },
                      {
                        "learn": [
                          0.0008097846362
                        ],
                        "iteration": 665,
                        "passed_time": 7091.389292,
                        "remaining_time": 3556.342378,
                        "test": [
                          0.0024844641
                        ]
                      },
                      {
                        "learn": [
                          0.0008078378561
                        ],
                        "iteration": 666,
                        "passed_time": 7101.812507,
                        "remaining_time": 3545.582556,
                        "test": [
                          0.00248349564
                        ]
                      },
                      {
                        "learn": [
                          0.0008061502807
                        ],
                        "iteration": 667,
                        "passed_time": 7112.281943,
                        "remaining_time": 3534.846714,
                        "test": [
                          0.00248272426
                        ]
                      },
                      {
                        "learn": [
                          0.0008040093792
                        ],
                        "iteration": 668,
                        "passed_time": 7122.632402,
                        "remaining_time": 3524.052803,
                        "test": [
                          0.002481363815
                        ]
                      },
                      {
                        "learn": [
                          0.0008019980606
                        ],
                        "iteration": 669,
                        "passed_time": 7133.050746,
                        "remaining_time": 3513.293651,
                        "test": [
                          0.002480218003
                        ]
                      },
                      {
                        "learn": [
                          0.0008004564947
                        ],
                        "iteration": 670,
                        "passed_time": 7143.476749,
                        "remaining_time": 3502.53927,
                        "test": [
                          0.002479658421
                        ]
                      },
                      {
                        "learn": [
                          0.0007986180831
                        ],
                        "iteration": 671,
                        "passed_time": 7153.873793,
                        "remaining_time": 3491.771732,
                        "test": [
                          0.002478191315
                        ]
                      },
                      {
                        "learn": [
                          0.0007967598584
                        ],
                        "iteration": 672,
                        "passed_time": 7164.338675,
                        "remaining_time": 3481.038257,
                        "test": [
                          0.002477508227
                        ]
                      },
                      {
                        "learn": [
                          0.0007951418818
                        ],
                        "iteration": 673,
                        "passed_time": 7174.918439,
                        "remaining_time": 3470.361144,
                        "test": [
                          0.00247683569
                        ]
                      },
                      {
                        "learn": [
                          0.0007932996166
                        ],
                        "iteration": 674,
                        "passed_time": 7185.397446,
                        "remaining_time": 3459.635807,
                        "test": [
                          0.002475658129
                        ]
                      },
                      {
                        "learn": [
                          0.0007917320874
                        ],
                        "iteration": 675,
                        "passed_time": 7195.852264,
                        "remaining_time": 3448.899606,
                        "test": [
                          0.002474757065
                        ]
                      },
                      {
                        "learn": [
                          0.000790354826
                        ],
                        "iteration": 676,
                        "passed_time": 7206.31686,
                        "remaining_time": 3438.168901,
                        "test": [
                          0.002474161867
                        ]
                      },
                      {
                        "learn": [
                          0.0007885334638
                        ],
                        "iteration": 677,
                        "passed_time": 7216.787136,
                        "remaining_time": 3427.441678,
                        "test": [
                          0.00247313491
                        ]
                      },
                      {
                        "learn": [
                          0.0007870847741
                        ],
                        "iteration": 678,
                        "passed_time": 7227.197317,
                        "remaining_time": 3416.686802,
                        "test": [
                          0.002472839592
                        ]
                      },
                      {
                        "learn": [
                          0.0007850675778
                        ],
                        "iteration": 679,
                        "passed_time": 7237.613277,
                        "remaining_time": 3405.93566,
                        "test": [
                          0.002471795735
                        ]
                      },
                      {
                        "learn": [
                          0.0007833950666
                        ],
                        "iteration": 680,
                        "passed_time": 7248.05542,
                        "remaining_time": 3395.197766,
                        "test": [
                          0.002470987906
                        ]
                      },
                      {
                        "learn": [
                          0.0007819660732
                        ],
                        "iteration": 681,
                        "passed_time": 7258.516863,
                        "remaining_time": 3384.46974,
                        "test": [
                          0.002470526933
                        ]
                      },
                      {
                        "learn": [
                          0.0007796913848
                        ],
                        "iteration": 682,
                        "passed_time": 7269.292777,
                        "remaining_time": 3373.888449,
                        "test": [
                          0.002469002072
                        ]
                      },
                      {
                        "learn": [
                          0.0007781068452
                        ],
                        "iteration": 683,
                        "passed_time": 7279.750875,
                        "remaining_time": 3363.159761,
                        "test": [
                          0.002468223909
                        ]
                      },
                      {
                        "learn": [
                          0.0007763991064
                        ],
                        "iteration": 684,
                        "passed_time": 7290.23196,
                        "remaining_time": 3352.442434,
                        "test": [
                          0.002467503772
                        ]
                      },
                      {
                        "learn": [
                          0.0007748664545
                        ],
                        "iteration": 685,
                        "passed_time": 7300.658056,
                        "remaining_time": 3341.700626,
                        "test": [
                          0.002466961345
                        ]
                      },
                      {
                        "learn": [
                          0.0007733290925
                        ],
                        "iteration": 686,
                        "passed_time": 7311.114946,
                        "remaining_time": 3330.973767,
                        "test": [
                          0.002466155813
                        ]
                      },
                      {
                        "learn": [
                          0.0007716772508
                        ],
                        "iteration": 687,
                        "passed_time": 7321.722123,
                        "remaining_time": 3320.315847,
                        "test": [
                          0.002465177721
                        ]
                      },
                      {
                        "learn": [
                          0.0007701885457
                        ],
                        "iteration": 688,
                        "passed_time": 7332.249547,
                        "remaining_time": 3309.622074,
                        "test": [
                          0.002464223811
                        ]
                      },
                      {
                        "learn": [
                          0.0007684488102
                        ],
                        "iteration": 689,
                        "passed_time": 7342.760791,
                        "remaining_time": 3298.921515,
                        "test": [
                          0.002463348226
                        ]
                      },
                      {
                        "learn": [
                          0.0007669219971
                        ],
                        "iteration": 690,
                        "passed_time": 7353.158706,
                        "remaining_time": 3288.170825,
                        "test": [
                          0.002462813329
                        ]
                      },
                      {
                        "learn": [
                          0.0007653091586
                        ],
                        "iteration": 691,
                        "passed_time": 7363.644328,
                        "remaining_time": 3277.460192,
                        "test": [
                          0.00246178638
                        ]
                      },
                      {
                        "learn": [
                          0.0007634610935
                        ],
                        "iteration": 692,
                        "passed_time": 7374.168858,
                        "remaining_time": 3266.767445,
                        "test": [
                          0.002460280222
                        ]
                      },
                      {
                        "learn": [
                          0.0007617989365
                        ],
                        "iteration": 693,
                        "passed_time": 7384.615862,
                        "remaining_time": 3256.041,
                        "test": [
                          0.002459558638
                        ]
                      },
                      {
                        "learn": [
                          0.0007602991377
                        ],
                        "iteration": 694,
                        "passed_time": 7395.139379,
                        "remaining_time": 3245.348936,
                        "test": [
                          0.002458951404
                        ]
                      },
                      {
                        "learn": [
                          0.0007584306367
                        ],
                        "iteration": 695,
                        "passed_time": 7406.081709,
                        "remaining_time": 3234.840287,
                        "test": [
                          0.002457629808
                        ]
                      },
                      {
                        "learn": [
                          0.0007565538056
                        ],
                        "iteration": 696,
                        "passed_time": 7426.071729,
                        "remaining_time": 3228.263607,
                        "test": [
                          0.002456404858
                        ]
                      },
                      {
                        "learn": [
                          0.0007550563423
                        ],
                        "iteration": 697,
                        "passed_time": 7436.476481,
                        "remaining_time": 3217.501285,
                        "test": [
                          0.002455550694
                        ]
                      },
                      {
                        "learn": [
                          0.0007534212385
                        ],
                        "iteration": 698,
                        "passed_time": 7446.900049,
                        "remaining_time": 3206.74809,
                        "test": [
                          0.002454568105
                        ]
                      },
                      {
                        "learn": [
                          0.0007520597808
                        ],
                        "iteration": 699,
                        "passed_time": 7457.352022,
                        "remaining_time": 3196.008009,
                        "test": [
                          0.002453827584
                        ]
                      },
                      {
                        "learn": [
                          0.0007505349918
                        ],
                        "iteration": 700,
                        "passed_time": 7467.825467,
                        "remaining_time": 3185.27791,
                        "test": [
                          0.002452948309
                        ]
                      },
                      {
                        "learn": [
                          0.0007490891048
                        ],
                        "iteration": 701,
                        "passed_time": 7478.43606,
                        "remaining_time": 3174.606761,
                        "test": [
                          0.002452173693
                        ]
                      },
                      {
                        "learn": [
                          0.0007470221228
                        ],
                        "iteration": 702,
                        "passed_time": 7488.95993,
                        "remaining_time": 3163.899145,
                        "test": [
                          0.002450644434
                        ]
                      },
                      {
                        "learn": [
                          0.0007453550222
                        ],
                        "iteration": 703,
                        "passed_time": 7499.466441,
                        "remaining_time": 3153.184753,
                        "test": [
                          0.00244982835
                        ]
                      },
                      {
                        "learn": [
                          0.0007438532771
                        ],
                        "iteration": 704,
                        "passed_time": 7509.96122,
                        "remaining_time": 3142.466042,
                        "test": [
                          0.002448820531
                        ]
                      },
                      {
                        "learn": [
                          0.0007422970363
                        ],
                        "iteration": 705,
                        "passed_time": 7520.374185,
                        "remaining_time": 3131.713896,
                        "test": [
                          0.002447980046
                        ]
                      },
                      {
                        "learn": [
                          0.0007408874667
                        ],
                        "iteration": 706,
                        "passed_time": 7530.834042,
                        "remaining_time": 3120.982142,
                        "test": [
                          0.002447212605
                        ]
                      },
                      {
                        "learn": [
                          0.0007394388549
                        ],
                        "iteration": 707,
                        "passed_time": 7541.271705,
                        "remaining_time": 3110.242003,
                        "test": [
                          0.002446533761
                        ]
                      },
                      {
                        "learn": [
                          0.0007377496836
                        ],
                        "iteration": 708,
                        "passed_time": 7551.762084,
                        "remaining_time": 3099.524353,
                        "test": [
                          0.002445558675
                        ]
                      },
                      {
                        "learn": [
                          0.0007362577477
                        ],
                        "iteration": 709,
                        "passed_time": 7562.300631,
                        "remaining_time": 3088.827018,
                        "test": [
                          0.002444959074
                        ]
                      },
                      {
                        "learn": [
                          0.0007340242814
                        ],
                        "iteration": 710,
                        "passed_time": 7572.717645,
                        "remaining_time": 3078.08073,
                        "test": [
                          0.002443166189
                        ]
                      },
                      {
                        "learn": [
                          0.0007326748128
                        ],
                        "iteration": 711,
                        "passed_time": 7583.231821,
                        "remaining_time": 3067.374669,
                        "test": [
                          0.002442561806
                        ]
                      },
                      {
                        "learn": [
                          0.0007307554751
                        ],
                        "iteration": 712,
                        "passed_time": 7593.685912,
                        "remaining_time": 3056.64496,
                        "test": [
                          0.002441508753
                        ]
                      },
                      {
                        "learn": [
                          0.0007292033993
                        ],
                        "iteration": 713,
                        "passed_time": 7604.174331,
                        "remaining_time": 3045.929774,
                        "test": [
                          0.002440804648
                        ]
                      },
                      {
                        "learn": [
                          0.0007275691519
                        ],
                        "iteration": 714,
                        "passed_time": 7614.587465,
                        "remaining_time": 3035.185213,
                        "test": [
                          0.00243964685
                        ]
                      },
                      {
                        "learn": [
                          0.0007262498505
                        ],
                        "iteration": 715,
                        "passed_time": 7625.041471,
                        "remaining_time": 3024.45779,
                        "test": [
                          0.00243894323
                        ]
                      },
                      {
                        "learn": [
                          0.0007241644178
                        ],
                        "iteration": 716,
                        "passed_time": 7635.612846,
                        "remaining_time": 3013.777455,
                        "test": [
                          0.002438089807
                        ]
                      },
                      {
                        "learn": [
                          0.0007228760233
                        ],
                        "iteration": 717,
                        "passed_time": 7646.187723,
                        "remaining_time": 3003.098799,
                        "test": [
                          0.002437225613
                        ]
                      },
                      {
                        "learn": [
                          0.0007212009819
                        ],
                        "iteration": 718,
                        "passed_time": 7656.678931,
                        "remaining_time": 2992.387732,
                        "test": [
                          0.002436453949
                        ]
                      },
                      {
                        "learn": [
                          0.0007197088903
                        ],
                        "iteration": 719,
                        "passed_time": 7667.077321,
                        "remaining_time": 2981.64118,
                        "test": [
                          0.002435885272
                        ]
                      },
                      {
                        "learn": [
                          0.0007181134905
                        ],
                        "iteration": 720,
                        "passed_time": 7677.597481,
                        "remaining_time": 2970.942715,
                        "test": [
                          0.002435209672
                        ]
                      },
                      {
                        "learn": [
                          0.0007166949681
                        ],
                        "iteration": 721,
                        "passed_time": 7688.178861,
                        "remaining_time": 2960.268315,
                        "test": [
                          0.002434700482
                        ]
                      },
                      {
                        "learn": [
                          0.0007154181344
                        ],
                        "iteration": 722,
                        "passed_time": 7698.67867,
                        "remaining_time": 2949.562921,
                        "test": [
                          0.002434032768
                        ]
                      },
                      {
                        "learn": [
                          0.0007140386153
                        ],
                        "iteration": 723,
                        "passed_time": 7709.160432,
                        "remaining_time": 2938.851214,
                        "test": [
                          0.002433274353
                        ]
                      },
                      {
                        "learn": [
                          0.0007125491317
                        ],
                        "iteration": 724,
                        "passed_time": 7719.665577,
                        "remaining_time": 2928.149012,
                        "test": [
                          0.002432564264
                        ]
                      },
                      {
                        "learn": [
                          0.0007111572343
                        ],
                        "iteration": 725,
                        "passed_time": 7730.248634,
                        "remaining_time": 2917.476757,
                        "test": [
                          0.002431726087
                        ]
                      },
                      {
                        "learn": [
                          0.0007093750701
                        ],
                        "iteration": 726,
                        "passed_time": 7740.65041,
                        "remaining_time": 2906.736674,
                        "test": [
                          0.002430058837
                        ]
                      },
                      {
                        "learn": [
                          0.0007080447528
                        ],
                        "iteration": 727,
                        "passed_time": 7752.095007,
                        "remaining_time": 2896.387146,
                        "test": [
                          0.00242939397
                        ]
                      },
                      {
                        "learn": [
                          0.0007067903791
                        ],
                        "iteration": 728,
                        "passed_time": 7762.615921,
                        "remaining_time": 2885.691241,
                        "test": [
                          0.002428872974
                        ]
                      },
                      {
                        "learn": [
                          0.0007054358502
                        ],
                        "iteration": 729,
                        "passed_time": 7773.017711,
                        "remaining_time": 2874.951756,
                        "test": [
                          0.002427982805
                        ]
                      },
                      {
                        "learn": [
                          0.0007039794143
                        ],
                        "iteration": 730,
                        "passed_time": 7783.509235,
                        "remaining_time": 2864.246216,
                        "test": [
                          0.002427042915
                        ]
                      },
                      {
                        "learn": [
                          0.0007025888793
                        ],
                        "iteration": 731,
                        "passed_time": 7793.93408,
                        "remaining_time": 2853.516849,
                        "test": [
                          0.002426426131
                        ]
                      },
                      {
                        "learn": [
                          0.0007013480907
                        ],
                        "iteration": 732,
                        "passed_time": 7804.386967,
                        "remaining_time": 2842.798527,
                        "test": [
                          0.002425939763
                        ]
                      },
                      {
                        "learn": [
                          0.000699758374
                        ],
                        "iteration": 733,
                        "passed_time": 7814.769366,
                        "remaining_time": 2832.055383,
                        "test": [
                          0.002425263553
                        ]
                      },
                      {
                        "learn": [
                          0.0006984040397
                        ],
                        "iteration": 734,
                        "passed_time": 7825.19614,
                        "remaining_time": 2821.32922,
                        "test": [
                          0.002424807972
                        ]
                      },
                      {
                        "learn": [
                          0.0006968667945
                        ],
                        "iteration": 735,
                        "passed_time": 7835.595859,
                        "remaining_time": 2810.594167,
                        "test": [
                          0.002424200143
                        ]
                      },
                      {
                        "learn": [
                          0.0006949603801
                        ],
                        "iteration": 736,
                        "passed_time": 7845.962074,
                        "remaining_time": 2799.848067,
                        "test": [
                          0.002422912279
                        ]
                      },
                      {
                        "learn": [
                          0.0006936885678
                        ],
                        "iteration": 737,
                        "passed_time": 7856.325263,
                        "remaining_time": 2789.101923,
                        "test": [
                          0.002422266668
                        ]
                      },
                      {
                        "learn": [
                          0.0006919699688
                        ],
                        "iteration": 738,
                        "passed_time": 7866.68365,
                        "remaining_time": 2778.355119,
                        "test": [
                          0.00242145301
                        ]
                      },
                      {
                        "learn": [
                          0.0006907753069
                        ],
                        "iteration": 739,
                        "passed_time": 7877.058169,
                        "remaining_time": 2767.615032,
                        "test": [
                          0.002420880152
                        ]
                      },
                      {
                        "learn": [
                          0.0006893989018
                        ],
                        "iteration": 740,
                        "passed_time": 7887.398472,
                        "remaining_time": 2756.863974,
                        "test": [
                          0.002420145881
                        ]
                      },
                      {
                        "learn": [
                          0.000687973256
                        ],
                        "iteration": 741,
                        "passed_time": 7897.769765,
                        "remaining_time": 2746.124797,
                        "test": [
                          0.002419464788
                        ]
                      },
                      {
                        "learn": [
                          0.0006867415759
                        ],
                        "iteration": 742,
                        "passed_time": 7908.187367,
                        "remaining_time": 2735.402629,
                        "test": [
                          0.002418956302
                        ]
                      },
                      {
                        "learn": [
                          0.0006847726082
                        ],
                        "iteration": 743,
                        "passed_time": 7918.498135,
                        "remaining_time": 2724.64452,
                        "test": [
                          0.002417197672
                        ]
                      },
                      {
                        "learn": [
                          0.0006835167554
                        ],
                        "iteration": 744,
                        "passed_time": 7928.93489,
                        "remaining_time": 2713.930734,
                        "test": [
                          0.00241675675
                        ]
                      },
                      {
                        "learn": [
                          0.0006822080028
                        ],
                        "iteration": 745,
                        "passed_time": 7939.396084,
                        "remaining_time": 2703.226013,
                        "test": [
                          0.002416265429
                        ]
                      },
                      {
                        "learn": [
                          0.0006810281325
                        ],
                        "iteration": 746,
                        "passed_time": 7949.81382,
                        "remaining_time": 2692.507224,
                        "test": [
                          0.002415685396
                        ]
                      },
                      {
                        "learn": [
                          0.0006798513374
                        ],
                        "iteration": 747,
                        "passed_time": 7960.25051,
                        "remaining_time": 2681.795626,
                        "test": [
                          0.002414939678
                        ]
                      },
                      {
                        "learn": [
                          0.000678529934
                        ],
                        "iteration": 748,
                        "passed_time": 7970.665121,
                        "remaining_time": 2671.077364,
                        "test": [
                          0.002414572233
                        ]
                      },
                      {
                        "learn": [
                          0.0006771364017
                        ],
                        "iteration": 749,
                        "passed_time": 7981.02498,
                        "remaining_time": 2660.34166,
                        "test": [
                          0.00241365162
                        ]
                      },
                      {
                        "learn": [
                          0.0006758388986
                        ],
                        "iteration": 750,
                        "passed_time": 7991.428774,
                        "remaining_time": 2649.621524,
                        "test": [
                          0.002413128927
                        ]
                      },
                      {
                        "learn": [
                          0.0006743137204
                        ],
                        "iteration": 751,
                        "passed_time": 8001.812883,
                        "remaining_time": 2638.895738,
                        "test": [
                          0.002412056193
                        ]
                      },
                      {
                        "learn": [
                          0.0006730731263
                        ],
                        "iteration": 752,
                        "passed_time": 8012.186172,
                        "remaining_time": 2628.16731,
                        "test": [
                          0.002411562054
                        ]
                      },
                      {
                        "learn": [
                          0.0006718077368
                        ],
                        "iteration": 753,
                        "passed_time": 8025.484193,
                        "remaining_time": 2618.394047,
                        "test": [
                          0.002411037517
                        ]
                      },
                      {
                        "learn": [
                          0.0006703078212
                        ],
                        "iteration": 754,
                        "passed_time": 8041.431309,
                        "remaining_time": 2609.471087,
                        "test": [
                          0.002410039856
                        ]
                      },
                      {
                        "learn": [
                          0.0006691483089
                        ],
                        "iteration": 755,
                        "passed_time": 8051.852632,
                        "remaining_time": 2598.746088,
                        "test": [
                          0.002409632557
                        ]
                      },
                      {
                        "learn": [
                          0.0006677311099
                        ],
                        "iteration": 756,
                        "passed_time": 8062.27927,
                        "remaining_time": 2588.023597,
                        "test": [
                          0.002408723795
                        ]
                      },
                      {
                        "learn": [
                          0.0006663205672
                        ],
                        "iteration": 757,
                        "passed_time": 8072.76268,
                        "remaining_time": 2577.320011,
                        "test": [
                          0.002407867211
                        ]
                      },
                      {
                        "learn": [
                          0.0006651601597
                        ],
                        "iteration": 758,
                        "passed_time": 8083.398935,
                        "remaining_time": 2566.665538,
                        "test": [
                          0.002407516145
                        ]
                      },
                      {
                        "learn": [
                          0.0006640742944
                        ],
                        "iteration": 759,
                        "passed_time": 8093.950643,
                        "remaining_time": 2555.984414,
                        "test": [
                          0.002407250037
                        ]
                      },
                      {
                        "learn": [
                          0.000662842264
                        ],
                        "iteration": 760,
                        "passed_time": 8104.410404,
                        "remaining_time": 2545.274752,
                        "test": [
                          0.002406754652
                        ]
                      },
                      {
                        "learn": [
                          0.0006615612847
                        ],
                        "iteration": 761,
                        "passed_time": 8114.859662,
                        "remaining_time": 2534.562466,
                        "test": [
                          0.002406210192
                        ]
                      },
                      {
                        "learn": [
                          0.0006603682382
                        ],
                        "iteration": 762,
                        "passed_time": 8125.397206,
                        "remaining_time": 2523.878293,
                        "test": [
                          0.002405434036
                        ]
                      },
                      {
                        "learn": [
                          0.0006593816134
                        ],
                        "iteration": 763,
                        "passed_time": 8135.867794,
                        "remaining_time": 2513.173821,
                        "test": [
                          0.00240491398
                        ]
                      },
                      {
                        "learn": [
                          0.0006579331573
                        ],
                        "iteration": 764,
                        "passed_time": 8146.134907,
                        "remaining_time": 2502.407455,
                        "test": [
                          0.002404441732
                        ]
                      },
                      {
                        "learn": [
                          0.0006566685657
                        ],
                        "iteration": 765,
                        "passed_time": 8156.419361,
                        "remaining_time": 2491.64769,
                        "test": [
                          0.002404025881
                        ]
                      },
                      {
                        "learn": [
                          0.0006550802309
                        ],
                        "iteration": 766,
                        "passed_time": 8166.692157,
                        "remaining_time": 2480.885623,
                        "test": [
                          0.002403086175
                        ]
                      },
                      {
                        "learn": [
                          0.0006538250203
                        ],
                        "iteration": 767,
                        "passed_time": 8177.024698,
                        "remaining_time": 2470.142878,
                        "test": [
                          0.002402632664
                        ]
                      },
                      {
                        "learn": [
                          0.0006525402848
                        ],
                        "iteration": 768,
                        "passed_time": 8187.249627,
                        "remaining_time": 2459.368874,
                        "test": [
                          0.002401836924
                        ]
                      },
                      {
                        "learn": [
                          0.0006514316676
                        ],
                        "iteration": 769,
                        "passed_time": 8197.53745,
                        "remaining_time": 2448.615082,
                        "test": [
                          0.002401387576
                        ]
                      },
                      {
                        "learn": [
                          0.0006502014277
                        ],
                        "iteration": 770,
                        "passed_time": 8207.821866,
                        "remaining_time": 2437.861488,
                        "test": [
                          0.002400906363
                        ]
                      },
                      {
                        "learn": [
                          0.0006483459278
                        ],
                        "iteration": 771,
                        "passed_time": 8218.047439,
                        "remaining_time": 2427.091731,
                        "test": [
                          0.002399649123
                        ]
                      },
                      {
                        "learn": [
                          0.0006468703795
                        ],
                        "iteration": 772,
                        "passed_time": 8228.383892,
                        "remaining_time": 2416.355942,
                        "test": [
                          0.002398883528
                        ]
                      },
                      {
                        "learn": [
                          0.0006454253683
                        ],
                        "iteration": 773,
                        "passed_time": 8238.79398,
                        "remaining_time": 2405.642687,
                        "test": [
                          0.002398345279
                        ]
                      },
                      {
                        "learn": [
                          0.0006440175699
                        ],
                        "iteration": 774,
                        "passed_time": 8249.136883,
                        "remaining_time": 2394.910708,
                        "test": [
                          0.002397510701
                        ]
                      },
                      {
                        "learn": [
                          0.0006429005642
                        ],
                        "iteration": 775,
                        "passed_time": 8259.480158,
                        "remaining_time": 2384.179839,
                        "test": [
                          0.002397165436
                        ]
                      },
                      {
                        "learn": [
                          0.0006416884053
                        ],
                        "iteration": 776,
                        "passed_time": 8269.838203,
                        "remaining_time": 2373.454207,
                        "test": [
                          0.002396181641
                        ]
                      },
                      {
                        "learn": [
                          0.0006404334866
                        ],
                        "iteration": 777,
                        "passed_time": 8280.160705,
                        "remaining_time": 2362.719379,
                        "test": [
                          0.002395237143
                        ]
                      },
                      {
                        "learn": [
                          0.0006389492774
                        ],
                        "iteration": 778,
                        "passed_time": 8290.473837,
                        "remaining_time": 2351.98295,
                        "test": [
                          0.002394046844
                        ]
                      },
                      {
                        "learn": [
                          0.0006377923537
                        ],
                        "iteration": 779,
                        "passed_time": 8300.826382,
                        "remaining_time": 2341.258723,
                        "test": [
                          0.002393629057
                        ]
                      },
                      {
                        "learn": [
                          0.0006366899841
                        ],
                        "iteration": 780,
                        "passed_time": 8311.136375,
                        "remaining_time": 2330.523516,
                        "test": [
                          0.002392914534
                        ]
                      },
                      {
                        "learn": [
                          0.000635387771
                        ],
                        "iteration": 781,
                        "passed_time": 8321.385982,
                        "remaining_time": 2319.772563,
                        "test": [
                          0.002392169977
                        ]
                      },
                      {
                        "learn": [
                          0.0006343655294
                        ],
                        "iteration": 782,
                        "passed_time": 8331.729348,
                        "remaining_time": 2309.048874,
                        "test": [
                          0.002391802766
                        ]
                      },
                      {
                        "learn": [
                          0.0006333983674
                        ],
                        "iteration": 783,
                        "passed_time": 8342.081184,
                        "remaining_time": 2298.32849,
                        "test": [
                          0.002391487483
                        ]
                      },
                      {
                        "learn": [
                          0.0006320702494
                        ],
                        "iteration": 784,
                        "passed_time": 8352.490832,
                        "remaining_time": 2287.624878,
                        "test": [
                          0.002390879653
                        ]
                      },
                      {
                        "learn": [
                          0.0006311742432
                        ],
                        "iteration": 785,
                        "passed_time": 8362.845006,
                        "remaining_time": 2276.90691,
                        "test": [
                          0.002390528501
                        ]
                      },
                      {
                        "learn": [
                          0.0006301974861
                        ],
                        "iteration": 786,
                        "passed_time": 8373.229111,
                        "remaining_time": 2266.197968,
                        "test": [
                          0.002390189384
                        ]
                      },
                      {
                        "learn": [
                          0.0006291095189
                        ],
                        "iteration": 787,
                        "passed_time": 8383.537636,
                        "remaining_time": 2255.469516,
                        "test": [
                          0.002389833977
                        ]
                      },
                      {
                        "learn": [
                          0.0006279523616
                        ],
                        "iteration": 788,
                        "passed_time": 8393.980011,
                        "remaining_time": 2244.777924,
                        "test": [
                          0.002389249761
                        ]
                      },
                      {
                        "learn": [
                          0.000626506241
                        ],
                        "iteration": 789,
                        "passed_time": 8404.330876,
                        "remaining_time": 2234.062638,
                        "test": [
                          0.002388477114
                        ]
                      },
                      {
                        "learn": [
                          0.0006251866477
                        ],
                        "iteration": 790,
                        "passed_time": 8414.674997,
                        "remaining_time": 2223.346491,
                        "test": [
                          0.002387341081
                        ]
                      },
                      {
                        "learn": [
                          0.0006238529244
                        ],
                        "iteration": 791,
                        "passed_time": 8425.029574,
                        "remaining_time": 2212.634029,
                        "test": [
                          0.002386353819
                        ]
                      },
                      {
                        "learn": [
                          0.0006228995031
                        ],
                        "iteration": 792,
                        "passed_time": 8435.464706,
                        "remaining_time": 2201.943498,
                        "test": [
                          0.002386057905
                        ]
                      },
                      {
                        "learn": [
                          0.0006218329838
                        ],
                        "iteration": 793,
                        "passed_time": 8445.761132,
                        "remaining_time": 2191.217624,
                        "test": [
                          0.002385448374
                        ]
                      },
                      {
                        "learn": [
                          0.0006206344098
                        ],
                        "iteration": 794,
                        "passed_time": 8455.983912,
                        "remaining_time": 2180.473839,
                        "test": [
                          0.002384882165
                        ]
                      },
                      {
                        "learn": [
                          0.000619477311
                        ],
                        "iteration": 795,
                        "passed_time": 8466.233707,
                        "remaining_time": 2169.738287,
                        "test": [
                          0.002384611766
                        ]
                      },
                      {
                        "learn": [
                          0.0006183935866
                        ],
                        "iteration": 796,
                        "passed_time": 8477.010341,
                        "remaining_time": 2159.138142,
                        "test": [
                          0.00238425916
                        ]
                      },
                      {
                        "learn": [
                          0.0006172134438
                        ],
                        "iteration": 797,
                        "passed_time": 8487.305066,
                        "remaining_time": 2148.415568,
                        "test": [
                          0.002383405903
                        ]
                      },
                      {
                        "learn": [
                          0.0006160332621
                        ],
                        "iteration": 798,
                        "passed_time": 8497.537081,
                        "remaining_time": 2137.678289,
                        "test": [
                          0.002382721702
                        ]
                      },
                      {
                        "learn": [
                          0.0006150099891
                        ],
                        "iteration": 799,
                        "passed_time": 8507.879382,
                        "remaining_time": 2126.969846,
                        "test": [
                          0.002382236037
                        ]
                      },
                      {
                        "learn": [
                          0.0006139412316
                        ],
                        "iteration": 800,
                        "passed_time": 8518.121758,
                        "remaining_time": 2116.23749,
                        "test": [
                          0.002381855496
                        ]
                      },
                      {
                        "learn": [
                          0.000612958441
                        ],
                        "iteration": 801,
                        "passed_time": 8528.466962,
                        "remaining_time": 2105.531744,
                        "test": [
                          0.002381270942
                        ]
                      },
                      {
                        "learn": [
                          0.0006119704928
                        ],
                        "iteration": 802,
                        "passed_time": 8538.734686,
                        "remaining_time": 2094.807887,
                        "test": [
                          0.002381081635
                        ]
                      },
                      {
                        "learn": [
                          0.0006109626536
                        ],
                        "iteration": 803,
                        "passed_time": 8549.074868,
                        "remaining_time": 2084.102829,
                        "test": [
                          0.00238047338
                        ]
                      },
                      {
                        "learn": [
                          0.0006099575977
                        ],
                        "iteration": 804,
                        "passed_time": 8559.343338,
                        "remaining_time": 2073.381306,
                        "test": [
                          0.00237992196
                        ]
                      },
                      {
                        "learn": [
                          0.0006087996424
                        ],
                        "iteration": 805,
                        "passed_time": 8569.719628,
                        "remaining_time": 2062.686858,
                        "test": [
                          0.002379364889
                        ]
                      },
                      {
                        "learn": [
                          0.0006077934771
                        ],
                        "iteration": 806,
                        "passed_time": 8580.010847,
                        "remaining_time": 2051.972854,
                        "test": [
                          0.00237904777
                        ]
                      },
                      {
                        "learn": [
                          0.0006066825049
                        ],
                        "iteration": 807,
                        "passed_time": 8590.183763,
                        "remaining_time": 2041.231785,
                        "test": [
                          0.002378361225
                        ]
                      },
                      {
                        "learn": [
                          0.0006055347092
                        ],
                        "iteration": 808,
                        "passed_time": 8600.439278,
                        "remaining_time": 2030.511622,
                        "test": [
                          0.0023778145
                        ]
                      },
                      {
                        "learn": [
                          0.0006044034569
                        ],
                        "iteration": 809,
                        "passed_time": 8610.703079,
                        "remaining_time": 2019.794549,
                        "test": [
                          0.00237722585
                        ]
                      },
                      {
                        "learn": [
                          0.0006034614018
                        ],
                        "iteration": 810,
                        "passed_time": 8621.004095,
                        "remaining_time": 2009.087268,
                        "test": [
                          0.002376905694
                        ]
                      },
                      {
                        "learn": [
                          0.0006022852684
                        ],
                        "iteration": 811,
                        "passed_time": 8631.327504,
                        "remaining_time": 1998.386171,
                        "test": [
                          0.002376342578
                        ]
                      },
                      {
                        "learn": [
                          0.0006011148959
                        ],
                        "iteration": 812,
                        "passed_time": 8651.690482,
                        "remaining_time": 1989.995228,
                        "test": [
                          0.002375701443
                        ]
                      },
                      {
                        "learn": [
                          0.0005999224721
                        ],
                        "iteration": 813,
                        "passed_time": 8662.127202,
                        "remaining_time": 1979.306707,
                        "test": [
                          0.002375027271
                        ]
                      },
                      {
                        "learn": [
                          0.000599052293
                        ],
                        "iteration": 814,
                        "passed_time": 8672.508523,
                        "remaining_time": 1968.606229,
                        "test": [
                          0.002374813103
                        ]
                      },
                      {
                        "learn": [
                          0.0005980822505
                        ],
                        "iteration": 815,
                        "passed_time": 8682.905101,
                        "remaining_time": 1957.909974,
                        "test": [
                          0.002374260567
                        ]
                      },
                      {
                        "learn": [
                          0.0005970679886
                        ],
                        "iteration": 816,
                        "passed_time": 8693.191101,
                        "remaining_time": 1947.189684,
                        "test": [
                          0.002373757857
                        ]
                      },
                      {
                        "learn": [
                          0.0005959134588
                        ],
                        "iteration": 817,
                        "passed_time": 8703.482051,
                        "remaining_time": 1936.471556,
                        "test": [
                          0.002373349125
                        ]
                      },
                      {
                        "learn": [
                          0.0005945883186
                        ],
                        "iteration": 818,
                        "passed_time": 8713.731191,
                        "remaining_time": 1925.745233,
                        "test": [
                          0.002372259151
                        ]
                      },
                      {
                        "learn": [
                          0.0005934116597
                        ],
                        "iteration": 819,
                        "passed_time": 8724.019503,
                        "remaining_time": 1915.028671,
                        "test": [
                          0.002371753605
                        ]
                      },
                      {
                        "learn": [
                          0.0005923455102
                        ],
                        "iteration": 820,
                        "passed_time": 8734.429994,
                        "remaining_time": 1904.339792,
                        "test": [
                          0.002371514055
                        ]
                      },
                      {
                        "learn": [
                          0.000591313187
                        ],
                        "iteration": 821,
                        "passed_time": 8744.883325,
                        "remaining_time": 1893.660866,
                        "test": [
                          0.002371233149
                        ]
                      },
                      {
                        "learn": [
                          0.0005902304747
                        ],
                        "iteration": 822,
                        "passed_time": 8755.29524,
                        "remaining_time": 1882.973581,
                        "test": [
                          0.002370745847
                        ]
                      },
                      {
                        "learn": [
                          0.0005891191911
                        ],
                        "iteration": 823,
                        "passed_time": 8765.71691,
                        "remaining_time": 1872.289049,
                        "test": [
                          0.002370050822
                        ]
                      },
                      {
                        "learn": [
                          0.0005882429201
                        ],
                        "iteration": 824,
                        "passed_time": 8776.199785,
                        "remaining_time": 1861.618136,
                        "test": [
                          0.002369742421
                        ]
                      },
                      {
                        "learn": [
                          0.00058716375
                        ],
                        "iteration": 825,
                        "passed_time": 8786.602587,
                        "remaining_time": 1850.930811,
                        "test": [
                          0.002369185877
                        ]
                      },
                      {
                        "learn": [
                          0.0005862403597
                        ],
                        "iteration": 826,
                        "passed_time": 8796.848418,
                        "remaining_time": 1840.211338,
                        "test": [
                          0.002368501552
                        ]
                      },
                      {
                        "learn": [
                          0.0005854636601
                        ],
                        "iteration": 827,
                        "passed_time": 8807.303417,
                        "remaining_time": 1829.536459,
                        "test": [
                          0.002368290877
                        ]
                      },
                      {
                        "learn": [
                          0.0005844243303
                        ],
                        "iteration": 828,
                        "passed_time": 8817.657214,
                        "remaining_time": 1818.841235,
                        "test": [
                          0.00236778948
                        ]
                      },
                      {
                        "learn": [
                          0.0005832221362
                        ],
                        "iteration": 829,
                        "passed_time": 8827.997524,
                        "remaining_time": 1808.144071,
                        "test": [
                          0.002366689874
                        ]
                      },
                      {
                        "learn": [
                          0.000582018463
                        ],
                        "iteration": 830,
                        "passed_time": 8838.232383,
                        "remaining_time": 1797.426321,
                        "test": [
                          0.002365849511
                        ]
                      },
                      {
                        "learn": [
                          0.000581189175
                        ],
                        "iteration": 831,
                        "passed_time": 8848.550705,
                        "remaining_time": 1786.726585,
                        "test": [
                          0.002365434802
                        ]
                      },
                      {
                        "learn": [
                          0.0005800262179
                        ],
                        "iteration": 832,
                        "passed_time": 8858.877897,
                        "remaining_time": 1776.029542,
                        "test": [
                          0.002364734577
                        ]
                      },
                      {
                        "learn": [
                          0.0005790776233
                        ],
                        "iteration": 833,
                        "passed_time": 8869.108607,
                        "remaining_time": 1765.314183,
                        "test": [
                          0.002364490048
                        ]
                      },
                      {
                        "learn": [
                          0.0005781781917
                        ],
                        "iteration": 834,
                        "passed_time": 8879.518155,
                        "remaining_time": 1754.635324,
                        "test": [
                          0.00236410548
                        ]
                      },
                      {
                        "learn": [
                          0.0005773795965
                        ],
                        "iteration": 835,
                        "passed_time": 8889.975628,
                        "remaining_time": 1743.966511,
                        "test": [
                          0.002363813593
                        ]
                      },
                      {
                        "learn": [
                          0.0005764901297
                        ],
                        "iteration": 836,
                        "passed_time": 8900.435137,
                        "remaining_time": 1733.298599,
                        "test": [
                          0.002363189718
                        ]
                      },
                      {
                        "learn": [
                          0.0005756074555
                        ],
                        "iteration": 837,
                        "passed_time": 8910.760101,
                        "remaining_time": 1722.605175,
                        "test": [
                          0.002362776712
                        ]
                      },
                      {
                        "learn": [
                          0.0005747271946
                        ],
                        "iteration": 838,
                        "passed_time": 8921.08764,
                        "remaining_time": 1711.913123,
                        "test": [
                          0.002362358485
                        ]
                      },
                      {
                        "learn": [
                          0.000573570738
                        ],
                        "iteration": 839,
                        "passed_time": 8931.491757,
                        "remaining_time": 1701.236525,
                        "test": [
                          0.002361708565
                        ]
                      },
                      {
                        "learn": [
                          0.0005727977363
                        ],
                        "iteration": 840,
                        "passed_time": 8941.734264,
                        "remaining_time": 1690.530021,
                        "test": [
                          0.002361576056
                        ]
                      },
                      {
                        "learn": [
                          0.0005718445681
                        ],
                        "iteration": 841,
                        "passed_time": 8952.985603,
                        "remaining_time": 1680.013926,
                        "test": [
                          0.00236121488
                        ]
                      },
                      {
                        "learn": [
                          0.0005708828362
                        ],
                        "iteration": 842,
                        "passed_time": 8963.230134,
                        "remaining_time": 1669.308578,
                        "test": [
                          0.002360778238
                        ]
                      },
                      {
                        "learn": [
                          0.0005698532182
                        ],
                        "iteration": 843,
                        "passed_time": 8973.616079,
                        "remaining_time": 1658.63046,
                        "test": [
                          0.002360120915
                        ]
                      },
                      {
                        "learn": [
                          0.0005689591388
                        ],
                        "iteration": 844,
                        "passed_time": 8983.95421,
                        "remaining_time": 1647.944263,
                        "test": [
                          0.002359688312
                        ]
                      },
                      {
                        "learn": [
                          0.000568015663
                        ],
                        "iteration": 845,
                        "passed_time": 8994.294308,
                        "remaining_time": 1637.259248,
                        "test": [
                          0.002359504496
                        ]
                      },
                      {
                        "learn": [
                          0.0005669686064
                        ],
                        "iteration": 846,
                        "passed_time": 9004.625771,
                        "remaining_time": 1626.573486,
                        "test": [
                          0.002358881044
                        ]
                      },
                      {
                        "learn": [
                          0.0005661109029
                        ],
                        "iteration": 847,
                        "passed_time": 9015.017894,
                        "remaining_time": 1615.899434,
                        "test": [
                          0.002358538315
                        ]
                      },
                      {
                        "learn": [
                          0.0005653716885
                        ],
                        "iteration": 848,
                        "passed_time": 9025.485211,
                        "remaining_time": 1605.239419,
                        "test": [
                          0.002358202116
                        ]
                      },
                      {
                        "learn": [
                          0.0005644763441
                        ],
                        "iteration": 849,
                        "passed_time": 9035.909014,
                        "remaining_time": 1594.572179,
                        "test": [
                          0.002357707443
                        ]
                      },
                      {
                        "learn": [
                          0.0005633093192
                        ],
                        "iteration": 850,
                        "passed_time": 9046.252995,
                        "remaining_time": 1583.891535,
                        "test": [
                          0.002356945395
                        ]
                      },
                      {
                        "learn": [
                          0.0005615774077
                        ],
                        "iteration": 851,
                        "passed_time": 9056.543713,
                        "remaining_time": 1573.202429,
                        "test": [
                          0.002355883797
                        ]
                      },
                      {
                        "learn": [
                          0.0005606419116
                        ],
                        "iteration": 852,
                        "passed_time": 9066.856613,
                        "remaining_time": 1562.51808,
                        "test": [
                          0.002355440763
                        ]
                      },
                      {
                        "learn": [
                          0.0005597314251
                        ],
                        "iteration": 853,
                        "passed_time": 9077.21758,
                        "remaining_time": 1551.842818,
                        "test": [
                          0.002355001426
                        ]
                      },
                      {
                        "learn": [
                          0.00055876872
                        ],
                        "iteration": 854,
                        "passed_time": 9087.558937,
                        "remaining_time": 1541.164966,
                        "test": [
                          0.002354606985
                        ]
                      },
                      {
                        "learn": [
                          0.0005578173813
                        ],
                        "iteration": 855,
                        "passed_time": 9097.856202,
                        "remaining_time": 1530.480483,
                        "test": [
                          0.002354076775
                        ]
                      },
                      {
                        "learn": [
                          0.0005569432317
                        ],
                        "iteration": 856,
                        "passed_time": 9108.115796,
                        "remaining_time": 1519.790617,
                        "test": [
                          0.002353729002
                        ]
                      },
                      {
                        "learn": [
                          0.000555899153
                        ],
                        "iteration": 857,
                        "passed_time": 9118.407202,
                        "remaining_time": 1509.107019,
                        "test": [
                          0.002353366546
                        ]
                      },
                      {
                        "learn": [
                          0.0005545883179
                        ],
                        "iteration": 858,
                        "passed_time": 9128.660864,
                        "remaining_time": 1498.41814,
                        "test": [
                          0.0023529221
                        ]
                      },
                      {
                        "learn": [
                          0.0005538717192
                        ],
                        "iteration": 859,
                        "passed_time": 9138.866429,
                        "remaining_time": 1487.722442,
                        "test": [
                          0.002352619475
                        ]
                      },
                      {
                        "learn": [
                          0.0005527423547
                        ],
                        "iteration": 860,
                        "passed_time": 9149.110434,
                        "remaining_time": 1477.034089,
                        "test": [
                          0.002352074742
                        ]
                      },
                      {
                        "learn": [
                          0.0005517652473
                        ],
                        "iteration": 861,
                        "passed_time": 9159.422332,
                        "remaining_time": 1466.357636,
                        "test": [
                          0.002351482929
                        ]
                      },
                      {
                        "learn": [
                          0.0005510161264
                        ],
                        "iteration": 862,
                        "passed_time": 9169.631162,
                        "remaining_time": 1455.665665,
                        "test": [
                          0.0023511472
                        ]
                      },
                      {
                        "learn": [
                          0.0005499235854
                        ],
                        "iteration": 863,
                        "passed_time": 9179.84287,
                        "remaining_time": 1444.975267,
                        "test": [
                          0.002350743761
                        ]
                      },
                      {
                        "learn": [
                          0.0005489697943
                        ],
                        "iteration": 864,
                        "passed_time": 9190.084748,
                        "remaining_time": 1434.290683,
                        "test": [
                          0.002350173207
                        ]
                      },
                      {
                        "learn": [
                          0.0005479172687
                        ],
                        "iteration": 865,
                        "passed_time": 9200.428497,
                        "remaining_time": 1423.622885,
                        "test": [
                          0.002349609733
                        ]
                      },
                      {
                        "learn": [
                          0.0005468934896
                        ],
                        "iteration": 866,
                        "passed_time": 9210.623294,
                        "remaining_time": 1412.932985,
                        "test": [
                          0.002349188381
                        ]
                      },
                      {
                        "learn": [
                          0.0005458645529
                        ],
                        "iteration": 867,
                        "passed_time": 9220.805642,
                        "remaining_time": 1402.242333,
                        "test": [
                          0.00234855208
                        ]
                      },
                      {
                        "learn": [
                          0.0005450085815
                        ],
                        "iteration": 868,
                        "passed_time": 9231.11608,
                        "remaining_time": 1391.572159,
                        "test": [
                          0.002348010001
                        ]
                      },
                      {
                        "learn": [
                          0.0005441858331
                        ],
                        "iteration": 869,
                        "passed_time": 9241.397153,
                        "remaining_time": 1380.898425,
                        "test": [
                          0.002347580883
                        ]
                      },
                      {
                        "learn": [
                          0.0005433161989
                        ],
                        "iteration": 870,
                        "passed_time": 9257.657552,
                        "remaining_time": 1371.111164,
                        "test": [
                          0.002347084605
                        ]
                      },
                      {
                        "learn": [
                          0.0005425116286
                        ],
                        "iteration": 871,
                        "passed_time": 9270.586064,
                        "remaining_time": 1360.819973,
                        "test": [
                          0.002346601716
                        ]
                      },
                      {
                        "learn": [
                          0.0005416761126
                        ],
                        "iteration": 872,
                        "passed_time": 9280.799419,
                        "remaining_time": 1350.127751,
                        "test": [
                          0.002346095765
                        ]
                      },
                      {
                        "learn": [
                          0.0005407567705
                        ],
                        "iteration": 873,
                        "passed_time": 9291.041502,
                        "remaining_time": 1339.440766,
                        "test": [
                          0.002345713467
                        ]
                      },
                      {
                        "learn": [
                          0.0005398491451
                        ],
                        "iteration": 874,
                        "passed_time": 9301.253688,
                        "remaining_time": 1328.750527,
                        "test": [
                          0.002345372871
                        ]
                      },
                      {
                        "learn": [
                          0.000538814097
                        ],
                        "iteration": 875,
                        "passed_time": 9311.416425,
                        "remaining_time": 1318.05438,
                        "test": [
                          0.002344915094
                        ]
                      },
                      {
                        "learn": [
                          0.0005380636721
                        ],
                        "iteration": 876,
                        "passed_time": 9321.763514,
                        "remaining_time": 1307.385305,
                        "test": [
                          0.002344321512
                        ]
                      },
                      {
                        "learn": [
                          0.0005370989819
                        ],
                        "iteration": 877,
                        "passed_time": 9332.220697,
                        "remaining_time": 1296.732261,
                        "test": [
                          0.002343786938
                        ]
                      },
                      {
                        "learn": [
                          0.0005363733136
                        ],
                        "iteration": 878,
                        "passed_time": 9342.800932,
                        "remaining_time": 1286.096602,
                        "test": [
                          0.002343711292
                        ]
                      },
                      {
                        "learn": [
                          0.0005354610365
                        ],
                        "iteration": 879,
                        "passed_time": 9353.34089,
                        "remaining_time": 1275.455576,
                        "test": [
                          0.0023432075
                        ]
                      },
                      {
                        "learn": [
                          0.0005347521646
                        ],
                        "iteration": 880,
                        "passed_time": 9363.827551,
                        "remaining_time": 1264.807581,
                        "test": [
                          0.002343094995
                        ]
                      },
                      {
                        "learn": [
                          0.000533785314
                        ],
                        "iteration": 881,
                        "passed_time": 9374.34928,
                        "remaining_time": 1254.164643,
                        "test": [
                          0.002342648996
                        ]
                      },
                      {
                        "learn": [
                          0.0005329462168
                        ],
                        "iteration": 882,
                        "passed_time": 9384.797198,
                        "remaining_time": 1243.512199,
                        "test": [
                          0.002342374815
                        ]
                      },
                      {
                        "learn": [
                          0.0005321942154
                        ],
                        "iteration": 883,
                        "passed_time": 9395.286881,
                        "remaining_time": 1232.865699,
                        "test": [
                          0.002342106137
                        ]
                      },
                      {
                        "learn": [
                          0.0005312720124
                        ],
                        "iteration": 884,
                        "passed_time": 9405.817404,
                        "remaining_time": 1222.22486,
                        "test": [
                          0.00234177898
                        ]
                      },
                      {
                        "learn": [
                          0.0005303320009
                        ],
                        "iteration": 885,
                        "passed_time": 9416.169527,
                        "remaining_time": 1211.561316,
                        "test": [
                          0.002341266794
                        ]
                      },
                      {
                        "learn": [
                          0.0005296414628
                        ],
                        "iteration": 886,
                        "passed_time": 9426.519998,
                        "remaining_time": 1200.898264,
                        "test": [
                          0.002340852862
                        ]
                      },
                      {
                        "learn": [
                          0.0005288680135
                        ],
                        "iteration": 887,
                        "passed_time": 9436.87038,
                        "remaining_time": 1190.235904,
                        "test": [
                          0.002340474596
                        ]
                      },
                      {
                        "learn": [
                          0.0005280452067
                        ],
                        "iteration": 888,
                        "passed_time": 9447.241213,
                        "remaining_time": 1179.576799,
                        "test": [
                          0.002340200387
                        ]
                      },
                      {
                        "learn": [
                          0.0005269402485
                        ],
                        "iteration": 889,
                        "passed_time": 9457.581719,
                        "remaining_time": 1168.914594,
                        "test": [
                          0.002339413231
                        ]
                      },
                      {
                        "learn": [
                          0.0005262273282
                        ],
                        "iteration": 890,
                        "passed_time": 9467.907192,
                        "remaining_time": 1158.251273,
                        "test": [
                          0.0023392132
                        ]
                      },
                      {
                        "learn": [
                          0.0005255813599
                        ],
                        "iteration": 891,
                        "passed_time": 9478.440269,
                        "remaining_time": 1147.613844,
                        "test": [
                          0.002338905474
                        ]
                      },
                      {
                        "learn": [
                          0.0005249094866
                        ],
                        "iteration": 892,
                        "passed_time": 9488.901546,
                        "remaining_time": 1136.968046,
                        "test": [
                          0.002338591089
                        ]
                      },
                      {
                        "learn": [
                          0.00052406276
                        ],
                        "iteration": 893,
                        "passed_time": 9499.265757,
                        "remaining_time": 1126.311152,
                        "test": [
                          0.002338294929
                        ]
                      },
                      {
                        "learn": [
                          0.0005234136581
                        ],
                        "iteration": 894,
                        "passed_time": 9509.786809,
                        "remaining_time": 1115.673313,
                        "test": [
                          0.002338124383
                        ]
                      },
                      {
                        "learn": [
                          0.0005226071611
                        ],
                        "iteration": 895,
                        "passed_time": 9520.299643,
                        "remaining_time": 1105.03478,
                        "test": [
                          0.002337843752
                        ]
                      },
                      {
                        "learn": [
                          0.0005218095779
                        ],
                        "iteration": 896,
                        "passed_time": 9530.748212,
                        "remaining_time": 1094.389148,
                        "test": [
                          0.002337448625
                        ]
                      },
                      {
                        "learn": [
                          0.0005211507642
                        ],
                        "iteration": 897,
                        "passed_time": 9541.64237,
                        "remaining_time": 1083.794568,
                        "test": [
                          0.002337098942
                        ]
                      },
                      {
                        "learn": [
                          0.0005205423005
                        ],
                        "iteration": 898,
                        "passed_time": 9552.621252,
                        "remaining_time": 1073.208839,
                        "test": [
                          0.002336838696
                        ]
                      },
                      {
                        "learn": [
                          0.000519825877
                        ],
                        "iteration": 899,
                        "passed_time": 9563.674943,
                        "remaining_time": 1062.630549,
                        "test": [
                          0.002336411743
                        ]
                      },
                      {
                        "learn": [
                          0.0005189541408
                        ],
                        "iteration": 900,
                        "passed_time": 9574.644722,
                        "remaining_time": 1052.041984,
                        "test": [
                          0.002336320332
                        ]
                      },
                      {
                        "learn": [
                          0.000518280185
                        ],
                        "iteration": 901,
                        "passed_time": 9585.08825,
                        "remaining_time": 1041.395397,
                        "test": [
                          0.00233587489
                        ]
                      },
                      {
                        "learn": [
                          0.000517528748
                        ],
                        "iteration": 902,
                        "passed_time": 9595.444137,
                        "remaining_time": 1030.739846,
                        "test": [
                          0.002335433154
                        ]
                      },
                      {
                        "learn": [
                          0.000516755902
                        ],
                        "iteration": 903,
                        "passed_time": 9605.817193,
                        "remaining_time": 1020.086782,
                        "test": [
                          0.002335280035
                        ]
                      },
                      {
                        "learn": [
                          0.0005158523637
                        ],
                        "iteration": 904,
                        "passed_time": 9616.164357,
                        "remaining_time": 1009.431618,
                        "test": [
                          0.002334693258
                        ]
                      },
                      {
                        "learn": [
                          0.0005151078944
                        ],
                        "iteration": 905,
                        "passed_time": 9626.615996,
                        "remaining_time": 998.7879731,
                        "test": [
                          0.002334367703
                        ]
                      },
                      {
                        "learn": [
                          0.0005143736041
                        ],
                        "iteration": 906,
                        "passed_time": 9636.996282,
                        "remaining_time": 988.1374357,
                        "test": [
                          0.002334036703
                        ]
                      },
                      {
                        "learn": [
                          0.0005135710775
                        ],
                        "iteration": 907,
                        "passed_time": 9647.344676,
                        "remaining_time": 977.4842623,
                        "test": [
                          0.002333532252
                        ]
                      },
                      {
                        "learn": [
                          0.000512661603
                        ],
                        "iteration": 908,
                        "passed_time": 9657.631838,
                        "remaining_time": 966.8256295,
                        "test": [
                          0.002332914488
                        ]
                      },
                      {
                        "learn": [
                          0.0005118531013
                        ],
                        "iteration": 909,
                        "passed_time": 9667.944534,
                        "remaining_time": 956.1703385,
                        "test": [
                          0.002332484142
                        ]
                      },
                      {
                        "learn": [
                          0.0005112266346
                        ],
                        "iteration": 910,
                        "passed_time": 9678.341013,
                        "remaining_time": 945.5239848,
                        "test": [
                          0.002332272673
                        ]
                      },
                      {
                        "learn": [
                          0.0005104220254
                        ],
                        "iteration": 911,
                        "passed_time": 9688.892896,
                        "remaining_time": 934.8931741,
                        "test": [
                          0.002332182951
                        ]
                      },
                      {
                        "learn": [
                          0.0005095946643
                        ],
                        "iteration": 912,
                        "passed_time": 9699.616039,
                        "remaining_time": 924.2788558,
                        "test": [
                          0.002331657351
                        ]
                      },
                      {
                        "learn": [
                          0.0005087360655
                        ],
                        "iteration": 913,
                        "passed_time": 9709.99625,
                        "remaining_time": 913.6320323,
                        "test": [
                          0.002331279532
                        ]
                      },
                      {
                        "learn": [
                          0.0005079550646
                        ],
                        "iteration": 914,
                        "passed_time": 9720.365872,
                        "remaining_time": 902.9848078,
                        "test": [
                          0.002330911813
                        ]
                      },
                      {
                        "learn": [
                          0.0005071515453
                        ],
                        "iteration": 915,
                        "passed_time": 9730.853019,
                        "remaining_time": 892.3489668,
                        "test": [
                          0.002330514183
                        ]
                      },
                      {
                        "learn": [
                          0.0005064170604
                        ],
                        "iteration": 916,
                        "passed_time": 9741.18384,
                        "remaining_time": 881.6993007,
                        "test": [
                          0.002330236636
                        ]
                      },
                      {
                        "learn": [
                          0.0005055939811
                        ],
                        "iteration": 917,
                        "passed_time": 9751.518562,
                        "remaining_time": 871.0506777,
                        "test": [
                          0.002329998235
                        ]
                      },
                      {
                        "learn": [
                          0.0005047576281
                        ],
                        "iteration": 918,
                        "passed_time": 9761.881478,
                        "remaining_time": 860.4052228,
                        "test": [
                          0.002329520906
                        ]
                      },
                      {
                        "learn": [
                          0.0005040339061
                        ],
                        "iteration": 919,
                        "passed_time": 9772.336712,
                        "remaining_time": 849.7684097,
                        "test": [
                          0.002328918798
                        ]
                      },
                      {
                        "learn": [
                          0.0005033830137
                        ],
                        "iteration": 920,
                        "passed_time": 9782.718528,
                        "remaining_time": 839.1256935,
                        "test": [
                          0.002328450003
                        ]
                      },
                      {
                        "learn": [
                          0.0005027857605
                        ],
                        "iteration": 921,
                        "passed_time": 9793.121916,
                        "remaining_time": 828.4853682,
                        "test": [
                          0.002328322868
                        ]
                      },
                      {
                        "learn": [
                          0.0005020614935
                        ],
                        "iteration": 922,
                        "passed_time": 9803.573842,
                        "remaining_time": 817.8496054,
                        "test": [
                          0.002328164444
                        ]
                      },
                      {
                        "learn": [
                          0.0005013435909
                        ],
                        "iteration": 923,
                        "passed_time": 9814.047024,
                        "remaining_time": 807.215989,
                        "test": [
                          0.002327991066
                        ]
                      },
                      {
                        "learn": [
                          0.0005006095731
                        ],
                        "iteration": 924,
                        "passed_time": 9824.453335,
                        "remaining_time": 796.5772974,
                        "test": [
                          0.002327669459
                        ]
                      },
                      {
                        "learn": [
                          0.0004999612497
                        ],
                        "iteration": 925,
                        "passed_time": 9834.855047,
                        "remaining_time": 785.9387402,
                        "test": [
                          0.002327351079
                        ]
                      },
                      {
                        "learn": [
                          0.0004991532151
                        ],
                        "iteration": 926,
                        "passed_time": 9845.235628,
                        "remaining_time": 775.29903,
                        "test": [
                          0.002327016467
                        ]
                      },
                      {
                        "learn": [
                          0.0004983916964
                        ],
                        "iteration": 927,
                        "passed_time": 9855.603013,
                        "remaining_time": 764.6588544,
                        "test": [
                          0.002326453968
                        ]
                      },
                      {
                        "learn": [
                          0.0004977206016
                        ],
                        "iteration": 928,
                        "passed_time": 9872.816229,
                        "remaining_time": 754.5424675,
                        "test": [
                          0.002326307765
                        ]
                      },
                      {
                        "learn": [
                          0.0004970014144
                        ],
                        "iteration": 929,
                        "passed_time": 9884.977833,
                        "remaining_time": 744.0305896,
                        "test": [
                          0.002326014895
                        ]
                      },
                      {
                        "learn": [
                          0.0004964030908
                        ],
                        "iteration": 930,
                        "passed_time": 9895.514801,
                        "remaining_time": 733.3947597,
                        "test": [
                          0.002325738052
                        ]
                      },
                      {
                        "learn": [
                          0.0004957430898
                        ],
                        "iteration": 931,
                        "passed_time": 9905.949052,
                        "remaining_time": 722.7516476,
                        "test": [
                          0.002325629479
                        ]
                      },
                      {
                        "learn": [
                          0.0004950465377
                        ],
                        "iteration": 932,
                        "passed_time": 9916.383042,
                        "remaining_time": 712.1089644,
                        "test": [
                          0.002325096786
                        ]
                      },
                      {
                        "learn": [
                          0.0004945073809
                        ],
                        "iteration": 933,
                        "passed_time": 9927.04232,
                        "remaining_time": 701.4826479,
                        "test": [
                          0.002324887776
                        ]
                      },
                      {
                        "learn": [
                          0.0004937231492
                        ],
                        "iteration": 934,
                        "passed_time": 9938.23261,
                        "remaining_time": 690.8931761,
                        "test": [
                          0.002324602229
                        ]
                      },
                      {
                        "learn": [
                          0.0004931958841
                        ],
                        "iteration": 935,
                        "passed_time": 9948.953532,
                        "remaining_time": 680.270327,
                        "test": [
                          0.00232438959
                        ]
                      },
                      {
                        "learn": [
                          0.0004924946415
                        ],
                        "iteration": 936,
                        "passed_time": 9959.397163,
                        "remaining_time": 669.6286246,
                        "test": [
                          0.002324048968
                        ]
                      },
                      {
                        "learn": [
                          0.0004918489651
                        ],
                        "iteration": 937,
                        "passed_time": 9969.818875,
                        "remaining_time": 658.9858958,
                        "test": [
                          0.002323929648
                        ]
                      },
                      {
                        "learn": [
                          0.0004911981894
                        ],
                        "iteration": 938,
                        "passed_time": 9980.181618,
                        "remaining_time": 648.3398069,
                        "test": [
                          0.002323509383
                        ]
                      },
                      {
                        "learn": [
                          0.0004904558999
                        ],
                        "iteration": 939,
                        "passed_time": 9990.619125,
                        "remaining_time": 637.6990931,
                        "test": [
                          0.002323075498
                        ]
                      },
                      {
                        "learn": [
                          0.0004897197607
                        ],
                        "iteration": 940,
                        "passed_time": 10001.07333,
                        "remaining_time": 627.0598578,
                        "test": [
                          0.002322592181
                        ]
                      },
                      {
                        "learn": [
                          0.0004890790861
                        ],
                        "iteration": 941,
                        "passed_time": 10011.4914,
                        "remaining_time": 616.4187912,
                        "test": [
                          0.002322217379
                        ]
                      },
                      {
                        "learn": [
                          0.0004883194748
                        ],
                        "iteration": 942,
                        "passed_time": 10021.8806,
                        "remaining_time": 605.7764517,
                        "test": [
                          0.002321824922
                        ]
                      },
                      {
                        "learn": [
                          0.0004876384735
                        ],
                        "iteration": 943,
                        "passed_time": 10032.13824,
                        "remaining_time": 595.126845,
                        "test": [
                          0.002321438165
                        ]
                      },
                      {
                        "learn": [
                          0.000487036958
                        ],
                        "iteration": 944,
                        "passed_time": 10042.50296,
                        "remaining_time": 584.484299,
                        "test": [
                          0.002321206727
                        ]
                      },
                      {
                        "learn": [
                          0.0004862738045
                        ],
                        "iteration": 945,
                        "passed_time": 10053.47138,
                        "remaining_time": 573.8768019,
                        "test": [
                          0.002320831819
                        ]
                      },
                      {
                        "learn": [
                          0.0004856479411
                        ],
                        "iteration": 946,
                        "passed_time": 10063.84946,
                        "remaining_time": 563.2355029,
                        "test": [
                          0.002320517374
                        ]
                      },
                      {
                        "learn": [
                          0.0004849254842
                        ],
                        "iteration": 947,
                        "passed_time": 10074.24993,
                        "remaining_time": 552.5959876,
                        "test": [
                          0.002320138076
                        ]
                      },
                      {
                        "learn": [
                          0.0004841428484
                        ],
                        "iteration": 948,
                        "passed_time": 10084.60337,
                        "remaining_time": 541.9544488,
                        "test": [
                          0.002319563358
                        ]
                      },
                      {
                        "learn": [
                          0.0004835627614
                        ],
                        "iteration": 949,
                        "passed_time": 10095.02734,
                        "remaining_time": 531.3172284,
                        "test": [
                          0.002319281067
                        ]
                      },
                      {
                        "learn": [
                          0.0004829666955
                        ],
                        "iteration": 950,
                        "passed_time": 10105.41517,
                        "remaining_time": 520.6785943,
                        "test": [
                          0.002319022575
                        ]
                      },
                      {
                        "learn": [
                          0.0004824384183
                        ],
                        "iteration": 951,
                        "passed_time": 10116.04389,
                        "remaining_time": 510.0526331,
                        "test": [
                          0.00231892987
                        ]
                      },
                      {
                        "learn": [
                          0.000481742781
                        ],
                        "iteration": 952,
                        "passed_time": 10126.59427,
                        "remaining_time": 499.4228025,
                        "test": [
                          0.002318749435
                        ]
                      },
                      {
                        "learn": [
                          0.0004808176975
                        ],
                        "iteration": 953,
                        "passed_time": 10136.94495,
                        "remaining_time": 488.7835091,
                        "test": [
                          0.002318076211
                        ]
                      },
                      {
                        "learn": [
                          0.000480152714
                        ],
                        "iteration": 954,
                        "passed_time": 10147.40862,
                        "remaining_time": 478.1501442,
                        "test": [
                          0.002317760328
                        ]
                      },
                      {
                        "learn": [
                          0.0004794166721
                        ],
                        "iteration": 955,
                        "passed_time": 10157.85883,
                        "remaining_time": 467.516515,
                        "test": [
                          0.002317167501
                        ]
                      },
                      {
                        "learn": [
                          0.0004787679789
                        ],
                        "iteration": 956,
                        "passed_time": 10168.12959,
                        "remaining_time": 456.8752061,
                        "test": [
                          0.002316653743
                        ]
                      },
                      {
                        "learn": [
                          0.0004780859071
                        ],
                        "iteration": 957,
                        "passed_time": 10178.44709,
                        "remaining_time": 446.2367202,
                        "test": [
                          0.002316395582
                        ]
                      },
                      {
                        "learn": [
                          0.0004774576499
                        ],
                        "iteration": 958,
                        "passed_time": 10188.70532,
                        "remaining_time": 435.5963692,
                        "test": [
                          0.002316056699
                        ]
                      },
                      {
                        "learn": [
                          0.0004769343941
                        ],
                        "iteration": 959,
                        "passed_time": 10199.09635,
                        "remaining_time": 424.9623479,
                        "test": [
                          0.002315876047
                        ]
                      },
                      {
                        "learn": [
                          0.000476264506
                        ],
                        "iteration": 960,
                        "passed_time": 10209.38397,
                        "remaining_time": 414.3246358,
                        "test": [
                          0.002315502787
                        ]
                      },
                      {
                        "learn": [
                          0.0004756735588
                        ],
                        "iteration": 961,
                        "passed_time": 10219.75853,
                        "remaining_time": 403.6910852,
                        "test": [
                          0.002315286635
                        ]
                      },
                      {
                        "learn": [
                          0.0004750812686
                        ],
                        "iteration": 962,
                        "passed_time": 10230.11737,
                        "remaining_time": 393.0574692,
                        "test": [
                          0.002315116118
                        ]
                      },
                      {
                        "learn": [
                          0.0004744967247
                        ],
                        "iteration": 963,
                        "passed_time": 10240.48708,
                        "remaining_time": 382.4248285,
                        "test": [
                          0.002314806185
                        ]
                      },
                      {
                        "learn": [
                          0.0004739280623
                        ],
                        "iteration": 964,
                        "passed_time": 10250.788,
                        "remaining_time": 371.7902383,
                        "test": [
                          0.002314572403
                        ]
                      },
                      {
                        "learn": [
                          0.0004734232377
                        ],
                        "iteration": 965,
                        "passed_time": 10261.09821,
                        "remaining_time": 361.1566657,
                        "test": [
                          0.00231457921
                        ]
                      },
                      {
                        "learn": [
                          0.0004728332831
                        ],
                        "iteration": 966,
                        "passed_time": 10271.50489,
                        "remaining_time": 350.5270543,
                        "test": [
                          0.002314286011
                        ]
                      },
                      {
                        "learn": [
                          0.0004721472604
                        ],
                        "iteration": 967,
                        "passed_time": 10281.85962,
                        "remaining_time": 339.8961858,
                        "test": [
                          0.00231410401
                        ]
                      },
                      {
                        "learn": [
                          0.0004713000083
                        ],
                        "iteration": 968,
                        "passed_time": 10292.22479,
                        "remaining_time": 329.2662214,
                        "test": [
                          0.002313855127
                        ]
                      },
                      {
                        "learn": [
                          0.0004707390532
                        ],
                        "iteration": 969,
                        "passed_time": 10302.51875,
                        "remaining_time": 318.6346005,
                        "test": [
                          0.002313747848
                        ]
                      },
                      {
                        "learn": [
                          0.0004701694372
                        ],
                        "iteration": 970,
                        "passed_time": 10312.84703,
                        "remaining_time": 308.0047001,
                        "test": [
                          0.002313594704
                        ]
                      },
                      {
                        "learn": [
                          0.0004695534025
                        ],
                        "iteration": 971,
                        "passed_time": 10323.21102,
                        "remaining_time": 297.3764492,
                        "test": [
                          0.002313306248
                        ]
                      },
                      {
                        "learn": [
                          0.0004689580956
                        ],
                        "iteration": 972,
                        "passed_time": 10333.54177,
                        "remaining_time": 286.747819,
                        "test": [
                          0.002313139687
                        ]
                      },
                      {
                        "learn": [
                          0.0004682234161
                        ],
                        "iteration": 973,
                        "passed_time": 10343.80625,
                        "remaining_time": 276.1180313,
                        "test": [
                          0.002312840503
                        ]
                      },
                      {
                        "learn": [
                          0.0004677519117
                        ],
                        "iteration": 974,
                        "passed_time": 10354.16527,
                        "remaining_time": 265.4914171,
                        "test": [
                          0.002312821585
                        ]
                      },
                      {
                        "learn": [
                          0.0004671835997
                        ],
                        "iteration": 975,
                        "passed_time": 10364.49459,
                        "remaining_time": 254.864621,
                        "test": [
                          0.002312755752
                        ]
                      },
                      {
                        "learn": [
                          0.0004665641979
                        ],
                        "iteration": 976,
                        "passed_time": 10374.83829,
                        "remaining_time": 244.2387725,
                        "test": [
                          0.002312620964
                        ]
                      },
                      {
                        "learn": [
                          0.0004659498954
                        ],
                        "iteration": 977,
                        "passed_time": 10385.18825,
                        "remaining_time": 233.6136417,
                        "test": [
                          0.002312205147
                        ]
                      },
                      {
                        "learn": [
                          0.0004652907702
                        ],
                        "iteration": 978,
                        "passed_time": 10396.20435,
                        "remaining_time": 223.0033619,
                        "test": [
                          0.002311864624
                        ]
                      },
                      {
                        "learn": [
                          0.0004644151221
                        ],
                        "iteration": 979,
                        "passed_time": 10406.47906,
                        "remaining_time": 212.3771237,
                        "test": [
                          0.002311379211
                        ]
                      },
                      {
                        "learn": [
                          0.0004638401732
                        ],
                        "iteration": 980,
                        "passed_time": 10416.82787,
                        "remaining_time": 201.7530372,
                        "test": [
                          0.002311170643
                        ]
                      },
                      {
                        "learn": [
                          0.0004632816315
                        ],
                        "iteration": 981,
                        "passed_time": 10427.17083,
                        "remaining_time": 191.1294041,
                        "test": [
                          0.002310887774
                        ]
                      },
                      {
                        "learn": [
                          0.0004626896333
                        ],
                        "iteration": 982,
                        "passed_time": 10437.4893,
                        "remaining_time": 180.5059186,
                        "test": [
                          0.002310778561
                        ]
                      },
                      {
                        "learn": [
                          0.0004620308779
                        ],
                        "iteration": 983,
                        "passed_time": 10447.81772,
                        "remaining_time": 169.8832149,
                        "test": [
                          0.002310583631
                        ]
                      },
                      {
                        "learn": [
                          0.0004613422277
                        ],
                        "iteration": 984,
                        "passed_time": 10458.13905,
                        "remaining_time": 159.2610008,
                        "test": [
                          0.002310293008
                        ]
                      },
                      {
                        "learn": [
                          0.0004604942555
                        ],
                        "iteration": 985,
                        "passed_time": 10468.41199,
                        "remaining_time": 148.6387098,
                        "test": [
                          0.00230995383
                        ]
                      },
                      {
                        "learn": [
                          0.0004599644213
                        ],
                        "iteration": 986,
                        "passed_time": 10484.57486,
                        "remaining_time": 138.0947043,
                        "test": [
                          0.002309789468
                        ]
                      },
                      {
                        "learn": [
                          0.0004594151828
                        ],
                        "iteration": 987,
                        "passed_time": 10496.5018,
                        "remaining_time": 127.4878761,
                        "test": [
                          0.002309531894
                        ]
                      },
                      {
                        "learn": [
                          0.0004587680272
                        ],
                        "iteration": 988,
                        "passed_time": 10506.78749,
                        "remaining_time": 116.8601237,
                        "test": [
                          0.002309126353
                        ]
                      },
                      {
                        "learn": [
                          0.0004580886802
                        ],
                        "iteration": 989,
                        "passed_time": 10517.1182,
                        "remaining_time": 106.2335171,
                        "test": [
                          0.00230884831
                        ]
                      },
                      {
                        "learn": [
                          0.0004574852184
                        ],
                        "iteration": 990,
                        "passed_time": 10527.5042,
                        "remaining_time": 95.60800985,
                        "test": [
                          0.002308562502
                        ]
                      },
                      {
                        "learn": [
                          0.0004568374789
                        ],
                        "iteration": 991,
                        "passed_time": 10537.94174,
                        "remaining_time": 84.98340113,
                        "test": [
                          0.002308399386
                        ]
                      },
                      {
                        "learn": [
                          0.0004561267386
                        ],
                        "iteration": 992,
                        "passed_time": 10548.21288,
                        "remaining_time": 74.35799613,
                        "test": [
                          0.002308037879
                        ]
                      },
                      {
                        "learn": [
                          0.0004555711162
                        ],
                        "iteration": 993,
                        "passed_time": 10558.58938,
                        "remaining_time": 63.73393993,
                        "test": [
                          0.00230787753
                        ]
                      },
                      {
                        "learn": [
                          0.000455025342
                        ],
                        "iteration": 994,
                        "passed_time": 10568.97693,
                        "remaining_time": 53.11043681,
                        "test": [
                          0.002307537947
                        ]
                      },
                      {
                        "learn": [
                          0.0004544026511
                        ],
                        "iteration": 995,
                        "passed_time": 10579.3398,
                        "remaining_time": 42.48730842,
                        "test": [
                          0.00230725171
                        ]
                      },
                      {
                        "learn": [
                          0.000453933599
                        ],
                        "iteration": 996,
                        "passed_time": 10589.69559,
                        "remaining_time": 31.8646808,
                        "test": [
                          0.002306965038
                        ]
                      },
                      {
                        "learn": [
                          0.0004533545825
                        ],
                        "iteration": 997,
                        "passed_time": 10600.10489,
                        "remaining_time": 21.24269516,
                        "test": [
                          0.002306861336
                        ]
                      },
                      {
                        "learn": [
                          0.000452828271
                        ],
                        "iteration": 998,
                        "passed_time": 10610.38901,
                        "remaining_time": 10.62101002,
                        "test": [
                          0.002306558854
                        ]
                      },
                      {
                        "learn": [
                          0.0004522220261
                        ],
                        "iteration": 999,
                        "passed_time": 10620.74652,
                        "remaining_time": 0,
                        "test": [
                          0.002306313788
                        ]
                      }
                    ],
                    "meta": {
                      "test_sets": [
                        "test"
                      ],
                      "test_metrics": [
                        {
                          "best_value": "Min",
                          "name": "CrossEntropy"
                        }
                      ],
                      "learn_metrics": [
                        {
                          "best_value": "Min",
                          "name": "CrossEntropy"
                        }
                      ],
                      "launch_mode": "Train",
                      "parameters": "",
                      "iteration_count": 1000,
                      "learn_sets": [
                        "learn"
                      ],
                      "name": "experiment"
                    }
                  }
                }
              }
            },
            "layout": "IPY_MODEL_c4496d60da994c73a7962d41623ccb12"
          }
        }
      }
    }
  },
  "cells": [
    {
      "cell_type": "code",
      "execution_count": 1,
      "metadata": {
        "id": "DD8qQG6JEkPu",
        "colab": {
          "base_uri": "https://localhost:8080/"
        },
        "outputId": "67d649de-a2ea-4338-839d-2e715f11249a"
      },
      "outputs": [
        {
          "output_type": "stream",
          "name": "stdout",
          "text": [
            "Collecting catboost\n",
            "  Downloading catboost-1.0.5-cp37-none-manylinux1_x86_64.whl (76.6 MB)\n",
            "\u001b[K     |████████████████████████████████| 76.6 MB 1.2 MB/s \n",
            "\u001b[?25hRequirement already satisfied: plotly in /usr/local/lib/python3.7/dist-packages (from catboost) (5.5.0)\n",
            "Requirement already satisfied: pandas>=0.24.0 in /usr/local/lib/python3.7/dist-packages (from catboost) (1.3.5)\n",
            "Requirement already satisfied: scipy in /usr/local/lib/python3.7/dist-packages (from catboost) (1.4.1)\n",
            "Requirement already satisfied: matplotlib in /usr/local/lib/python3.7/dist-packages (from catboost) (3.2.2)\n",
            "Requirement already satisfied: numpy>=1.16.0 in /usr/local/lib/python3.7/dist-packages (from catboost) (1.21.6)\n",
            "Requirement already satisfied: six in /usr/local/lib/python3.7/dist-packages (from catboost) (1.15.0)\n",
            "Requirement already satisfied: graphviz in /usr/local/lib/python3.7/dist-packages (from catboost) (0.10.1)\n",
            "Requirement already satisfied: python-dateutil>=2.7.3 in /usr/local/lib/python3.7/dist-packages (from pandas>=0.24.0->catboost) (2.8.2)\n",
            "Requirement already satisfied: pytz>=2017.3 in /usr/local/lib/python3.7/dist-packages (from pandas>=0.24.0->catboost) (2022.1)\n",
            "Requirement already satisfied: pyparsing!=2.0.4,!=2.1.2,!=2.1.6,>=2.0.1 in /usr/local/lib/python3.7/dist-packages (from matplotlib->catboost) (3.0.8)\n",
            "Requirement already satisfied: cycler>=0.10 in /usr/local/lib/python3.7/dist-packages (from matplotlib->catboost) (0.11.0)\n",
            "Requirement already satisfied: kiwisolver>=1.0.1 in /usr/local/lib/python3.7/dist-packages (from matplotlib->catboost) (1.4.2)\n",
            "Requirement already satisfied: typing-extensions in /usr/local/lib/python3.7/dist-packages (from kiwisolver>=1.0.1->matplotlib->catboost) (4.2.0)\n",
            "Requirement already satisfied: tenacity>=6.2.0 in /usr/local/lib/python3.7/dist-packages (from plotly->catboost) (8.0.1)\n",
            "Installing collected packages: catboost\n",
            "Successfully installed catboost-1.0.5\n"
          ]
        }
      ],
      "source": [
        "!pip install catboost"
      ]
    },
    {
      "cell_type": "markdown",
      "source": [
        "Предсказание подозрительных операций по банковским картам. Датасет https://www.kaggle.com/datasets/mlg-ulb/creditcardfraud?resource=download "
      ],
      "metadata": {
        "id": "pCV0D_XlEnCz"
      }
    },
    {
      "cell_type": "code",
      "source": [
        "import numpy as np\n",
        "import pandas as pd\n",
        "from sklearn.model_selection import train_test_split   #to divide dataset in train and test\n",
        "#Import scikit-learn metrics module for accuracy calculation\n",
        "from catboost import CatBoostClassifier\n",
        "from sklearn import metrics\n",
        "\n",
        "\n",
        "RS = 42  #we will fix random state\n"
      ],
      "metadata": {
        "id": "aSnnR44_EmLR"
      },
      "execution_count": 2,
      "outputs": []
    },
    {
      "cell_type": "code",
      "source": [
        "# подключаем гугл диск на котором данные\n",
        "from google.colab import drive\n",
        "drive.mount ('/content/gdrive', force_remount = True)"
      ],
      "metadata": {
        "colab": {
          "base_uri": "https://localhost:8080/"
        },
        "id": "AY--Ut3WE7DQ",
        "outputId": "a9ba9100-5cd9-414c-d299-79c2504d606f"
      },
      "execution_count": 3,
      "outputs": [
        {
          "output_type": "stream",
          "name": "stdout",
          "text": [
            "Mounted at /content/gdrive\n"
          ]
        }
      ]
    },
    {
      "cell_type": "code",
      "source": [
        "!cp /content/gdrive/'My Drive'/2022projects/Hack_Rostov_may13_15/archive.zip ."
      ],
      "metadata": {
        "id": "GaMN2uS9GFPk"
      },
      "execution_count": 4,
      "outputs": []
    },
    {
      "cell_type": "code",
      "source": [
        "!ls"
      ],
      "metadata": {
        "colab": {
          "base_uri": "https://localhost:8080/"
        },
        "id": "Hm3wdqvsICP0",
        "outputId": "515db410-54d0-4138-a0da-2c7ae5c8e129"
      },
      "execution_count": 7,
      "outputs": [
        {
          "output_type": "stream",
          "name": "stdout",
          "text": [
            "archive.zip  creditcard.csv  gdrive  sample_data\n"
          ]
        }
      ]
    },
    {
      "cell_type": "code",
      "source": [
        "!unzip archive.zip"
      ],
      "metadata": {
        "colab": {
          "base_uri": "https://localhost:8080/"
        },
        "id": "bBIJ0-wTIEGa",
        "outputId": "6a6da14f-7870-41be-ae41-3cc4e957bfae"
      },
      "execution_count": 6,
      "outputs": [
        {
          "output_type": "stream",
          "name": "stdout",
          "text": [
            "Archive:  archive.zip\n",
            "  inflating: creditcard.csv          \n"
          ]
        }
      ]
    },
    {
      "cell_type": "code",
      "source": [
        "data_df = pd.read_csv('creditcard.csv')\n",
        "data_df.head(2)\n"
      ],
      "metadata": {
        "colab": {
          "base_uri": "https://localhost:8080/",
          "height": 206
        },
        "id": "4olC0Y_kIObn",
        "outputId": "c6e128f3-37c1-4eea-cb93-616171c22012"
      },
      "execution_count": 8,
      "outputs": [
        {
          "output_type": "execute_result",
          "data": {
            "text/plain": [
              "   Time        V1        V2        V3        V4        V5        V6        V7  \\\n",
              "0   0.0 -1.359807 -0.072781  2.536347  1.378155 -0.338321  0.462388  0.239599   \n",
              "1   0.0  1.191857  0.266151  0.166480  0.448154  0.060018 -0.082361 -0.078803   \n",
              "\n",
              "         V8        V9  ...       V21       V22       V23       V24       V25  \\\n",
              "0  0.098698  0.363787  ... -0.018307  0.277838 -0.110474  0.066928  0.128539   \n",
              "1  0.085102 -0.255425  ... -0.225775 -0.638672  0.101288 -0.339846  0.167170   \n",
              "\n",
              "        V26       V27       V28  Amount  Class  \n",
              "0 -0.189115  0.133558 -0.021053  149.62      0  \n",
              "1  0.125895 -0.008983  0.014724    2.69      0  \n",
              "\n",
              "[2 rows x 31 columns]"
            ],
            "text/html": [
              "\n",
              "  <div id=\"df-6851c9ec-9caa-4d7b-9856-f87cbcc03032\">\n",
              "    <div class=\"colab-df-container\">\n",
              "      <div>\n",
              "<style scoped>\n",
              "    .dataframe tbody tr th:only-of-type {\n",
              "        vertical-align: middle;\n",
              "    }\n",
              "\n",
              "    .dataframe tbody tr th {\n",
              "        vertical-align: top;\n",
              "    }\n",
              "\n",
              "    .dataframe thead th {\n",
              "        text-align: right;\n",
              "    }\n",
              "</style>\n",
              "<table border=\"1\" class=\"dataframe\">\n",
              "  <thead>\n",
              "    <tr style=\"text-align: right;\">\n",
              "      <th></th>\n",
              "      <th>Time</th>\n",
              "      <th>V1</th>\n",
              "      <th>V2</th>\n",
              "      <th>V3</th>\n",
              "      <th>V4</th>\n",
              "      <th>V5</th>\n",
              "      <th>V6</th>\n",
              "      <th>V7</th>\n",
              "      <th>V8</th>\n",
              "      <th>V9</th>\n",
              "      <th>...</th>\n",
              "      <th>V21</th>\n",
              "      <th>V22</th>\n",
              "      <th>V23</th>\n",
              "      <th>V24</th>\n",
              "      <th>V25</th>\n",
              "      <th>V26</th>\n",
              "      <th>V27</th>\n",
              "      <th>V28</th>\n",
              "      <th>Amount</th>\n",
              "      <th>Class</th>\n",
              "    </tr>\n",
              "  </thead>\n",
              "  <tbody>\n",
              "    <tr>\n",
              "      <th>0</th>\n",
              "      <td>0.0</td>\n",
              "      <td>-1.359807</td>\n",
              "      <td>-0.072781</td>\n",
              "      <td>2.536347</td>\n",
              "      <td>1.378155</td>\n",
              "      <td>-0.338321</td>\n",
              "      <td>0.462388</td>\n",
              "      <td>0.239599</td>\n",
              "      <td>0.098698</td>\n",
              "      <td>0.363787</td>\n",
              "      <td>...</td>\n",
              "      <td>-0.018307</td>\n",
              "      <td>0.277838</td>\n",
              "      <td>-0.110474</td>\n",
              "      <td>0.066928</td>\n",
              "      <td>0.128539</td>\n",
              "      <td>-0.189115</td>\n",
              "      <td>0.133558</td>\n",
              "      <td>-0.021053</td>\n",
              "      <td>149.62</td>\n",
              "      <td>0</td>\n",
              "    </tr>\n",
              "    <tr>\n",
              "      <th>1</th>\n",
              "      <td>0.0</td>\n",
              "      <td>1.191857</td>\n",
              "      <td>0.266151</td>\n",
              "      <td>0.166480</td>\n",
              "      <td>0.448154</td>\n",
              "      <td>0.060018</td>\n",
              "      <td>-0.082361</td>\n",
              "      <td>-0.078803</td>\n",
              "      <td>0.085102</td>\n",
              "      <td>-0.255425</td>\n",
              "      <td>...</td>\n",
              "      <td>-0.225775</td>\n",
              "      <td>-0.638672</td>\n",
              "      <td>0.101288</td>\n",
              "      <td>-0.339846</td>\n",
              "      <td>0.167170</td>\n",
              "      <td>0.125895</td>\n",
              "      <td>-0.008983</td>\n",
              "      <td>0.014724</td>\n",
              "      <td>2.69</td>\n",
              "      <td>0</td>\n",
              "    </tr>\n",
              "  </tbody>\n",
              "</table>\n",
              "<p>2 rows × 31 columns</p>\n",
              "</div>\n",
              "      <button class=\"colab-df-convert\" onclick=\"convertToInteractive('df-6851c9ec-9caa-4d7b-9856-f87cbcc03032')\"\n",
              "              title=\"Convert this dataframe to an interactive table.\"\n",
              "              style=\"display:none;\">\n",
              "        \n",
              "  <svg xmlns=\"http://www.w3.org/2000/svg\" height=\"24px\"viewBox=\"0 0 24 24\"\n",
              "       width=\"24px\">\n",
              "    <path d=\"M0 0h24v24H0V0z\" fill=\"none\"/>\n",
              "    <path d=\"M18.56 5.44l.94 2.06.94-2.06 2.06-.94-2.06-.94-.94-2.06-.94 2.06-2.06.94zm-11 1L8.5 8.5l.94-2.06 2.06-.94-2.06-.94L8.5 2.5l-.94 2.06-2.06.94zm10 10l.94 2.06.94-2.06 2.06-.94-2.06-.94-.94-2.06-.94 2.06-2.06.94z\"/><path d=\"M17.41 7.96l-1.37-1.37c-.4-.4-.92-.59-1.43-.59-.52 0-1.04.2-1.43.59L10.3 9.45l-7.72 7.72c-.78.78-.78 2.05 0 2.83L4 21.41c.39.39.9.59 1.41.59.51 0 1.02-.2 1.41-.59l7.78-7.78 2.81-2.81c.8-.78.8-2.07 0-2.86zM5.41 20L4 18.59l7.72-7.72 1.47 1.35L5.41 20z\"/>\n",
              "  </svg>\n",
              "      </button>\n",
              "      \n",
              "  <style>\n",
              "    .colab-df-container {\n",
              "      display:flex;\n",
              "      flex-wrap:wrap;\n",
              "      gap: 12px;\n",
              "    }\n",
              "\n",
              "    .colab-df-convert {\n",
              "      background-color: #E8F0FE;\n",
              "      border: none;\n",
              "      border-radius: 50%;\n",
              "      cursor: pointer;\n",
              "      display: none;\n",
              "      fill: #1967D2;\n",
              "      height: 32px;\n",
              "      padding: 0 0 0 0;\n",
              "      width: 32px;\n",
              "    }\n",
              "\n",
              "    .colab-df-convert:hover {\n",
              "      background-color: #E2EBFA;\n",
              "      box-shadow: 0px 1px 2px rgba(60, 64, 67, 0.3), 0px 1px 3px 1px rgba(60, 64, 67, 0.15);\n",
              "      fill: #174EA6;\n",
              "    }\n",
              "\n",
              "    [theme=dark] .colab-df-convert {\n",
              "      background-color: #3B4455;\n",
              "      fill: #D2E3FC;\n",
              "    }\n",
              "\n",
              "    [theme=dark] .colab-df-convert:hover {\n",
              "      background-color: #434B5C;\n",
              "      box-shadow: 0px 1px 3px 1px rgba(0, 0, 0, 0.15);\n",
              "      filter: drop-shadow(0px 1px 2px rgba(0, 0, 0, 0.3));\n",
              "      fill: #FFFFFF;\n",
              "    }\n",
              "  </style>\n",
              "\n",
              "      <script>\n",
              "        const buttonEl =\n",
              "          document.querySelector('#df-6851c9ec-9caa-4d7b-9856-f87cbcc03032 button.colab-df-convert');\n",
              "        buttonEl.style.display =\n",
              "          google.colab.kernel.accessAllowed ? 'block' : 'none';\n",
              "\n",
              "        async function convertToInteractive(key) {\n",
              "          const element = document.querySelector('#df-6851c9ec-9caa-4d7b-9856-f87cbcc03032');\n",
              "          const dataTable =\n",
              "            await google.colab.kernel.invokeFunction('convertToInteractive',\n",
              "                                                     [key], {});\n",
              "          if (!dataTable) return;\n",
              "\n",
              "          const docLinkHtml = 'Like what you see? Visit the ' +\n",
              "            '<a target=\"_blank\" href=https://colab.research.google.com/notebooks/data_table.ipynb>data table notebook</a>'\n",
              "            + ' to learn more about interactive tables.';\n",
              "          element.innerHTML = '';\n",
              "          dataTable['output_type'] = 'display_data';\n",
              "          await google.colab.output.renderOutput(dataTable, element);\n",
              "          const docLink = document.createElement('div');\n",
              "          docLink.innerHTML = docLinkHtml;\n",
              "          element.appendChild(docLink);\n",
              "        }\n",
              "      </script>\n",
              "    </div>\n",
              "  </div>\n",
              "  "
            ]
          },
          "metadata": {},
          "execution_count": 8
        }
      ]
    },
    {
      "cell_type": "code",
      "source": [
        "data_df.describe().T"
      ],
      "metadata": {
        "id": "vdm95vNkzVT3",
        "colab": {
          "base_uri": "https://localhost:8080/",
          "height": 1000
        },
        "outputId": "adbfb554-be24-4b50-f597-6930bc4d77aa"
      },
      "execution_count": 9,
      "outputs": [
        {
          "output_type": "execute_result",
          "data": {
            "text/plain": [
              "           count          mean           std         min           25%  \\\n",
              "Time    284807.0  9.481386e+04  47488.145955    0.000000  54201.500000   \n",
              "V1      284807.0  3.918649e-15      1.958696  -56.407510     -0.920373   \n",
              "V2      284807.0  5.682686e-16      1.651309  -72.715728     -0.598550   \n",
              "V3      284807.0 -8.761736e-15      1.516255  -48.325589     -0.890365   \n",
              "V4      284807.0  2.811118e-15      1.415869   -5.683171     -0.848640   \n",
              "V5      284807.0 -1.552103e-15      1.380247 -113.743307     -0.691597   \n",
              "V6      284807.0  2.040130e-15      1.332271  -26.160506     -0.768296   \n",
              "V7      284807.0 -1.698953e-15      1.237094  -43.557242     -0.554076   \n",
              "V8      284807.0 -1.893285e-16      1.194353  -73.216718     -0.208630   \n",
              "V9      284807.0 -3.147640e-15      1.098632  -13.434066     -0.643098   \n",
              "V10     284807.0  1.772925e-15      1.088850  -24.588262     -0.535426   \n",
              "V11     284807.0  9.289524e-16      1.020713   -4.797473     -0.762494   \n",
              "V12     284807.0 -1.803266e-15      0.999201  -18.683715     -0.405571   \n",
              "V13     284807.0  1.674888e-15      0.995274   -5.791881     -0.648539   \n",
              "V14     284807.0  1.475621e-15      0.958596  -19.214325     -0.425574   \n",
              "V15     284807.0  3.501098e-15      0.915316   -4.498945     -0.582884   \n",
              "V16     284807.0  1.392460e-15      0.876253  -14.129855     -0.468037   \n",
              "V17     284807.0 -7.466538e-16      0.849337  -25.162799     -0.483748   \n",
              "V18     284807.0  4.258754e-16      0.838176   -9.498746     -0.498850   \n",
              "V19     284807.0  9.019919e-16      0.814041   -7.213527     -0.456299   \n",
              "V20     284807.0  5.126845e-16      0.770925  -54.497720     -0.211721   \n",
              "V21     284807.0  1.473120e-16      0.734524  -34.830382     -0.228395   \n",
              "V22     284807.0  8.042109e-16      0.725702  -10.933144     -0.542350   \n",
              "V23     284807.0  5.282512e-16      0.624460  -44.807735     -0.161846   \n",
              "V24     284807.0  4.456271e-15      0.605647   -2.836627     -0.354586   \n",
              "V25     284807.0  1.426896e-15      0.521278  -10.295397     -0.317145   \n",
              "V26     284807.0  1.701640e-15      0.482227   -2.604551     -0.326984   \n",
              "V27     284807.0 -3.662252e-16      0.403632  -22.565679     -0.070840   \n",
              "V28     284807.0 -1.217809e-16      0.330083  -15.430084     -0.052960   \n",
              "Amount  284807.0  8.834962e+01    250.120109    0.000000      5.600000   \n",
              "Class   284807.0  1.727486e-03      0.041527    0.000000      0.000000   \n",
              "\n",
              "                 50%            75%            max  \n",
              "Time    84692.000000  139320.500000  172792.000000  \n",
              "V1          0.018109       1.315642       2.454930  \n",
              "V2          0.065486       0.803724      22.057729  \n",
              "V3          0.179846       1.027196       9.382558  \n",
              "V4         -0.019847       0.743341      16.875344  \n",
              "V5         -0.054336       0.611926      34.801666  \n",
              "V6         -0.274187       0.398565      73.301626  \n",
              "V7          0.040103       0.570436     120.589494  \n",
              "V8          0.022358       0.327346      20.007208  \n",
              "V9         -0.051429       0.597139      15.594995  \n",
              "V10        -0.092917       0.453923      23.745136  \n",
              "V11        -0.032757       0.739593      12.018913  \n",
              "V12         0.140033       0.618238       7.848392  \n",
              "V13        -0.013568       0.662505       7.126883  \n",
              "V14         0.050601       0.493150      10.526766  \n",
              "V15         0.048072       0.648821       8.877742  \n",
              "V16         0.066413       0.523296      17.315112  \n",
              "V17        -0.065676       0.399675       9.253526  \n",
              "V18        -0.003636       0.500807       5.041069  \n",
              "V19         0.003735       0.458949       5.591971  \n",
              "V20        -0.062481       0.133041      39.420904  \n",
              "V21        -0.029450       0.186377      27.202839  \n",
              "V22         0.006782       0.528554      10.503090  \n",
              "V23        -0.011193       0.147642      22.528412  \n",
              "V24         0.040976       0.439527       4.584549  \n",
              "V25         0.016594       0.350716       7.519589  \n",
              "V26        -0.052139       0.240952       3.517346  \n",
              "V27         0.001342       0.091045      31.612198  \n",
              "V28         0.011244       0.078280      33.847808  \n",
              "Amount     22.000000      77.165000   25691.160000  \n",
              "Class       0.000000       0.000000       1.000000  "
            ],
            "text/html": [
              "\n",
              "  <div id=\"df-c7e28929-d266-4981-ab69-df78f7981d98\">\n",
              "    <div class=\"colab-df-container\">\n",
              "      <div>\n",
              "<style scoped>\n",
              "    .dataframe tbody tr th:only-of-type {\n",
              "        vertical-align: middle;\n",
              "    }\n",
              "\n",
              "    .dataframe tbody tr th {\n",
              "        vertical-align: top;\n",
              "    }\n",
              "\n",
              "    .dataframe thead th {\n",
              "        text-align: right;\n",
              "    }\n",
              "</style>\n",
              "<table border=\"1\" class=\"dataframe\">\n",
              "  <thead>\n",
              "    <tr style=\"text-align: right;\">\n",
              "      <th></th>\n",
              "      <th>count</th>\n",
              "      <th>mean</th>\n",
              "      <th>std</th>\n",
              "      <th>min</th>\n",
              "      <th>25%</th>\n",
              "      <th>50%</th>\n",
              "      <th>75%</th>\n",
              "      <th>max</th>\n",
              "    </tr>\n",
              "  </thead>\n",
              "  <tbody>\n",
              "    <tr>\n",
              "      <th>Time</th>\n",
              "      <td>284807.0</td>\n",
              "      <td>9.481386e+04</td>\n",
              "      <td>47488.145955</td>\n",
              "      <td>0.000000</td>\n",
              "      <td>54201.500000</td>\n",
              "      <td>84692.000000</td>\n",
              "      <td>139320.500000</td>\n",
              "      <td>172792.000000</td>\n",
              "    </tr>\n",
              "    <tr>\n",
              "      <th>V1</th>\n",
              "      <td>284807.0</td>\n",
              "      <td>3.918649e-15</td>\n",
              "      <td>1.958696</td>\n",
              "      <td>-56.407510</td>\n",
              "      <td>-0.920373</td>\n",
              "      <td>0.018109</td>\n",
              "      <td>1.315642</td>\n",
              "      <td>2.454930</td>\n",
              "    </tr>\n",
              "    <tr>\n",
              "      <th>V2</th>\n",
              "      <td>284807.0</td>\n",
              "      <td>5.682686e-16</td>\n",
              "      <td>1.651309</td>\n",
              "      <td>-72.715728</td>\n",
              "      <td>-0.598550</td>\n",
              "      <td>0.065486</td>\n",
              "      <td>0.803724</td>\n",
              "      <td>22.057729</td>\n",
              "    </tr>\n",
              "    <tr>\n",
              "      <th>V3</th>\n",
              "      <td>284807.0</td>\n",
              "      <td>-8.761736e-15</td>\n",
              "      <td>1.516255</td>\n",
              "      <td>-48.325589</td>\n",
              "      <td>-0.890365</td>\n",
              "      <td>0.179846</td>\n",
              "      <td>1.027196</td>\n",
              "      <td>9.382558</td>\n",
              "    </tr>\n",
              "    <tr>\n",
              "      <th>V4</th>\n",
              "      <td>284807.0</td>\n",
              "      <td>2.811118e-15</td>\n",
              "      <td>1.415869</td>\n",
              "      <td>-5.683171</td>\n",
              "      <td>-0.848640</td>\n",
              "      <td>-0.019847</td>\n",
              "      <td>0.743341</td>\n",
              "      <td>16.875344</td>\n",
              "    </tr>\n",
              "    <tr>\n",
              "      <th>V5</th>\n",
              "      <td>284807.0</td>\n",
              "      <td>-1.552103e-15</td>\n",
              "      <td>1.380247</td>\n",
              "      <td>-113.743307</td>\n",
              "      <td>-0.691597</td>\n",
              "      <td>-0.054336</td>\n",
              "      <td>0.611926</td>\n",
              "      <td>34.801666</td>\n",
              "    </tr>\n",
              "    <tr>\n",
              "      <th>V6</th>\n",
              "      <td>284807.0</td>\n",
              "      <td>2.040130e-15</td>\n",
              "      <td>1.332271</td>\n",
              "      <td>-26.160506</td>\n",
              "      <td>-0.768296</td>\n",
              "      <td>-0.274187</td>\n",
              "      <td>0.398565</td>\n",
              "      <td>73.301626</td>\n",
              "    </tr>\n",
              "    <tr>\n",
              "      <th>V7</th>\n",
              "      <td>284807.0</td>\n",
              "      <td>-1.698953e-15</td>\n",
              "      <td>1.237094</td>\n",
              "      <td>-43.557242</td>\n",
              "      <td>-0.554076</td>\n",
              "      <td>0.040103</td>\n",
              "      <td>0.570436</td>\n",
              "      <td>120.589494</td>\n",
              "    </tr>\n",
              "    <tr>\n",
              "      <th>V8</th>\n",
              "      <td>284807.0</td>\n",
              "      <td>-1.893285e-16</td>\n",
              "      <td>1.194353</td>\n",
              "      <td>-73.216718</td>\n",
              "      <td>-0.208630</td>\n",
              "      <td>0.022358</td>\n",
              "      <td>0.327346</td>\n",
              "      <td>20.007208</td>\n",
              "    </tr>\n",
              "    <tr>\n",
              "      <th>V9</th>\n",
              "      <td>284807.0</td>\n",
              "      <td>-3.147640e-15</td>\n",
              "      <td>1.098632</td>\n",
              "      <td>-13.434066</td>\n",
              "      <td>-0.643098</td>\n",
              "      <td>-0.051429</td>\n",
              "      <td>0.597139</td>\n",
              "      <td>15.594995</td>\n",
              "    </tr>\n",
              "    <tr>\n",
              "      <th>V10</th>\n",
              "      <td>284807.0</td>\n",
              "      <td>1.772925e-15</td>\n",
              "      <td>1.088850</td>\n",
              "      <td>-24.588262</td>\n",
              "      <td>-0.535426</td>\n",
              "      <td>-0.092917</td>\n",
              "      <td>0.453923</td>\n",
              "      <td>23.745136</td>\n",
              "    </tr>\n",
              "    <tr>\n",
              "      <th>V11</th>\n",
              "      <td>284807.0</td>\n",
              "      <td>9.289524e-16</td>\n",
              "      <td>1.020713</td>\n",
              "      <td>-4.797473</td>\n",
              "      <td>-0.762494</td>\n",
              "      <td>-0.032757</td>\n",
              "      <td>0.739593</td>\n",
              "      <td>12.018913</td>\n",
              "    </tr>\n",
              "    <tr>\n",
              "      <th>V12</th>\n",
              "      <td>284807.0</td>\n",
              "      <td>-1.803266e-15</td>\n",
              "      <td>0.999201</td>\n",
              "      <td>-18.683715</td>\n",
              "      <td>-0.405571</td>\n",
              "      <td>0.140033</td>\n",
              "      <td>0.618238</td>\n",
              "      <td>7.848392</td>\n",
              "    </tr>\n",
              "    <tr>\n",
              "      <th>V13</th>\n",
              "      <td>284807.0</td>\n",
              "      <td>1.674888e-15</td>\n",
              "      <td>0.995274</td>\n",
              "      <td>-5.791881</td>\n",
              "      <td>-0.648539</td>\n",
              "      <td>-0.013568</td>\n",
              "      <td>0.662505</td>\n",
              "      <td>7.126883</td>\n",
              "    </tr>\n",
              "    <tr>\n",
              "      <th>V14</th>\n",
              "      <td>284807.0</td>\n",
              "      <td>1.475621e-15</td>\n",
              "      <td>0.958596</td>\n",
              "      <td>-19.214325</td>\n",
              "      <td>-0.425574</td>\n",
              "      <td>0.050601</td>\n",
              "      <td>0.493150</td>\n",
              "      <td>10.526766</td>\n",
              "    </tr>\n",
              "    <tr>\n",
              "      <th>V15</th>\n",
              "      <td>284807.0</td>\n",
              "      <td>3.501098e-15</td>\n",
              "      <td>0.915316</td>\n",
              "      <td>-4.498945</td>\n",
              "      <td>-0.582884</td>\n",
              "      <td>0.048072</td>\n",
              "      <td>0.648821</td>\n",
              "      <td>8.877742</td>\n",
              "    </tr>\n",
              "    <tr>\n",
              "      <th>V16</th>\n",
              "      <td>284807.0</td>\n",
              "      <td>1.392460e-15</td>\n",
              "      <td>0.876253</td>\n",
              "      <td>-14.129855</td>\n",
              "      <td>-0.468037</td>\n",
              "      <td>0.066413</td>\n",
              "      <td>0.523296</td>\n",
              "      <td>17.315112</td>\n",
              "    </tr>\n",
              "    <tr>\n",
              "      <th>V17</th>\n",
              "      <td>284807.0</td>\n",
              "      <td>-7.466538e-16</td>\n",
              "      <td>0.849337</td>\n",
              "      <td>-25.162799</td>\n",
              "      <td>-0.483748</td>\n",
              "      <td>-0.065676</td>\n",
              "      <td>0.399675</td>\n",
              "      <td>9.253526</td>\n",
              "    </tr>\n",
              "    <tr>\n",
              "      <th>V18</th>\n",
              "      <td>284807.0</td>\n",
              "      <td>4.258754e-16</td>\n",
              "      <td>0.838176</td>\n",
              "      <td>-9.498746</td>\n",
              "      <td>-0.498850</td>\n",
              "      <td>-0.003636</td>\n",
              "      <td>0.500807</td>\n",
              "      <td>5.041069</td>\n",
              "    </tr>\n",
              "    <tr>\n",
              "      <th>V19</th>\n",
              "      <td>284807.0</td>\n",
              "      <td>9.019919e-16</td>\n",
              "      <td>0.814041</td>\n",
              "      <td>-7.213527</td>\n",
              "      <td>-0.456299</td>\n",
              "      <td>0.003735</td>\n",
              "      <td>0.458949</td>\n",
              "      <td>5.591971</td>\n",
              "    </tr>\n",
              "    <tr>\n",
              "      <th>V20</th>\n",
              "      <td>284807.0</td>\n",
              "      <td>5.126845e-16</td>\n",
              "      <td>0.770925</td>\n",
              "      <td>-54.497720</td>\n",
              "      <td>-0.211721</td>\n",
              "      <td>-0.062481</td>\n",
              "      <td>0.133041</td>\n",
              "      <td>39.420904</td>\n",
              "    </tr>\n",
              "    <tr>\n",
              "      <th>V21</th>\n",
              "      <td>284807.0</td>\n",
              "      <td>1.473120e-16</td>\n",
              "      <td>0.734524</td>\n",
              "      <td>-34.830382</td>\n",
              "      <td>-0.228395</td>\n",
              "      <td>-0.029450</td>\n",
              "      <td>0.186377</td>\n",
              "      <td>27.202839</td>\n",
              "    </tr>\n",
              "    <tr>\n",
              "      <th>V22</th>\n",
              "      <td>284807.0</td>\n",
              "      <td>8.042109e-16</td>\n",
              "      <td>0.725702</td>\n",
              "      <td>-10.933144</td>\n",
              "      <td>-0.542350</td>\n",
              "      <td>0.006782</td>\n",
              "      <td>0.528554</td>\n",
              "      <td>10.503090</td>\n",
              "    </tr>\n",
              "    <tr>\n",
              "      <th>V23</th>\n",
              "      <td>284807.0</td>\n",
              "      <td>5.282512e-16</td>\n",
              "      <td>0.624460</td>\n",
              "      <td>-44.807735</td>\n",
              "      <td>-0.161846</td>\n",
              "      <td>-0.011193</td>\n",
              "      <td>0.147642</td>\n",
              "      <td>22.528412</td>\n",
              "    </tr>\n",
              "    <tr>\n",
              "      <th>V24</th>\n",
              "      <td>284807.0</td>\n",
              "      <td>4.456271e-15</td>\n",
              "      <td>0.605647</td>\n",
              "      <td>-2.836627</td>\n",
              "      <td>-0.354586</td>\n",
              "      <td>0.040976</td>\n",
              "      <td>0.439527</td>\n",
              "      <td>4.584549</td>\n",
              "    </tr>\n",
              "    <tr>\n",
              "      <th>V25</th>\n",
              "      <td>284807.0</td>\n",
              "      <td>1.426896e-15</td>\n",
              "      <td>0.521278</td>\n",
              "      <td>-10.295397</td>\n",
              "      <td>-0.317145</td>\n",
              "      <td>0.016594</td>\n",
              "      <td>0.350716</td>\n",
              "      <td>7.519589</td>\n",
              "    </tr>\n",
              "    <tr>\n",
              "      <th>V26</th>\n",
              "      <td>284807.0</td>\n",
              "      <td>1.701640e-15</td>\n",
              "      <td>0.482227</td>\n",
              "      <td>-2.604551</td>\n",
              "      <td>-0.326984</td>\n",
              "      <td>-0.052139</td>\n",
              "      <td>0.240952</td>\n",
              "      <td>3.517346</td>\n",
              "    </tr>\n",
              "    <tr>\n",
              "      <th>V27</th>\n",
              "      <td>284807.0</td>\n",
              "      <td>-3.662252e-16</td>\n",
              "      <td>0.403632</td>\n",
              "      <td>-22.565679</td>\n",
              "      <td>-0.070840</td>\n",
              "      <td>0.001342</td>\n",
              "      <td>0.091045</td>\n",
              "      <td>31.612198</td>\n",
              "    </tr>\n",
              "    <tr>\n",
              "      <th>V28</th>\n",
              "      <td>284807.0</td>\n",
              "      <td>-1.217809e-16</td>\n",
              "      <td>0.330083</td>\n",
              "      <td>-15.430084</td>\n",
              "      <td>-0.052960</td>\n",
              "      <td>0.011244</td>\n",
              "      <td>0.078280</td>\n",
              "      <td>33.847808</td>\n",
              "    </tr>\n",
              "    <tr>\n",
              "      <th>Amount</th>\n",
              "      <td>284807.0</td>\n",
              "      <td>8.834962e+01</td>\n",
              "      <td>250.120109</td>\n",
              "      <td>0.000000</td>\n",
              "      <td>5.600000</td>\n",
              "      <td>22.000000</td>\n",
              "      <td>77.165000</td>\n",
              "      <td>25691.160000</td>\n",
              "    </tr>\n",
              "    <tr>\n",
              "      <th>Class</th>\n",
              "      <td>284807.0</td>\n",
              "      <td>1.727486e-03</td>\n",
              "      <td>0.041527</td>\n",
              "      <td>0.000000</td>\n",
              "      <td>0.000000</td>\n",
              "      <td>0.000000</td>\n",
              "      <td>0.000000</td>\n",
              "      <td>1.000000</td>\n",
              "    </tr>\n",
              "  </tbody>\n",
              "</table>\n",
              "</div>\n",
              "      <button class=\"colab-df-convert\" onclick=\"convertToInteractive('df-c7e28929-d266-4981-ab69-df78f7981d98')\"\n",
              "              title=\"Convert this dataframe to an interactive table.\"\n",
              "              style=\"display:none;\">\n",
              "        \n",
              "  <svg xmlns=\"http://www.w3.org/2000/svg\" height=\"24px\"viewBox=\"0 0 24 24\"\n",
              "       width=\"24px\">\n",
              "    <path d=\"M0 0h24v24H0V0z\" fill=\"none\"/>\n",
              "    <path d=\"M18.56 5.44l.94 2.06.94-2.06 2.06-.94-2.06-.94-.94-2.06-.94 2.06-2.06.94zm-11 1L8.5 8.5l.94-2.06 2.06-.94-2.06-.94L8.5 2.5l-.94 2.06-2.06.94zm10 10l.94 2.06.94-2.06 2.06-.94-2.06-.94-.94-2.06-.94 2.06-2.06.94z\"/><path d=\"M17.41 7.96l-1.37-1.37c-.4-.4-.92-.59-1.43-.59-.52 0-1.04.2-1.43.59L10.3 9.45l-7.72 7.72c-.78.78-.78 2.05 0 2.83L4 21.41c.39.39.9.59 1.41.59.51 0 1.02-.2 1.41-.59l7.78-7.78 2.81-2.81c.8-.78.8-2.07 0-2.86zM5.41 20L4 18.59l7.72-7.72 1.47 1.35L5.41 20z\"/>\n",
              "  </svg>\n",
              "      </button>\n",
              "      \n",
              "  <style>\n",
              "    .colab-df-container {\n",
              "      display:flex;\n",
              "      flex-wrap:wrap;\n",
              "      gap: 12px;\n",
              "    }\n",
              "\n",
              "    .colab-df-convert {\n",
              "      background-color: #E8F0FE;\n",
              "      border: none;\n",
              "      border-radius: 50%;\n",
              "      cursor: pointer;\n",
              "      display: none;\n",
              "      fill: #1967D2;\n",
              "      height: 32px;\n",
              "      padding: 0 0 0 0;\n",
              "      width: 32px;\n",
              "    }\n",
              "\n",
              "    .colab-df-convert:hover {\n",
              "      background-color: #E2EBFA;\n",
              "      box-shadow: 0px 1px 2px rgba(60, 64, 67, 0.3), 0px 1px 3px 1px rgba(60, 64, 67, 0.15);\n",
              "      fill: #174EA6;\n",
              "    }\n",
              "\n",
              "    [theme=dark] .colab-df-convert {\n",
              "      background-color: #3B4455;\n",
              "      fill: #D2E3FC;\n",
              "    }\n",
              "\n",
              "    [theme=dark] .colab-df-convert:hover {\n",
              "      background-color: #434B5C;\n",
              "      box-shadow: 0px 1px 3px 1px rgba(0, 0, 0, 0.15);\n",
              "      filter: drop-shadow(0px 1px 2px rgba(0, 0, 0, 0.3));\n",
              "      fill: #FFFFFF;\n",
              "    }\n",
              "  </style>\n",
              "\n",
              "      <script>\n",
              "        const buttonEl =\n",
              "          document.querySelector('#df-c7e28929-d266-4981-ab69-df78f7981d98 button.colab-df-convert');\n",
              "        buttonEl.style.display =\n",
              "          google.colab.kernel.accessAllowed ? 'block' : 'none';\n",
              "\n",
              "        async function convertToInteractive(key) {\n",
              "          const element = document.querySelector('#df-c7e28929-d266-4981-ab69-df78f7981d98');\n",
              "          const dataTable =\n",
              "            await google.colab.kernel.invokeFunction('convertToInteractive',\n",
              "                                                     [key], {});\n",
              "          if (!dataTable) return;\n",
              "\n",
              "          const docLinkHtml = 'Like what you see? Visit the ' +\n",
              "            '<a target=\"_blank\" href=https://colab.research.google.com/notebooks/data_table.ipynb>data table notebook</a>'\n",
              "            + ' to learn more about interactive tables.';\n",
              "          element.innerHTML = '';\n",
              "          dataTable['output_type'] = 'display_data';\n",
              "          await google.colab.output.renderOutput(dataTable, element);\n",
              "          const docLink = document.createElement('div');\n",
              "          docLink.innerHTML = docLinkHtml;\n",
              "          element.appendChild(docLink);\n",
              "        }\n",
              "      </script>\n",
              "    </div>\n",
              "  </div>\n",
              "  "
            ]
          },
          "metadata": {},
          "execution_count": 9
        }
      ]
    },
    {
      "cell_type": "code",
      "source": [
        "data_df.shape"
      ],
      "metadata": {
        "colab": {
          "base_uri": "https://localhost:8080/"
        },
        "id": "2Os1ruYn2l-z",
        "outputId": "08074380-71e0-437f-de27-e82df05de9ab"
      },
      "execution_count": 10,
      "outputs": [
        {
          "output_type": "execute_result",
          "data": {
            "text/plain": [
              "(284807, 31)"
            ]
          },
          "metadata": {},
          "execution_count": 10
        }
      ]
    },
    {
      "cell_type": "code",
      "source": [
        "train_df = data_df[:280_000]\n",
        "test_df = data_df[280_000:]"
      ],
      "metadata": {
        "id": "WDYtB5U1zgH_"
      },
      "execution_count": 11,
      "outputs": []
    },
    {
      "cell_type": "code",
      "source": [
        "data_df.isna().sum()"
      ],
      "metadata": {
        "colab": {
          "base_uri": "https://localhost:8080/"
        },
        "id": "nAZryVMdIaPP",
        "outputId": "03481091-0199-47bb-e401-13f6321c9649"
      },
      "execution_count": 12,
      "outputs": [
        {
          "output_type": "execute_result",
          "data": {
            "text/plain": [
              "Time      0\n",
              "V1        0\n",
              "V2        0\n",
              "V3        0\n",
              "V4        0\n",
              "V5        0\n",
              "V6        0\n",
              "V7        0\n",
              "V8        0\n",
              "V9        0\n",
              "V10       0\n",
              "V11       0\n",
              "V12       0\n",
              "V13       0\n",
              "V14       0\n",
              "V15       0\n",
              "V16       0\n",
              "V17       0\n",
              "V18       0\n",
              "V19       0\n",
              "V20       0\n",
              "V21       0\n",
              "V22       0\n",
              "V23       0\n",
              "V24       0\n",
              "V25       0\n",
              "V26       0\n",
              "V27       0\n",
              "V28       0\n",
              "Amount    0\n",
              "Class     0\n",
              "dtype: int64"
            ]
          },
          "metadata": {},
          "execution_count": 12
        }
      ]
    },
    {
      "cell_type": "code",
      "source": [
        "train_df.columns"
      ],
      "metadata": {
        "colab": {
          "base_uri": "https://localhost:8080/"
        },
        "id": "F7sRQbLyIiyY",
        "outputId": "69f1b430-8b0e-4e9d-9aaf-5a560ee0ae1e"
      },
      "execution_count": 13,
      "outputs": [
        {
          "output_type": "execute_result",
          "data": {
            "text/plain": [
              "Index(['Time', 'V1', 'V2', 'V3', 'V4', 'V5', 'V6', 'V7', 'V8', 'V9', 'V10',\n",
              "       'V11', 'V12', 'V13', 'V14', 'V15', 'V16', 'V17', 'V18', 'V19', 'V20',\n",
              "       'V21', 'V22', 'V23', 'V24', 'V25', 'V26', 'V27', 'V28', 'Amount',\n",
              "       'Class'],\n",
              "      dtype='object')"
            ]
          },
          "metadata": {},
          "execution_count": 13
        }
      ]
    },
    {
      "cell_type": "code",
      "source": [
        "X_features = ['V1', 'V2', 'V3', 'V4', 'V5', 'V6', 'V7', 'V8', 'V9', 'V10',\n",
        "       'V11', 'V12', 'V13', 'V14', 'V15', 'V16', 'V17', 'V18', 'V19', 'V20',\n",
        "       'V21', 'V22', 'V23', 'V24', 'V25', 'V26', 'V27', 'V28', 'Amount']"
      ],
      "metadata": {
        "id": "eBjm9LyMJoou"
      },
      "execution_count": 14,
      "outputs": []
    },
    {
      "cell_type": "code",
      "source": [
        "#DIVIDE DATA TO TRAIN AND TEST\n",
        "X_train, X_val, y_train, y_val = train_test_split(train_df[X_features], \n",
        "                                                                      train_df['Class'],\n",
        "                                                                      shuffle=True, \n",
        "                                                                      test_size=0.3,random_state=RS)\n"
      ],
      "metadata": {
        "id": "26b0YLehJhxe"
      },
      "execution_count": 15,
      "outputs": []
    },
    {
      "cell_type": "code",
      "source": [
        "clf = CatBoostClassifier(\n",
        "    iterations=1000,\n",
        "    depth = 16,\n",
        "    learning_rate=0.01,\n",
        "    loss_function='CrossEntropy',\n",
        "    task_type='CPU',\n",
        "    early_stopping_rounds= 90,\n",
        "    use_best_model= True,\n",
        "    random_seed=RS,\n",
        "    verbose= 20\n",
        ")"
      ],
      "metadata": {
        "id": "hv_s2zJtJ7OK"
      },
      "execution_count": 18,
      "outputs": []
    },
    {
      "cell_type": "code",
      "source": [
        "#Train the model using the training sets y_pred=clf.predict(X_test)\n",
        "clf.fit(X_train,y_train,eval_set=(X_val,y_val),plot=True)"
      ],
      "metadata": {
        "colab": {
          "base_uri": "https://localhost:8080/",
          "height": 1000,
          "referenced_widgets": [
            "133e696ee4874cdb985709cfc0a47516"
          ]
        },
        "id": "HkDZoI7QKTd7",
        "outputId": "3b74beb7-4627-46bc-edad-dbf6b07527d7"
      },
      "execution_count": 19,
      "outputs": [
        {
          "output_type": "display_data",
          "data": {
            "text/plain": [
              "MetricVisualizer(layout=Layout(align_self='stretch', height='500px'))"
            ],
            "application/vnd.jupyter.widget-view+json": {
              "version_major": 2,
              "version_minor": 0,
              "model_id": "133e696ee4874cdb985709cfc0a47516"
            }
          },
          "metadata": {}
        },
        {
          "output_type": "stream",
          "name": "stdout",
          "text": [
            "0:\tlearn: 0.6601570\ttest: 0.6603350\tbest: 0.6603350 (0)\ttotal: 11.2s\tremaining: 3h 6m 41s\n",
            "20:\tlearn: 0.2588379\ttest: 0.2601291\tbest: 0.2601291 (20)\ttotal: 3m 55s\tremaining: 3h 3m 6s\n",
            "40:\tlearn: 0.1050209\ttest: 0.1062582\tbest: 0.1062582 (40)\ttotal: 7m 20s\tremaining: 2h 51m 38s\n",
            "60:\tlearn: 0.0497257\ttest: 0.0507738\tbest: 0.0507738 (60)\ttotal: 11m 4s\tremaining: 2h 50m 34s\n",
            "80:\tlearn: 0.0275459\ttest: 0.0285103\tbest: 0.0285103 (80)\ttotal: 14m 38s\tremaining: 2h 46m 8s\n",
            "100:\tlearn: 0.0174347\ttest: 0.0183754\tbest: 0.0183754 (100)\ttotal: 18m 11s\tremaining: 2h 41m 52s\n",
            "120:\tlearn: 0.0122182\ttest: 0.0131685\tbest: 0.0131685 (120)\ttotal: 21m 51s\tremaining: 2h 38m 45s\n",
            "140:\tlearn: 0.0090840\ttest: 0.0100534\tbest: 0.0100534 (140)\ttotal: 25m 21s\tremaining: 2h 34m 26s\n",
            "160:\tlearn: 0.0071749\ttest: 0.0081744\tbest: 0.0081744 (160)\ttotal: 28m 50s\tremaining: 2h 30m 16s\n",
            "180:\tlearn: 0.0057490\ttest: 0.0067705\tbest: 0.0067705 (180)\ttotal: 32m 28s\tremaining: 2h 26m 57s\n",
            "200:\tlearn: 0.0048621\ttest: 0.0059212\tbest: 0.0059212 (200)\ttotal: 35m 57s\tremaining: 2h 22m 57s\n",
            "220:\tlearn: 0.0041869\ttest: 0.0052776\tbest: 0.0052776 (220)\ttotal: 39m 26s\tremaining: 2h 19m 2s\n",
            "240:\tlearn: 0.0036855\ttest: 0.0048095\tbest: 0.0048095 (240)\ttotal: 43m 5s\tremaining: 2h 15m 41s\n",
            "260:\tlearn: 0.0032809\ttest: 0.0044408\tbest: 0.0044408 (260)\ttotal: 46m 34s\tremaining: 2h 11m 52s\n",
            "280:\tlearn: 0.0029658\ttest: 0.0041622\tbest: 0.0041622 (280)\ttotal: 50m 4s\tremaining: 2h 8m 6s\n",
            "300:\tlearn: 0.0026937\ttest: 0.0039255\tbest: 0.0039255 (300)\ttotal: 53m 42s\tremaining: 2h 4m 44s\n",
            "320:\tlearn: 0.0024446\ttest: 0.0037081\tbest: 0.0037081 (320)\ttotal: 57m 13s\tremaining: 2h 1m 2s\n",
            "340:\tlearn: 0.0022349\ttest: 0.0035281\tbest: 0.0035281 (340)\ttotal: 1h 40s\tremaining: 1h 57m 14s\n",
            "360:\tlearn: 0.0020523\ttest: 0.0033783\tbest: 0.0033783 (360)\ttotal: 1h 4m 16s\tremaining: 1h 53m 45s\n",
            "380:\tlearn: 0.0018968\ttest: 0.0032497\tbest: 0.0032497 (380)\ttotal: 1h 7m 43s\tremaining: 1h 50m 1s\n",
            "400:\tlearn: 0.0017516\ttest: 0.0031272\tbest: 0.0031272 (400)\ttotal: 1h 11m 10s\tremaining: 1h 46m 19s\n",
            "420:\tlearn: 0.0016284\ttest: 0.0030320\tbest: 0.0030320 (420)\ttotal: 1h 14m 48s\tremaining: 1h 42m 52s\n",
            "440:\tlearn: 0.0015194\ttest: 0.0029511\tbest: 0.0029511 (440)\ttotal: 1h 18m 16s\tremaining: 1h 39m 12s\n",
            "460:\tlearn: 0.0014226\ttest: 0.0028828\tbest: 0.0028828 (460)\ttotal: 1h 21m 44s\tremaining: 1h 35m 34s\n",
            "480:\tlearn: 0.0013332\ttest: 0.0028183\tbest: 0.0028183 (480)\ttotal: 1h 25m 23s\tremaining: 1h 32m 8s\n",
            "500:\tlearn: 0.0012508\ttest: 0.0027592\tbest: 0.0027592 (500)\ttotal: 1h 28m 52s\tremaining: 1h 28m 31s\n",
            "520:\tlearn: 0.0011782\ttest: 0.0027097\tbest: 0.0027097 (520)\ttotal: 1h 32m 21s\tremaining: 1h 24m 54s\n",
            "540:\tlearn: 0.0011133\ttest: 0.0026657\tbest: 0.0026657 (540)\ttotal: 1h 36m 3s\tremaining: 1h 21m 30s\n",
            "560:\tlearn: 0.0010508\ttest: 0.0026254\tbest: 0.0026254 (560)\ttotal: 1h 39m 31s\tremaining: 1h 17m 52s\n",
            "580:\tlearn: 0.0009962\ttest: 0.0025910\tbest: 0.0025910 (580)\ttotal: 1h 43m 10s\tremaining: 1h 14m 24s\n",
            "600:\tlearn: 0.0009483\ttest: 0.0025636\tbest: 0.0025636 (600)\ttotal: 1h 46m 38s\tremaining: 1h 10m 48s\n",
            "620:\tlearn: 0.0009037\ttest: 0.0025386\tbest: 0.0025386 (620)\ttotal: 1h 50m 8s\tremaining: 1h 7m 13s\n",
            "640:\tlearn: 0.0008594\ttest: 0.0025118\tbest: 0.0025118 (640)\ttotal: 1h 53m 49s\tremaining: 1h 3m 45s\n",
            "660:\tlearn: 0.0008191\ttest: 0.0024898\tbest: 0.0024898 (660)\ttotal: 1h 57m 18s\tremaining: 1h 10s\n",
            "680:\tlearn: 0.0007834\ttest: 0.0024710\tbest: 0.0024710 (680)\ttotal: 2h 48s\tremaining: 56m 35s\n",
            "700:\tlearn: 0.0007505\ttest: 0.0024529\tbest: 0.0024529 (700)\ttotal: 2h 4m 27s\tremaining: 53m 5s\n",
            "720:\tlearn: 0.0007181\ttest: 0.0024352\tbest: 0.0024352 (720)\ttotal: 2h 7m 57s\tremaining: 49m 30s\n",
            "740:\tlearn: 0.0006894\ttest: 0.0024201\tbest: 0.0024201 (740)\ttotal: 2h 11m 27s\tremaining: 45m 56s\n",
            "760:\tlearn: 0.0006628\ttest: 0.0024068\tbest: 0.0024068 (760)\ttotal: 2h 15m 4s\tremaining: 42m 25s\n",
            "780:\tlearn: 0.0006367\ttest: 0.0023929\tbest: 0.0023929 (780)\ttotal: 2h 18m 31s\tremaining: 38m 50s\n",
            "800:\tlearn: 0.0006139\ttest: 0.0023819\tbest: 0.0023819 (800)\ttotal: 2h 21m 58s\tremaining: 35m 16s\n",
            "820:\tlearn: 0.0005923\ttest: 0.0023715\tbest: 0.0023715 (820)\ttotal: 2h 25m 34s\tremaining: 31m 44s\n",
            "840:\tlearn: 0.0005728\ttest: 0.0023616\tbest: 0.0023616 (840)\ttotal: 2h 29m 1s\tremaining: 28m 10s\n",
            "860:\tlearn: 0.0005527\ttest: 0.0023521\tbest: 0.0023521 (860)\ttotal: 2h 32m 29s\tremaining: 24m 37s\n",
            "880:\tlearn: 0.0005348\ttest: 0.0023431\tbest: 0.0023431 (880)\ttotal: 2h 36m 3s\tremaining: 21m 4s\n",
            "900:\tlearn: 0.0005190\ttest: 0.0023363\tbest: 0.0023363 (900)\ttotal: 2h 39m 34s\tremaining: 17m 32s\n",
            "920:\tlearn: 0.0005034\ttest: 0.0023285\tbest: 0.0023285 (920)\ttotal: 2h 43m 2s\tremaining: 13m 59s\n",
            "940:\tlearn: 0.0004897\ttest: 0.0023226\tbest: 0.0023226 (940)\ttotal: 2h 46m 41s\tremaining: 10m 27s\n",
            "960:\tlearn: 0.0004763\ttest: 0.0023155\tbest: 0.0023155 (960)\ttotal: 2h 50m 9s\tremaining: 6m 54s\n",
            "980:\tlearn: 0.0004638\ttest: 0.0023112\tbest: 0.0023112 (980)\ttotal: 2h 53m 36s\tremaining: 3m 21s\n",
            "999:\tlearn: 0.0004522\ttest: 0.0023063\tbest: 0.0023063 (999)\ttotal: 2h 57m\tremaining: 0us\n",
            "\n",
            "bestTest = 0.002306313788\n",
            "bestIteration = 999\n",
            "\n"
          ]
        },
        {
          "output_type": "execute_result",
          "data": {
            "text/plain": [
              "<catboost.core.CatBoostClassifier at 0x7f9a71e33a50>"
            ]
          },
          "metadata": {},
          "execution_count": 19
        }
      ]
    },
    {
      "cell_type": "code",
      "source": [
        "y_pred=clf.predict(X_val)\n",
        "y_pred[:20]"
      ],
      "metadata": {
        "colab": {
          "base_uri": "https://localhost:8080/"
        },
        "id": "GiBHmKf5KiiZ",
        "outputId": "9a13865b-7ef2-4e6f-b017-25fe77ba8696"
      },
      "execution_count": 20,
      "outputs": [
        {
          "output_type": "execute_result",
          "data": {
            "text/plain": [
              "array([0, 0, 0, 0, 0, 0, 0, 0, 0, 0, 0, 0, 0, 0, 0, 0, 0, 0, 0, 0])"
            ]
          },
          "metadata": {},
          "execution_count": 20
        }
      ]
    },
    {
      "cell_type": "code",
      "source": [
        "feature_importance = sorted(zip(map(lambda x: round(x, 4), \n",
        "                                    clf.feature_importances_), \n",
        "                                X_features), \n",
        "             reverse=True)\n",
        "\n",
        "for i in range(len(feature_importance)):\n",
        "  print(feature_importance[i])"
      ],
      "metadata": {
        "colab": {
          "base_uri": "https://localhost:8080/"
        },
        "id": "YvdQjksb69I0",
        "outputId": "1c0059fb-c483-4b34-a877-8179970ecb29"
      },
      "execution_count": 21,
      "outputs": [
        {
          "output_type": "stream",
          "name": "stdout",
          "text": [
            "(8.6105, 'V2')\n",
            "(7.0749, 'V1')\n",
            "(6.7205, 'V17')\n",
            "(6.0266, 'V26')\n",
            "(5.784, 'Amount')\n",
            "(4.4096, 'V4')\n",
            "(3.7474, 'V25')\n",
            "(3.6462, 'V13')\n",
            "(3.5567, 'V12')\n",
            "(3.4889, 'V8')\n",
            "(3.4395, 'V20')\n",
            "(3.1965, 'V9')\n",
            "(3.1629, 'V10')\n",
            "(3.1007, 'V6')\n",
            "(2.8824, 'V22')\n",
            "(2.8493, 'V21')\n",
            "(2.8298, 'V28')\n",
            "(2.7417, 'V15')\n",
            "(2.5258, 'V11')\n",
            "(2.5044, 'V27')\n",
            "(2.4236, 'V14')\n",
            "(2.4132, 'V24')\n",
            "(2.3135, 'V16')\n",
            "(2.3081, 'V7')\n",
            "(1.9486, 'V3')\n",
            "(1.7927, 'V23')\n",
            "(1.6535, 'V18')\n",
            "(1.4498, 'V19')\n",
            "(1.3987, 'V5')\n"
          ]
        }
      ]
    },
    {
      "cell_type": "code",
      "source": [
        "clf.score(X_val,y_val)"
      ],
      "metadata": {
        "colab": {
          "base_uri": "https://localhost:8080/"
        },
        "id": "dE_b7hzcMEKo",
        "outputId": "41d6eaee-a445-46bc-fb00-d4df9f8b730b"
      },
      "execution_count": 22,
      "outputs": [
        {
          "output_type": "execute_result",
          "data": {
            "text/plain": [
              "0.9996428571428572"
            ]
          },
          "metadata": {},
          "execution_count": 22
        }
      ]
    },
    {
      "cell_type": "code",
      "source": [
        "y_test = clf.predict(test_df[X_features])\n",
        "clf.score(y_test,test_df['Class'])"
      ],
      "metadata": {
        "colab": {
          "base_uri": "https://localhost:8080/"
        },
        "id": "IEBIo3Ta1Ljr",
        "outputId": "81609ba8-8ac3-4ff6-e8aa-688f757ce847"
      },
      "execution_count": 23,
      "outputs": [
        {
          "output_type": "execute_result",
          "data": {
            "text/plain": [
              "0.9991678801747451"
            ]
          },
          "metadata": {},
          "execution_count": 23
        }
      ]
    },
    {
      "cell_type": "code",
      "source": [
        "metrics.f1_score(y_val,y_pred)"
      ],
      "metadata": {
        "colab": {
          "base_uri": "https://localhost:8080/"
        },
        "id": "Vis96q83MY8Y",
        "outputId": "09a837cc-5a2c-4da9-a658-c7f4aebfc280"
      },
      "execution_count": 24,
      "outputs": [
        {
          "output_type": "execute_result",
          "data": {
            "text/plain": [
              "0.879032258064516"
            ]
          },
          "metadata": {},
          "execution_count": 24
        }
      ]
    },
    {
      "cell_type": "code",
      "source": [
        "#построим матрицу сопряженности confusion matrix\n",
        "target_names = ['fraud operation 1', 'normal operation 0']\n",
        "report = metrics.classification_report(y_val, y_pred,target_names=target_names)\n",
        "report.split('\\n')\n",
        "print(report[:170])"
      ],
      "metadata": {
        "colab": {
          "base_uri": "https://localhost:8080/"
        },
        "id": "XeF3A8rsBlbh",
        "outputId": "91605a46-e296-48a2-9bb7-1296b431a7b5"
      },
      "execution_count": 25,
      "outputs": [
        {
          "output_type": "stream",
          "name": "stdout",
          "text": [
            "                    precision    recall  f1-score   support\n",
            "\n",
            " fraud operation 1       1.00      1.00      1.00     83864\n",
            "normal operation 0       0.97      0.80      0.88\n"
          ]
        }
      ]
    },
    {
      "cell_type": "markdown",
      "source": [
        "ошибки первого рода - пропуск цели\n",
        "\n",
        "ошибки второго рода - ложное срабатывание"
      ],
      "metadata": {
        "id": "iAvO1CxbFY06"
      }
    },
    {
      "cell_type": "code",
      "source": [
        "#save model in order to use in Java spring boot application\n",
        "clf.save_model('clf_cb.cbm',\n",
        "               format='cbm')"
      ],
      "metadata": {
        "id": "s6zd7w-wEmVO"
      },
      "execution_count": 26,
      "outputs": []
    },
    {
      "cell_type": "code",
      "source": [
        "!ls"
      ],
      "metadata": {
        "colab": {
          "base_uri": "https://localhost:8080/"
        },
        "id": "DZQrKBe51nzy",
        "outputId": "83f4da60-e3ef-4f20-f661-4ecf5739690c"
      },
      "execution_count": 27,
      "outputs": [
        {
          "output_type": "stream",
          "name": "stdout",
          "text": [
            "archive.zip  catboost_info  clf_cb.cbm\tcreditcard.csv\tgdrive\tsample_data\n"
          ]
        }
      ]
    },
    {
      "cell_type": "code",
      "source": [
        "#load binary file, we will use in web application\n",
        "from google.colab import files\n",
        "files.download('clf_cb.cbm')"
      ],
      "metadata": {
        "colab": {
          "base_uri": "https://localhost:8080/",
          "height": 17
        },
        "id": "uqpihkVD1pQI",
        "outputId": "5bbb9e8e-fbce-4ee8-e8c7-410e3baf3d21"
      },
      "execution_count": 28,
      "outputs": [
        {
          "output_type": "display_data",
          "data": {
            "text/plain": [
              "<IPython.core.display.Javascript object>"
            ],
            "application/javascript": [
              "\n",
              "    async function download(id, filename, size) {\n",
              "      if (!google.colab.kernel.accessAllowed) {\n",
              "        return;\n",
              "      }\n",
              "      const div = document.createElement('div');\n",
              "      const label = document.createElement('label');\n",
              "      label.textContent = `Downloading \"${filename}\": `;\n",
              "      div.appendChild(label);\n",
              "      const progress = document.createElement('progress');\n",
              "      progress.max = size;\n",
              "      div.appendChild(progress);\n",
              "      document.body.appendChild(div);\n",
              "\n",
              "      const buffers = [];\n",
              "      let downloaded = 0;\n",
              "\n",
              "      const channel = await google.colab.kernel.comms.open(id);\n",
              "      // Send a message to notify the kernel that we're ready.\n",
              "      channel.send({})\n",
              "\n",
              "      for await (const message of channel.messages) {\n",
              "        // Send a message to notify the kernel that we're ready.\n",
              "        channel.send({})\n",
              "        if (message.buffers) {\n",
              "          for (const buffer of message.buffers) {\n",
              "            buffers.push(buffer);\n",
              "            downloaded += buffer.byteLength;\n",
              "            progress.value = downloaded;\n",
              "          }\n",
              "        }\n",
              "      }\n",
              "      const blob = new Blob(buffers, {type: 'application/binary'});\n",
              "      const a = document.createElement('a');\n",
              "      a.href = window.URL.createObjectURL(blob);\n",
              "      a.download = filename;\n",
              "      div.appendChild(a);\n",
              "      a.click();\n",
              "      div.remove();\n",
              "    }\n",
              "  "
            ]
          },
          "metadata": {}
        },
        {
          "output_type": "display_data",
          "data": {
            "text/plain": [
              "<IPython.core.display.Javascript object>"
            ],
            "application/javascript": [
              "download(\"download_78513d88-ab03-4cf4-8ba5-a7b6f362d640\", \"clf_cb.cbm\", 1047688264)"
            ]
          },
          "metadata": {}
        }
      ]
    },
    {
      "cell_type": "code",
      "source": [
        ""
      ],
      "metadata": {
        "id": "vdOaB5YFiPFE"
      },
      "execution_count": null,
      "outputs": []
    },
    {
      "cell_type": "code",
      "source": [
        ""
      ],
      "metadata": {
        "id": "coVxQQp6Ema7"
      },
      "execution_count": null,
      "outputs": []
    }
  ]
}